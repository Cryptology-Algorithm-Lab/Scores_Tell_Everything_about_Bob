{
 "cells": [
  {
   "cell_type": "code",
   "execution_count": 1,
   "id": "391c060c",
   "metadata": {
    "scrolled": true
   },
   "outputs": [
    {
     "name": "stdout",
     "output_type": "stream",
     "text": [
      "=========================================================\n",
      "load the dataset to compute threshold (open-source FRS)\n",
      "loading bin 0\n",
      "loading bin 1000\n",
      "loading bin 2000\n",
      "loading bin 3000\n",
      "loading bin 4000\n",
      "loading bin 5000\n",
      "loading bin 6000\n",
      "loading bin 7000\n",
      "loading bin 8000\n",
      "loading bin 9000\n",
      "loading bin 10000\n",
      "loading bin 11000\n",
      "torch.Size([12000, 3, 112, 112])\n",
      "\n",
      "testing verification..\n",
      "(12000, 512)\n",
      "infer time 37.48263600000001\n",
      "Accuracy: 0.998\n",
      " \n",
      "Angle distance: 60.732438018326135\n",
      "Threshold: 72.54239687627792\n",
      "success!!\n"
     ]
    }
   ],
   "source": [
    "!python3 Attack.py --source='t1' --target='t1' --id=310 --type=1"
   ]
  },
  {
   "cell_type": "code",
   "execution_count": 2,
   "id": "53b1e928",
   "metadata": {
    "scrolled": true
   },
   "outputs": [
    {
     "name": "stdout",
     "output_type": "stream",
     "text": [
      "=========================================================\n",
      "self.device_id 0\n",
      "load the dataset to compute threshold (open-source FRS)\n",
      "loading bin 0\n",
      "loading bin 1000\n",
      "loading bin 2000\n",
      "loading bin 3000\n",
      "loading bin 4000\n",
      "loading bin 5000\n",
      "loading bin 6000\n",
      "loading bin 7000\n",
      "loading bin 8000\n",
      "loading bin 9000\n",
      "loading bin 10000\n",
      "loading bin 11000\n",
      "torch.Size([12000, 3, 112, 112])\n",
      "\n",
      "testing verification..\n",
      "(12000, 512)\n",
      "infer time 72.45663199999998\n",
      "Accuracy: 0.998\n",
      " \n",
      "Angle distance: 67.982292295594\n",
      "Threshold: 77.29096700560457\n",
      "success!!\n"
     ]
    }
   ],
   "source": [
    "!python3 Attack.py --source='t2' --target='t2' --id=310 --type=2"
   ]
  },
  {
   "cell_type": "code",
   "execution_count": 3,
   "id": "d2eb016a",
   "metadata": {
    "scrolled": true
   },
   "outputs": [
    {
     "name": "stdout",
     "output_type": "stream",
     "text": [
      "=========================================================\n",
      "load the dataset to compute threshold (open-source FRS)\n",
      "loading bin 0\n",
      "loading bin 1000\n",
      "loading bin 2000\n",
      "loading bin 3000\n",
      "loading bin 4000\n",
      "loading bin 5000\n",
      "loading bin 6000\n",
      "loading bin 7000\n",
      "loading bin 8000\n",
      "loading bin 9000\n",
      "loading bin 10000\n",
      "loading bin 11000\n",
      "torch.Size([12000, 3, 112, 112])\n",
      "\n",
      "testing verification..\n",
      "(12000, 512)\n",
      "infer time 21.395075\n",
      "Accuracy: 0.998\n",
      " \n",
      "loading bin 0\n",
      "loading bin 1000\n",
      "loading bin 2000\n",
      "loading bin 3000\n",
      "loading bin 4000\n",
      "loading bin 5000\n",
      "loading bin 6000\n",
      "loading bin 7000\n",
      "loading bin 8000\n",
      "loading bin 9000\n",
      "loading bin 10000\n",
      "loading bin 11000\n",
      "torch.Size([12000, 3, 112, 112])\n",
      "\n",
      "testing verification..\n",
      "(12000, 512)\n",
      "infer time 7.871198999999993\n",
      "Accuracy: 0.9951666666666666\n",
      " \n",
      "Angle distance: 53.5181103471209\n",
      "Threshold: 74.92993785511116\n",
      "success!!\n"
     ]
    }
   ],
   "source": [
    "!python3 Attack.py --source='t3' --target='t4' --id=2167 --type=1"
   ]
  },
  {
   "cell_type": "code",
   "execution_count": 4,
   "id": "d4104bf1",
   "metadata": {
    "scrolled": true
   },
   "outputs": [
    {
     "name": "stdout",
     "output_type": "stream",
     "text": [
      "=========================================================\n",
      "self.device_id 0\n",
      "load the dataset to compute threshold (open-source FRS)\n",
      "loading bin 0\n",
      "loading bin 1000\n",
      "loading bin 2000\n",
      "loading bin 3000\n",
      "loading bin 4000\n",
      "loading bin 5000\n",
      "loading bin 6000\n",
      "loading bin 7000\n",
      "loading bin 8000\n",
      "loading bin 9000\n",
      "loading bin 10000\n",
      "loading bin 11000\n",
      "torch.Size([12000, 3, 112, 112])\n",
      "\n",
      "testing verification..\n",
      "(12000, 512)\n",
      "infer time 72.44418399999999\n",
      "Accuracy: 0.998\n",
      " \n",
      "loading bin 0\n",
      "loading bin 1000\n",
      "loading bin 2000\n",
      "loading bin 3000\n",
      "loading bin 4000\n",
      "loading bin 5000\n",
      "loading bin 6000\n",
      "loading bin 7000\n",
      "loading bin 8000\n",
      "loading bin 9000\n",
      "loading bin 10000\n",
      "loading bin 11000\n",
      "torch.Size([12000, 3, 160, 160])\n",
      "\n",
      "testing verification..\n",
      "(12000, 512)\n",
      "infer time 16.606136000000006\n",
      "Accuracy: 0.9843333333333332\n",
      " \n",
      "Angle distance: 52.64972439344648\n",
      "Threshold: 64.53243985752763\n",
      "success!!\n"
     ]
    }
   ],
   "source": [
    "!python3 Attack.py --source='t2' --target='t5' --id=310 --type=2"
   ]
  },
  {
   "cell_type": "code",
   "execution_count": 6,
   "id": "b0c32ccd",
   "metadata": {
    "scrolled": true
   },
   "outputs": [
    {
     "name": "stdout",
     "output_type": "stream",
     "text": [
      "=========================================================\n",
      "load the dataset to compute threshold (open-source FRS)\n",
      "loading bin 0\n",
      "loading bin 1000\n",
      "loading bin 2000\n",
      "loading bin 3000\n",
      "loading bin 4000\n",
      "loading bin 5000\n",
      "loading bin 6000\n",
      "loading bin 7000\n",
      "loading bin 8000\n",
      "loading bin 9000\n",
      "loading bin 10000\n",
      "loading bin 11000\n",
      "torch.Size([12000, 3, 112, 112])\n",
      "\n",
      "testing verification..\n",
      "(12000, 512)\n",
      "infer time 37.44789\n",
      "Accuracy: 0.998\n",
      " \n",
      "Confidence score: 75.64054107666016\n",
      "Threshold: 80\n",
      "fail..\n"
     ]
    }
   ],
   "source": [
    "!python3 Attack.py --source='t1' --target='AWS' --id=760 --type=2"
   ]
  },
  {
   "cell_type": "code",
   "execution_count": 8,
   "id": "a0d6c337",
   "metadata": {
    "scrolled": true
   },
   "outputs": [
    {
     "name": "stdout",
     "output_type": "stream",
     "text": [
      "=========================================================\n",
      " \n",
      "Querying to AWS...\n",
      " \n",
      "Confidence score: 90.72358703613281\n",
      "Threshold: 80\n",
      "success!!\n"
     ]
    }
   ],
   "source": [
    "!python3 Attack.py --source='AWS' --target='AWS' --id=2167 --type=2"
   ]
  },
  {
   "cell_type": "code",
   "execution_count": 9,
   "id": "aafce02a",
   "metadata": {
    "scrolled": true
   },
   "outputs": [
    {
     "name": "stdout",
     "output_type": "stream",
     "text": [
      "=========================================================\n",
      " \n",
      "loading bin 0\n",
      "loading bin 1000\n",
      "loading bin 2000\n",
      "loading bin 3000\n",
      "loading bin 4000\n",
      "loading bin 5000\n",
      "loading bin 6000\n",
      "loading bin 7000\n",
      "loading bin 8000\n",
      "loading bin 9000\n",
      "loading bin 10000\n",
      "loading bin 11000\n",
      "torch.Size([12000, 3, 112, 112])\n",
      "\n",
      "testing verification..\n",
      "(12000, 512)\n",
      "infer time 37.452583999999966\n",
      "Accuracy: 0.998\n",
      " \n",
      "Querying to AWS...\n",
      " \n",
      "Angle distance: 68.64317538510312\n",
      "Threshold: 72.54239687627792\n",
      "success!!\n"
     ]
    }
   ],
   "source": [
    "!python3 Attack.py --source='AWS' --target='t1'"
   ]
  },
  {
   "cell_type": "code",
   "execution_count": null,
   "id": "6d856431",
   "metadata": {},
   "outputs": [],
   "source": []
  },
  {
   "cell_type": "code",
   "execution_count": null,
   "id": "b958c755",
   "metadata": {},
   "outputs": [],
   "source": []
  },
  {
   "cell_type": "code",
   "execution_count": null,
   "id": "2af97b2b",
   "metadata": {},
   "outputs": [],
   "source": []
  },
  {
   "cell_type": "code",
   "execution_count": null,
   "id": "f9c57ca0",
   "metadata": {},
   "outputs": [],
   "source": []
  },
  {
   "cell_type": "code",
   "execution_count": null,
   "id": "bead849b",
   "metadata": {},
   "outputs": [],
   "source": []
  }
 ],
 "metadata": {
  "kernelspec": {
   "display_name": "snp24",
   "language": "python",
   "name": "snp24"
  },
  "language_info": {
   "codemirror_mode": {
    "name": "ipython",
    "version": 3
   },
   "file_extension": ".py",
   "mimetype": "text/x-python",
   "name": "python",
   "nbconvert_exporter": "python",
   "pygments_lexer": "ipython3",
   "version": "3.9.15"
  }
 },
 "nbformat": 4,
 "nbformat_minor": 5
}
