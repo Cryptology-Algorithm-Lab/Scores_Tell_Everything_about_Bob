{
 "cells": [
  {
   "cell_type": "markdown",
   "id": "21c1916d",
   "metadata": {},
   "source": [
    "# Imports"
   ]
  },
  {
   "cell_type": "code",
   "execution_count": null,
   "id": "8b7a3bdc",
   "metadata": {
    "scrolled": true
   },
   "outputs": [],
   "source": [
    "import torch\n",
    "import math\n",
    "import matplotlib.pyplot as plt\n",
    "from easydict import EasyDict as edict\n",
    "from utils import utils, verification, verification_inverse\n",
    "from Reconstruction import direct_attack, transfer_attack"
   ]
  },
  {
   "cell_type": "markdown",
   "id": "b90f4409",
   "metadata": {},
   "source": [
    "### Desciption of the local FRS and the inverse model. (Architecture / Loss / Train_set)\n",
    "\n",
    "- Local FRS:     ResNet-50 / ArcFace            / MS1M-v3\n",
    "- Inverse model: NbNet     / Pixel and Perceptual / MS1M-v3"
   ]
  },
  {
   "cell_type": "code",
   "execution_count": null,
   "id": "6bc7c817",
   "metadata": {},
   "outputs": [],
   "source": [
    "device = torch.device('cuda:0')\n",
    "# Uncomment if you do not have a GPU:\n",
    "# device = torch.device('cpu')\n",
    "local = utils.local_FRS().eval().to(device)\n",
    "local_inverse = utils.local_inverse().eval().to(device)\n",
    "\n",
    "###### For checking the performance of our local and inverse models. You can use below code. ######\n",
    "# dataset_lfw = verification.load_bin('./utils/dataset/lfw.bin', (112, 112))\n",
    "# local_th = verification.test(dataset_lfw, local, 64, device, 10)\n",
    "# with torch.no_grad():\n",
    "#     verification_inverse.test_inverse(dataset_lfw, local, local_th, local_inverse, 64, device, 1)"
   ]
  },
  {
   "cell_type": "markdown",
   "id": "bab23bbf",
   "metadata": {},
   "source": [
    "### Description of open-source Target FRS (Architecture / Loss / Train_set)\n",
    "\n",
    "- t1: ResNet-100         / CosFace     / Glint360K\n",
    "- t2: Vision Transformer / CosFace     / MS1M-v3\n",
    "- t3: ResNet-50          / ArcFace     / WebFace12M\n",
    "- t4: SFNet-20           / SphereFace2 / VGGFace2\n",
    "- t5: Inception-ResNet   / Triplet     / CASIA-WebFace"
   ]
  },
  {
   "cell_type": "markdown",
   "id": "9fac5a24",
   "metadata": {},
   "source": [
    "### Attack Scenario\n",
    "- Direct_Type1 attack  : Face reconstruction a image against a target FRS.\n",
    "- Direct_Type2 attack  : Face reconstruction a image against a target FRS, and test with a different image of same identity.\n",
    "- Transfer_Type1 attack: Face reconstruction a image against a target FRS, and test against a different target FRS.\n",
    "- Transfer_Type2 attack: Face reconstruction a image against a target FRS, and test against a different target FRS with a different image of same identity."
   ]
  },
  {
   "cell_type": "code",
   "execution_count": null,
   "id": "35b3042c",
   "metadata": {
    "scrolled": true
   },
   "outputs": [],
   "source": [
    "# Modify here. Target FRS of direct attack.\n",
    "\n",
    "_target_FRS = 't5' # t1 ~ t5 and AWS\n",
    "direct_type = 2 # Type 1 or 2 attack\n",
    "target_id = 310 # Available samples: 310, 760, 2167"
   ]
  },
  {
   "cell_type": "code",
   "execution_count": null,
   "id": "2be79140",
   "metadata": {},
   "outputs": [],
   "source": [
    "vit = False\n",
    "imgsize = 112\n",
    "if _target_FRS !='AWS':\n",
    "    target_FRS = utils.target_FRS(_target_FRS, device)\n",
    "    target_FRS.eval().to(device)\n",
    "    \n",
    "    if _target_FRS == 't2':\n",
    "        vit = True\n",
    "    elif _target_FRS == 't5':\n",
    "        imgsize = 160\n",
    "    else:\n",
    "        vit = False\n",
    "        imgsize = 112\n",
    "\n",
    "    # Uncomment to compute the thresholds used for FRS\n",
    "    # dataset_lfw = verification.load_bin('./utils/dataset/lfw.bin', (imgsize, imgsize))\n",
    "    # th = verification.test(dataset_lfw, target_FRS, 64, device, 10, vit)\n",
    "    # th_angle = math.acos((th-2)/(-2))*180/math.pi\n",
    "    \n",
    "    # Uncomment to use angles as listed in paper\n",
    "    if _target_FRS == 't1':\n",
    "        th_angle = 72.5 # T1 angle\n",
    "    elif _target_FRS == 't2':\n",
    "        th_angle = 77.3 # T2 angle\n",
    "    elif _target_FRS == 't3':\n",
    "        th_angle = 74.3 # T3 angle\n",
    "    elif _target_FRS == 't4':\n",
    "        th_angle = 75.8 # T4 angle\n",
    "    elif _target_FRS == 't5':\n",
    "        th_angle = 63.6 # T5 angle\n",
    "    \n",
    "else:\n",
    "    target_FRS='AWS'\n",
    "    th_angle = 80 # threshold value for AWS (score value)"
   ]
  },
  {
   "cell_type": "markdown",
   "id": "3055f40e",
   "metadata": {},
   "source": [
    "# Direct Attack"
   ]
  },
  {
   "cell_type": "code",
   "execution_count": null,
   "id": "bf0de1d1",
   "metadata": {
    "scrolled": true
   },
   "outputs": [],
   "source": [
    "args = edict()\n",
    "args.device = device\n",
    "args.local = local\n",
    "args.local_inverse = local_inverse\n",
    "ofs = utils.ofs_load()\n",
    "ofs = ofs.to(device)\n",
    "args.ofs = ofs\n",
    "args.bb_FRS = target_FRS\n",
    "args.bb_th = th_angle\n",
    "args.bb_imgsize = imgsize\n",
    "args.direct_type = direct_type\n",
    "args.target_id = target_id\n",
    "args.vit = vit\n",
    "\n",
    "recon, cos = direct_attack(args)\n",
    "\n",
    "#plot\n",
    "targetimg1 = utils.targetimg_type1(imgsize=args.bb_imgsize, target_id=args.target_id)\n",
    "\n",
    "plt.subplot(1, direct_type+1, 1)\n",
    "plt.axis('off')\n",
    "plt.imshow(targetimg1)\n",
    "plt.title('Target image - Type 1')\n",
    "\n",
    "plt.subplot(1, direct_type+1, 2)\n",
    "plt.axis('off')\n",
    "plt.imshow(recon)\n",
    "plt.title('Reconstruction')\n",
    "\n",
    "if direct_type==2:\n",
    "    targetimg2 = utils.targetimg_type2(imgsize=args.bb_imgsize, target_id=args.target_id)\n",
    "    plt.subplot(1, 3, 3)\n",
    "    plt.axis('off')\n",
    "    plt.imshow(targetimg2)\n",
    "    plt.title('Target image - Type 2')\n",
    "    \n",
    "plt.show()\n",
    "if target_FRS!='AWS':\n",
    "    print('Angle distance:', math.acos(cos)*180/math.pi)\n",
    "    print('Threshold:', args.bb_th)\n",
    "else:\n",
    "    print('Confidence score:', cos)\n",
    "    print('Threshold:', args.bb_th)"
   ]
  },
  {
   "cell_type": "markdown",
   "id": "208592c0",
   "metadata": {},
   "source": [
    "# Transfer Attack"
   ]
  },
  {
   "cell_type": "code",
   "execution_count": null,
   "id": "88fa9a3c",
   "metadata": {},
   "outputs": [],
   "source": [
    "# Adds a target FRS of transfer attack.\n",
    "\n",
    "_target_FRS_transfer = 't2' # t1 ~ t5 and AWS\n",
    "transfer_type = 1 # 1 or 2"
   ]
  },
  {
   "cell_type": "code",
   "execution_count": null,
   "id": "8354920a",
   "metadata": {},
   "outputs": [],
   "source": [
    "transfer_vit = False\n",
    "imgsize_transfer = 112\n",
    "\n",
    "if _target_FRS_transfer !='AWS':\n",
    "    target_FRS_transfer = utils.target_FRS(target_FRS = _target_FRS_transfer).eval().to(device)\n",
    "            \n",
    "    if _target_FRS_transfer == 't2':\n",
    "        transfer_vit = True\n",
    "    elif _target_FRS_transfer == 't5':\n",
    "        imgsize = 160\n",
    "    else:\n",
    "        transfer_vit = False\n",
    "        imgsize_transfer = 112\n",
    "\n",
    "    # Uncomment to compute the thresholds used for FRS\n",
    "    # dataset_lfw = verification.load_bin('./utils/dataset/lfw.bin', (imgsize, imgsize))\n",
    "    # th_transfer = verification.test(dataset_lfw, target_FRS_transfer, 64, device, 10, transfer_vit)\n",
    "    # th_transfer_angle = math.acos((th_transfer-2)/(-2))*180/math.pi\n",
    "    \n",
    "    # Uncomment to use angles as listed in paper\n",
    "    if _target_FRS == 't1':\n",
    "        th_transfer_angle = 72.5 # T1 angle\n",
    "    elif _target_FRS == 't2':\n",
    "        th_transfer_angle = 77.3 # T2 angle\n",
    "    elif _target_FRS == 't3':\n",
    "        th_transfer_angle = 74.3 # T3 angle\n",
    "    elif _target_FRS == 't4':\n",
    "        th_transfer_angle = 75.8 # T4 angle\n",
    "    elif _target_FRS == 't5':\n",
    "        th_transfer_angle = 63.6 # T5 angle\n",
    "else:\n",
    "    target_FRS_transfer='AWS'\n",
    "    th_transfer_angle = 80"
   ]
  },
  {
   "cell_type": "code",
   "execution_count": null,
   "id": "845ef64e",
   "metadata": {
    "scrolled": true
   },
   "outputs": [],
   "source": [
    "args = edict()\n",
    "args.device = device\n",
    "args.local = local\n",
    "args.local_inverse = local_inverse\n",
    "args.ofs = utils.ofs_load()\n",
    "args.bb_FRS = target_FRS\n",
    "args.bb_th = th_angle\n",
    "args.bb_imgsize = imgsize\n",
    "args.direct_type = None\n",
    "args.transfer_FRS = target_FRS_transfer\n",
    "args.transfer_th = th_transfer_angle\n",
    "args.transfer_imgsize = imgsize_transfer\n",
    "args.transfer_type = transfer_type\n",
    "args.target_id = target_id\n",
    "args.vit = vit\n",
    "args.transfer_vit = transfer_vit\n",
    "\n",
    "recon, cos = transfer_attack(args)\n",
    "\n",
    "#plot\n",
    "targetimg1 = utils.targetimg_type1(imgsize=args.bb_imgsize, target_id=args.target_id)\n",
    "\n",
    "plt.subplot(1, transfer_type+1, 1)\n",
    "plt.axis('off')\n",
    "plt.imshow(targetimg1)\n",
    "plt.title('Target image - Type 1')\n",
    "\n",
    "plt.subplot(1, transfer_type+1, 2)\n",
    "plt.axis('off')\n",
    "plt.imshow(recon)\n",
    "plt.title('Reconstruction')\n",
    "\n",
    "if transfer_type==2:\n",
    "    targetimg2 = utils.targetimg_type2(imgsize=args.bb_imgsize, target_id=args.target_id)\n",
    "    plt.subplot(1, 3, 3)\n",
    "    plt.axis('off')\n",
    "    plt.imshow(targetimg2)\n",
    "    plt.title('Target image - Type 2')\n",
    "    \n",
    "plt.show()\n",
    "if target_FRS_transfer!='AWS':\n",
    "    print('Angle distance:', math.acos(cos)*180/math.pi)\n",
    "    print('Threshold:', args.transfer_th)\n",
    "else:\n",
    "    print('Confidence score:', cos)\n",
    "    print('Threshold:', args.transfer_th)"
   ]
  },
  {
   "cell_type": "markdown",
   "id": "d2f73cc5",
   "metadata": {},
   "source": [
    "# GenOFS\n",
    "Instead of our pre-generated OFS, you can generate your own OFS.\n",
    "You should prepare a dataset for extracting face templates to find orthogonal templates."
   ]
  },
  {
   "cell_type": "code",
   "execution_count": null,
   "id": "43ada7bd",
   "metadata": {},
   "outputs": [],
   "source": [
    "from GenOFS import *\n",
    "\n",
    "# device = torch.device('cuda:0')\n",
    "# Uncomment if you do not have a GPU:\n",
    "device = torch.device('cpu')\n",
    "savepath='./utils/param/ofs.pt'\n",
    "\n",
    "# For your dataset (ex: MS1MV3)\n",
    "# dataset = 'your dataset'\n",
    "\n",
    "# For checking using LFW (can not produce large number of OFS due to the number of contained image in LFW)\n",
    "dataset = verification.load_bin('./utils/dataset/lfw.bin', (112, 112))\n",
    "ofs_num = 30  # Modify the number of orthogonal face images that you want to generate.\n",
    "\n",
    "GenOFS(device, dataset, ofs_num, savepath) # OFS is saved in the form of tensors."
   ]
  },
  {
   "cell_type": "code",
   "execution_count": null,
   "id": "71897e36",
   "metadata": {},
   "outputs": [],
   "source": [
    "# Checking almost-orthogonality of OFS.\n",
    "ofs = torch.load(savepath)\n",
    "model = utils.local_FRS(device=device) # Modify here if you check the alomost-orthogonality in the different FRS.\n",
    "\n",
    "orthogonal_check(ofs, model)"
   ]
  }
 ],
 "metadata": {
  "kernelspec": {
   "display_name": "Python 3 (ipykernel)",
   "language": "python",
   "name": "python3"
  },
  "language_info": {
   "codemirror_mode": {
    "name": "ipython",
    "version": 3
   },
   "file_extension": ".py",
   "mimetype": "text/x-python",
   "name": "python",
   "nbconvert_exporter": "python",
   "pygments_lexer": "ipython3",
   "version": "3.9.15"
  }
 },
 "nbformat": 4,
 "nbformat_minor": 5
}
