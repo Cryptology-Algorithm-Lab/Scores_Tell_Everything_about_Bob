{
 "cells": [
  {
   "cell_type": "code",
   "execution_count": 1,
   "id": "395db5ac",
   "metadata": {},
   "outputs": [],
   "source": [
    "from PIL import Image\n",
    "from tqdm.auto import tqdm\n",
    "from numpy import asarray\n",
    "import math\n",
    "import torch\n",
    "from utils import utils, verification\n",
    "import os\n",
    "import lpips\n",
    "from torchvision import transforms\n",
    "from pytorch_msssim import ssim, ms_ssim, SSIM, MS_SSIM\n",
    "import pyiqa"
   ]
  },
  {
   "cell_type": "code",
   "execution_count": 2,
   "id": "d73f1624",
   "metadata": {
    "scrolled": true
   },
   "outputs": [],
   "source": [
    "def check(target_FRS='t1', source_FRS='AWS', dataset='LFW', device='cuda:0', target_bin=False):\n",
    "\n",
    "    # Valid source_FRS (string): t1, t2, t3, t4, t5, AWS, KAIROS, FACEPP\n",
    "    # Valid target_FRS (string): t1, t2, t3, t4, t5\n",
    "    # Valid dataset    (string): LFW, AGE, CFP\n",
    "    \n",
    "    print(\"Source FRS : \"+source_FRS)\n",
    "    print(\"Target FRS : \"+target_FRS)\n",
    "    print(\"Target Dataset : \"+dataset)\n",
    "    \n",
    "    # You can download png files including target images and corresponding reconstructed image using Zenodo link in README file.\n",
    "    # There are small ASR gap in terms of input image files (bin file or png file).\n",
    "    \n",
    "    device = torch.device(device)\n",
    "    blackbox = utils.target_FRS(target_FRS=target_FRS, device=device)\n",
    "    img_size = (112,112)\n",
    "    \n",
    "    if dataset=='LFW':\n",
    "        target_number = 3000\n",
    "        if target_FRS=='t1':\n",
    "            thx=72.54239687627792\n",
    "        elif target_FRS=='t2':\n",
    "            thx=77.29096700560457\n",
    "        elif target_FRS=='t3':\n",
    "            thx=74.33573314862649\n",
    "        elif target_FRS=='t4':\n",
    "            thx=75.81816627143655\n",
    "        elif target_FRS=='t5':\n",
    "            thx=63.57666123410324\n",
    "            img_size = (160,160)\n",
    "            \n",
    "        if target_bin:\n",
    "            print(\"Using bin file instead of png image\")\n",
    "            dataset_dir = \"./utils/dataset/lfw.bin\"\n",
    "            target_dataset = verification.load_bin(dataset_dir, img_size)\n",
    "            target_ind = torch.where(torch.tensor(target_dataset[1]))[0]\n",
    "            \n",
    "    elif dataset==\"AGE\":\n",
    "        target_number = 3000\n",
    "        if target_FRS=='t1':\n",
    "            thx=76.40837722605214\n",
    "        elif target_FRS=='t2':\n",
    "            thx=80.50276553148295\n",
    "        elif target_FRS=='t3':\n",
    "            thx=79.04721580110888\n",
    "        elif target_FRS=='t4':\n",
    "            thx=78.75527640762357\n",
    "        elif target_FRS=='t5':\n",
    "            thx=70.42746205557108\n",
    "            img_size = (160,160)\n",
    "            \n",
    "        if target_bin:\n",
    "            print(\"Using bin file instead of png image\")\n",
    "            dataset_dir = \"./utils/dataset/agedb_30.bin\"\n",
    "            target_dataset = verification.load_bin(dataset_dir, img_size)\n",
    "            target_ind = torch.where(torch.tensor(target_dataset[1]))[0]\n",
    "    \n",
    "    elif dataset==\"CFP\":\n",
    "        target_number = 3500\n",
    "        if target_FRS=='t1':\n",
    "            thx=77.29096700560457\n",
    "        elif target_FRS=='t2':\n",
    "            thx=81.08320374700904\n",
    "        elif target_FRS=='t3':\n",
    "            thx=79.63024019452259\n",
    "        elif target_FRS=='t4':\n",
    "            thx=81.08320374700904\n",
    "        elif target_FRS=='t5':\n",
    "            thx=73.73979529168804\n",
    "            img_size = (160,160)\n",
    "            \n",
    "        if target_bin:\n",
    "            print(\"Using bin file instead of png image\")\n",
    "            dataset_dir = \"./utils/dataset/cfp_fp.bin\"\n",
    "            target_dataset = verification.load_bin(dataset_dir, img_size)\n",
    "            target_ind = torch.where(torch.tensor(target_dataset[1]))[0]\n",
    "    \n",
    "    result = torch.zeros(2,target_number)\n",
    "\n",
    "    for i in tqdm(range(target_number)):\n",
    "        if target_bin:\n",
    "            if target_FRS == 't2':\n",
    "                data_Type1 = (target_dataset[0][0][0::2][int(target_ind[i])]).unsqueeze(0).to(device)\n",
    "                data_Type2 = (target_dataset[0][0][1::2][int(target_ind[i])]).unsqueeze(0).to(device)\n",
    "            else:\n",
    "                data_Type1 = ((target_dataset[0][0][0::2][int(target_ind[i])]-127.5)/255).unsqueeze(0).to(device)\n",
    "                data_Type2 = ((target_dataset[0][0][1::2][int(target_ind[i])]-127.5)/255).unsqueeze(0).to(device)\n",
    "        else:\n",
    "            img_Type1 = Image.open(\"./recon/\"+dataset+\"/Type1_\"+dataset+\"/\"+str(i)+\".png\")\n",
    "            img_Type1 = img_Type1.resize(img_size)\n",
    "            img_Type1 = img_Type1.convert('RGB')\n",
    "            data_Type1 = asarray(img_Type1)\n",
    "            if target_FRS == 't2':\n",
    "                data_Type1 = ((torch.Tensor(data_Type1))).permute(2,0,1).unsqueeze(0).to(device)\n",
    "            else:\n",
    "                data_Type1 = ((torch.tensor(data_Type1)-127.5)/255).permute(2,0,1).unsqueeze(0).to(device)\n",
    "\n",
    "            img_Type2 = Image.open(\"./recon/\"+dataset+\"/Type2_\"+dataset+\"/\"+str(i)+\".png\")\n",
    "            img_Type2 = img_Type2.resize(img_size)\n",
    "            img_Type2 = img_Type2.convert('RGB')\n",
    "            data_Type2 = asarray(img_Type2)\n",
    "            if target_FRS == 't2':\n",
    "                data_Type2 = ((torch.Tensor(data_Type2))).permute(2,0,1).unsqueeze(0).to(device)\n",
    "            else:\n",
    "                data_Type2 = ((torch.tensor(data_Type2)-127.5)/255).permute(2,0,1).unsqueeze(0).to(device)\n",
    "\n",
    "\n",
    "        img_recon = Image.open(\"./recon/\"+dataset+\"/\"+source_FRS+\"_\"+dataset+\"/\"+str(i)+\".png\")\n",
    "        img_recon = img_recon.resize(img_size)\n",
    "        img_recon = img_recon.convert('RGB')\n",
    "        data_recon = asarray(img_recon)\n",
    "        if target_FRS == 't2':\n",
    "            data_recon = ((torch.Tensor(data_recon))).permute(2,0,1).unsqueeze(0).to(device)\n",
    "        else:\n",
    "            data_recon = ((torch.tensor(data_recon)-127.5)/255).permute(2,0,1).unsqueeze(0).to(device)\n",
    "\n",
    "\n",
    "        with torch.no_grad():\n",
    "            feat_Type1 = blackbox(data_Type1)\n",
    "            feat_Type2 = blackbox(data_Type2)\n",
    "            feat_recon = blackbox(data_recon)\n",
    "\n",
    "            feat_Type1 = feat_Type1/feat_Type1.norm()\n",
    "            feat_Type2 = feat_Type2/feat_Type2.norm()\n",
    "            feat_recon = feat_recon/feat_recon.norm()\n",
    "\n",
    "            result[0,i]=(torch.acos((feat_Type1*feat_recon).sum())*180/math.pi).to(\"cpu\")\n",
    "            result[1,i]=(torch.acos((feat_Type2*feat_recon).sum())*180/math.pi).to(\"cpu\")\n",
    "\n",
    "    print(\"Type-1 ASR : \"+str(round(float(100*(result[0,:] <= thx).sum(0)/target_number),2))+\"%\")\n",
    "    print(\"Type-2 ASR : \"+str(round(float(100*(result[1,:] <= thx).sum(0)/target_number),2))+\"%\")\n",
    "\n",
    "    return result"
   ]
  },
  {
   "cell_type": "code",
   "execution_count": 3,
   "id": "6c4bc1d6-e6a1-4a31-a086-0e3d7f559304",
   "metadata": {},
   "outputs": [],
   "source": [
    "# Table 8 Direct attacks\n",
    "def check_direct(target='t1',target_bin=False):\n",
    "    tab_lfw = check(target,target,'LFW','cuda:0',target_bin)\n",
    "    tab_age = check(target,target,'AGE','cuda:0',target_bin)\n",
    "    tab_cfp = check(target,target,'CFP','cuda:0',target_bin)\n",
    "    return [tab_lfw,tab_age,tab_cfp]"
   ]
  },
  {
   "cell_type": "code",
   "execution_count": 4,
   "id": "29d62774-5fdd-422c-b73c-21ab01838894",
   "metadata": {},
   "outputs": [
    {
     "name": "stdout",
     "output_type": "stream",
     "text": [
      "Source FRS : t1\n",
      "Target FRS : t1\n",
      "Target Dataset : LFW\n"
     ]
    },
    {
     "data": {
      "application/vnd.jupyter.widget-view+json": {
       "model_id": "95d3d02bce4e40c282c9f0ba276c9a58",
       "version_major": 2,
       "version_minor": 0
      },
      "text/plain": [
       "  0%|          | 0/3000 [00:00<?, ?it/s]"
      ]
     },
     "metadata": {},
     "output_type": "display_data"
    },
    {
     "name": "stdout",
     "output_type": "stream",
     "text": [
      "Type-1 ASR : 96.17%\n",
      "Type-2 ASR : 47.87%\n",
      "Source FRS : t1\n",
      "Target FRS : t1\n",
      "Target Dataset : AGE\n"
     ]
    },
    {
     "data": {
      "application/vnd.jupyter.widget-view+json": {
       "model_id": "a5aa2a4ed4c24e45a296554e945086a4",
       "version_major": 2,
       "version_minor": 0
      },
      "text/plain": [
       "  0%|          | 0/3000 [00:00<?, ?it/s]"
      ]
     },
     "metadata": {},
     "output_type": "display_data"
    },
    {
     "name": "stdout",
     "output_type": "stream",
     "text": [
      "Type-1 ASR : 99.6%\n",
      "Type-2 ASR : 46.37%\n",
      "Source FRS : t1\n",
      "Target FRS : t1\n",
      "Target Dataset : CFP\n"
     ]
    },
    {
     "data": {
      "application/vnd.jupyter.widget-view+json": {
       "model_id": "48d2519d37ba46229e743192961f76f1",
       "version_major": 2,
       "version_minor": 0
      },
      "text/plain": [
       "  0%|          | 0/3500 [00:00<?, ?it/s]"
      ]
     },
     "metadata": {},
     "output_type": "display_data"
    },
    {
     "name": "stdout",
     "output_type": "stream",
     "text": [
      "Type-1 ASR : 99.89%\n",
      "Type-2 ASR : 41.03%\n",
      "Source FRS : t2\n",
      "Target FRS : t2\n",
      "Target Dataset : LFW\n",
      "self.device_id 0\n"
     ]
    },
    {
     "data": {
      "application/vnd.jupyter.widget-view+json": {
       "model_id": "78eb5f8c7dcc44d69105f143234769b6",
       "version_major": 2,
       "version_minor": 0
      },
      "text/plain": [
       "  0%|          | 0/3000 [00:00<?, ?it/s]"
      ]
     },
     "metadata": {},
     "output_type": "display_data"
    },
    {
     "name": "stderr",
     "output_type": "stream",
     "text": [
      "/tmp/ipykernel_2153318/2156684586.py:94: UserWarning: The given NumPy array is not writable, and PyTorch does not support non-writable tensors. This means writing to this tensor will result in undefined behavior. You may want to copy the array to protect its data or make it writable before converting it to a tensor. This type of warning will be suppressed for the rest of this program. (Triggered internally at ../torch/csrc/utils/tensor_numpy.cpp:206.)\n",
      "  data_Type1 = ((torch.Tensor(data_Type1))).permute(2,0,1).unsqueeze(0).to(device)\n"
     ]
    },
    {
     "name": "stdout",
     "output_type": "stream",
     "text": [
      "Type-1 ASR : 95.37%\n",
      "Type-2 ASR : 40.47%\n",
      "Source FRS : t2\n",
      "Target FRS : t2\n",
      "Target Dataset : AGE\n",
      "self.device_id 0\n"
     ]
    },
    {
     "data": {
      "application/vnd.jupyter.widget-view+json": {
       "model_id": "8cca5faa687c4eff9ff6329f46b15362",
       "version_major": 2,
       "version_minor": 0
      },
      "text/plain": [
       "  0%|          | 0/3000 [00:00<?, ?it/s]"
      ]
     },
     "metadata": {},
     "output_type": "display_data"
    },
    {
     "name": "stdout",
     "output_type": "stream",
     "text": [
      "Type-1 ASR : 99.73%\n",
      "Type-2 ASR : 43.9%\n",
      "Source FRS : t2\n",
      "Target FRS : t2\n",
      "Target Dataset : CFP\n",
      "self.device_id 0\n"
     ]
    },
    {
     "data": {
      "application/vnd.jupyter.widget-view+json": {
       "model_id": "53e3a6966a22434488ff50391ac79203",
       "version_major": 2,
       "version_minor": 0
      },
      "text/plain": [
       "  0%|          | 0/3500 [00:00<?, ?it/s]"
      ]
     },
     "metadata": {},
     "output_type": "display_data"
    },
    {
     "name": "stdout",
     "output_type": "stream",
     "text": [
      "Type-1 ASR : 99.63%\n",
      "Type-2 ASR : 29.71%\n",
      "Source FRS : t3\n",
      "Target FRS : t3\n",
      "Target Dataset : LFW\n"
     ]
    },
    {
     "data": {
      "application/vnd.jupyter.widget-view+json": {
       "model_id": "ad23bef6483241dda8bcd416eaf27a38",
       "version_major": 2,
       "version_minor": 0
      },
      "text/plain": [
       "  0%|          | 0/3000 [00:00<?, ?it/s]"
      ]
     },
     "metadata": {},
     "output_type": "display_data"
    },
    {
     "name": "stdout",
     "output_type": "stream",
     "text": [
      "Type-1 ASR : 95.83%\n",
      "Type-2 ASR : 38.7%\n",
      "Source FRS : t3\n",
      "Target FRS : t3\n",
      "Target Dataset : AGE\n"
     ]
    },
    {
     "data": {
      "application/vnd.jupyter.widget-view+json": {
       "model_id": "2119d5db27c549449e13d441826e359a",
       "version_major": 2,
       "version_minor": 0
      },
      "text/plain": [
       "  0%|          | 0/3000 [00:00<?, ?it/s]"
      ]
     },
     "metadata": {},
     "output_type": "display_data"
    },
    {
     "name": "stdout",
     "output_type": "stream",
     "text": [
      "Type-1 ASR : 96.03%\n",
      "Type-2 ASR : 33.8%\n",
      "Source FRS : t3\n",
      "Target FRS : t3\n",
      "Target Dataset : CFP\n"
     ]
    },
    {
     "data": {
      "application/vnd.jupyter.widget-view+json": {
       "model_id": "b19bd00150f849ccaa7bea49e0d26aca",
       "version_major": 2,
       "version_minor": 0
      },
      "text/plain": [
       "  0%|          | 0/3500 [00:00<?, ?it/s]"
      ]
     },
     "metadata": {},
     "output_type": "display_data"
    },
    {
     "name": "stdout",
     "output_type": "stream",
     "text": [
      "Type-1 ASR : 95.54%\n",
      "Type-2 ASR : 29.03%\n",
      "Source FRS : t4\n",
      "Target FRS : t4\n",
      "Target Dataset : LFW\n"
     ]
    },
    {
     "data": {
      "application/vnd.jupyter.widget-view+json": {
       "model_id": "36a7fd786da74246a4dddb1cb56fa0a5",
       "version_major": 2,
       "version_minor": 0
      },
      "text/plain": [
       "  0%|          | 0/3000 [00:00<?, ?it/s]"
      ]
     },
     "metadata": {},
     "output_type": "display_data"
    },
    {
     "name": "stdout",
     "output_type": "stream",
     "text": [
      "Type-1 ASR : 88.07%\n",
      "Type-2 ASR : 43.03%\n",
      "Source FRS : t4\n",
      "Target FRS : t4\n",
      "Target Dataset : AGE\n"
     ]
    },
    {
     "data": {
      "application/vnd.jupyter.widget-view+json": {
       "model_id": "e8312cfcb4dd4c41b29139beed212721",
       "version_major": 2,
       "version_minor": 0
      },
      "text/plain": [
       "  0%|          | 0/3000 [00:00<?, ?it/s]"
      ]
     },
     "metadata": {},
     "output_type": "display_data"
    },
    {
     "name": "stdout",
     "output_type": "stream",
     "text": [
      "Type-1 ASR : 88.63%\n",
      "Type-2 ASR : 26.17%\n",
      "Source FRS : t4\n",
      "Target FRS : t4\n",
      "Target Dataset : CFP\n"
     ]
    },
    {
     "data": {
      "application/vnd.jupyter.widget-view+json": {
       "model_id": "51083b038ff4420fb1e959330d9ef208",
       "version_major": 2,
       "version_minor": 0
      },
      "text/plain": [
       "  0%|          | 0/3500 [00:00<?, ?it/s]"
      ]
     },
     "metadata": {},
     "output_type": "display_data"
    },
    {
     "name": "stdout",
     "output_type": "stream",
     "text": [
      "Type-1 ASR : 89.14%\n",
      "Type-2 ASR : 23.31%\n",
      "Source FRS : t5\n",
      "Target FRS : t5\n",
      "Target Dataset : LFW\n"
     ]
    },
    {
     "data": {
      "application/vnd.jupyter.widget-view+json": {
       "model_id": "d6dc24453f874e159b232c9974720782",
       "version_major": 2,
       "version_minor": 0
      },
      "text/plain": [
       "  0%|          | 0/3000 [00:00<?, ?it/s]"
      ]
     },
     "metadata": {},
     "output_type": "display_data"
    },
    {
     "name": "stdout",
     "output_type": "stream",
     "text": [
      "Type-1 ASR : 80.57%\n",
      "Type-2 ASR : 55.83%\n",
      "Source FRS : t5\n",
      "Target FRS : t5\n",
      "Target Dataset : AGE\n"
     ]
    },
    {
     "data": {
      "application/vnd.jupyter.widget-view+json": {
       "model_id": "5dbec02ce0b04e29994d144dea7ab851",
       "version_major": 2,
       "version_minor": 0
      },
      "text/plain": [
       "  0%|          | 0/3000 [00:00<?, ?it/s]"
      ]
     },
     "metadata": {},
     "output_type": "display_data"
    },
    {
     "name": "stdout",
     "output_type": "stream",
     "text": [
      "Type-1 ASR : 94.47%\n",
      "Type-2 ASR : 61.8%\n",
      "Source FRS : t5\n",
      "Target FRS : t5\n",
      "Target Dataset : CFP\n"
     ]
    },
    {
     "data": {
      "application/vnd.jupyter.widget-view+json": {
       "model_id": "6b74db5d34954e0ba831d6685652c14f",
       "version_major": 2,
       "version_minor": 0
      },
      "text/plain": [
       "  0%|          | 0/3500 [00:00<?, ?it/s]"
      ]
     },
     "metadata": {},
     "output_type": "display_data"
    },
    {
     "name": "stdout",
     "output_type": "stream",
     "text": [
      "Type-1 ASR : 97.54%\n",
      "Type-2 ASR : 77.71%\n"
     ]
    }
   ],
   "source": [
    "# Table 8\n",
    "dir_t1 = check_direct('t1')\n",
    "dir_t2 = check_direct('t2')\n",
    "dir_t3 = check_direct('t3')\n",
    "dir_t4 = check_direct('t4')\n",
    "dir_t5 = check_direct('t5')"
   ]
  },
  {
   "cell_type": "code",
   "execution_count": 5,
   "id": "e2dab817-63b3-4d85-9603-d7359ba7d560",
   "metadata": {},
   "outputs": [],
   "source": [
    "# Table 10 and 11 transfer attacks (against non-commercial targets)\n",
    "# Note that paper only reports for LFW, but we can run for all 3 datasets\n",
    "sources = ['t1','t2','t3','t4','t5','AWS','FACEPP','KAIROS']\n",
    "def check_transfer(target='t1',dataset='LFW',target_bin=False):\n",
    "    return [check(target,source,dataset,'cuda:0',target_bin) for source in sources if source !=target]"
   ]
  },
  {
   "cell_type": "code",
   "execution_count": 6,
   "id": "f4574fb5-e77c-44e9-94b4-f7af9656388e",
   "metadata": {},
   "outputs": [
    {
     "name": "stdout",
     "output_type": "stream",
     "text": [
      "Source FRS : t2\n",
      "Target FRS : t1\n",
      "Target Dataset : LFW\n"
     ]
    },
    {
     "data": {
      "application/vnd.jupyter.widget-view+json": {
       "model_id": "94b0827bc2df4883a0330539f8e2613d",
       "version_major": 2,
       "version_minor": 0
      },
      "text/plain": [
       "  0%|          | 0/3000 [00:00<?, ?it/s]"
      ]
     },
     "metadata": {},
     "output_type": "display_data"
    },
    {
     "name": "stdout",
     "output_type": "stream",
     "text": [
      "Type-1 ASR : 61.6%\n",
      "Type-2 ASR : 18.6%\n",
      "Source FRS : t3\n",
      "Target FRS : t1\n",
      "Target Dataset : LFW\n"
     ]
    },
    {
     "data": {
      "application/vnd.jupyter.widget-view+json": {
       "model_id": "f9a75f3dfc00463594cd685091952839",
       "version_major": 2,
       "version_minor": 0
      },
      "text/plain": [
       "  0%|          | 0/3000 [00:00<?, ?it/s]"
      ]
     },
     "metadata": {},
     "output_type": "display_data"
    },
    {
     "name": "stdout",
     "output_type": "stream",
     "text": [
      "Type-1 ASR : 89.13%\n",
      "Type-2 ASR : 36.7%\n",
      "Source FRS : t4\n",
      "Target FRS : t1\n",
      "Target Dataset : LFW\n"
     ]
    },
    {
     "data": {
      "application/vnd.jupyter.widget-view+json": {
       "model_id": "1db0d7c499da4c39a847acc7f4c99719",
       "version_major": 2,
       "version_minor": 0
      },
      "text/plain": [
       "  0%|          | 0/3000 [00:00<?, ?it/s]"
      ]
     },
     "metadata": {},
     "output_type": "display_data"
    },
    {
     "name": "stdout",
     "output_type": "stream",
     "text": [
      "Type-1 ASR : 3.9%\n",
      "Type-2 ASR : 2.07%\n",
      "Source FRS : t5\n",
      "Target FRS : t1\n",
      "Target Dataset : LFW\n"
     ]
    },
    {
     "data": {
      "application/vnd.jupyter.widget-view+json": {
       "model_id": "c6f28b38881d4df088811f96b65cdb07",
       "version_major": 2,
       "version_minor": 0
      },
      "text/plain": [
       "  0%|          | 0/3000 [00:00<?, ?it/s]"
      ]
     },
     "metadata": {},
     "output_type": "display_data"
    },
    {
     "name": "stdout",
     "output_type": "stream",
     "text": [
      "Type-1 ASR : 0.83%\n",
      "Type-2 ASR : 0.6%\n",
      "Source FRS : AWS\n",
      "Target FRS : t1\n",
      "Target Dataset : LFW\n"
     ]
    },
    {
     "data": {
      "application/vnd.jupyter.widget-view+json": {
       "model_id": "c45d9ab608364d9a93405e399d32f3b0",
       "version_major": 2,
       "version_minor": 0
      },
      "text/plain": [
       "  0%|          | 0/3000 [00:00<?, ?it/s]"
      ]
     },
     "metadata": {},
     "output_type": "display_data"
    },
    {
     "name": "stdout",
     "output_type": "stream",
     "text": [
      "Type-1 ASR : 32.0%\n",
      "Type-2 ASR : 11.53%\n",
      "Source FRS : FACEPP\n",
      "Target FRS : t1\n",
      "Target Dataset : LFW\n"
     ]
    },
    {
     "data": {
      "application/vnd.jupyter.widget-view+json": {
       "model_id": "fe9831ad12fe488e997ee7d26a46d9aa",
       "version_major": 2,
       "version_minor": 0
      },
      "text/plain": [
       "  0%|          | 0/3000 [00:00<?, ?it/s]"
      ]
     },
     "metadata": {},
     "output_type": "display_data"
    },
    {
     "name": "stdout",
     "output_type": "stream",
     "text": [
      "Type-1 ASR : 2.57%\n",
      "Type-2 ASR : 1.43%\n",
      "Source FRS : KAIROS\n",
      "Target FRS : t1\n",
      "Target Dataset : LFW\n"
     ]
    },
    {
     "data": {
      "application/vnd.jupyter.widget-view+json": {
       "model_id": "0f10ff3387a94cb7a8eb86eb55715796",
       "version_major": 2,
       "version_minor": 0
      },
      "text/plain": [
       "  0%|          | 0/3000 [00:00<?, ?it/s]"
      ]
     },
     "metadata": {},
     "output_type": "display_data"
    },
    {
     "name": "stdout",
     "output_type": "stream",
     "text": [
      "Type-1 ASR : 1.23%\n",
      "Type-2 ASR : 0.93%\n",
      "Source FRS : t1\n",
      "Target FRS : t2\n",
      "Target Dataset : LFW\n",
      "self.device_id 0\n"
     ]
    },
    {
     "data": {
      "application/vnd.jupyter.widget-view+json": {
       "model_id": "230a1e50a66b4ea3ad32f71d9e601f4e",
       "version_major": 2,
       "version_minor": 0
      },
      "text/plain": [
       "  0%|          | 0/3000 [00:00<?, ?it/s]"
      ]
     },
     "metadata": {},
     "output_type": "display_data"
    },
    {
     "name": "stdout",
     "output_type": "stream",
     "text": [
      "Type-1 ASR : 84.47%\n",
      "Type-2 ASR : 48.93%\n",
      "Source FRS : t3\n",
      "Target FRS : t2\n",
      "Target Dataset : LFW\n",
      "self.device_id 0\n"
     ]
    },
    {
     "data": {
      "application/vnd.jupyter.widget-view+json": {
       "model_id": "558bd06669d04138af6c2cf41778db85",
       "version_major": 2,
       "version_minor": 0
      },
      "text/plain": [
       "  0%|          | 0/3000 [00:00<?, ?it/s]"
      ]
     },
     "metadata": {},
     "output_type": "display_data"
    },
    {
     "name": "stdout",
     "output_type": "stream",
     "text": [
      "Type-1 ASR : 82.47%\n",
      "Type-2 ASR : 40.23%\n",
      "Source FRS : t4\n",
      "Target FRS : t2\n",
      "Target Dataset : LFW\n",
      "self.device_id 0\n"
     ]
    },
    {
     "data": {
      "application/vnd.jupyter.widget-view+json": {
       "model_id": "2871e93696254a59a564a0c75e822562",
       "version_major": 2,
       "version_minor": 0
      },
      "text/plain": [
       "  0%|          | 0/3000 [00:00<?, ?it/s]"
      ]
     },
     "metadata": {},
     "output_type": "display_data"
    },
    {
     "name": "stdout",
     "output_type": "stream",
     "text": [
      "Type-1 ASR : 8.63%\n",
      "Type-2 ASR : 3.27%\n",
      "Source FRS : t5\n",
      "Target FRS : t2\n",
      "Target Dataset : LFW\n",
      "self.device_id 0\n"
     ]
    },
    {
     "data": {
      "application/vnd.jupyter.widget-view+json": {
       "model_id": "c3f5c0af471a4cdaa93e89e18950435e",
       "version_major": 2,
       "version_minor": 0
      },
      "text/plain": [
       "  0%|          | 0/3000 [00:00<?, ?it/s]"
      ]
     },
     "metadata": {},
     "output_type": "display_data"
    },
    {
     "name": "stdout",
     "output_type": "stream",
     "text": [
      "Type-1 ASR : 1.23%\n",
      "Type-2 ASR : 1.17%\n",
      "Source FRS : AWS\n",
      "Target FRS : t2\n",
      "Target Dataset : LFW\n",
      "self.device_id 0\n"
     ]
    },
    {
     "data": {
      "application/vnd.jupyter.widget-view+json": {
       "model_id": "2501f9cdc7614f97aa8eab1babf42adc",
       "version_major": 2,
       "version_minor": 0
      },
      "text/plain": [
       "  0%|          | 0/3000 [00:00<?, ?it/s]"
      ]
     },
     "metadata": {},
     "output_type": "display_data"
    },
    {
     "name": "stdout",
     "output_type": "stream",
     "text": [
      "Type-1 ASR : 39.37%\n",
      "Type-2 ASR : 21.23%\n",
      "Source FRS : FACEPP\n",
      "Target FRS : t2\n",
      "Target Dataset : LFW\n",
      "self.device_id 0\n"
     ]
    },
    {
     "data": {
      "application/vnd.jupyter.widget-view+json": {
       "model_id": "dfab62ecc983499ca1e51d8e2955c43b",
       "version_major": 2,
       "version_minor": 0
      },
      "text/plain": [
       "  0%|          | 0/3000 [00:00<?, ?it/s]"
      ]
     },
     "metadata": {},
     "output_type": "display_data"
    },
    {
     "name": "stdout",
     "output_type": "stream",
     "text": [
      "Type-1 ASR : 8.1%\n",
      "Type-2 ASR : 4.13%\n",
      "Source FRS : KAIROS\n",
      "Target FRS : t2\n",
      "Target Dataset : LFW\n",
      "self.device_id 0\n"
     ]
    },
    {
     "data": {
      "application/vnd.jupyter.widget-view+json": {
       "model_id": "86bf72708ca4437982c104eff4684de6",
       "version_major": 2,
       "version_minor": 0
      },
      "text/plain": [
       "  0%|          | 0/3000 [00:00<?, ?it/s]"
      ]
     },
     "metadata": {},
     "output_type": "display_data"
    },
    {
     "name": "stdout",
     "output_type": "stream",
     "text": [
      "Type-1 ASR : 4.9%\n",
      "Type-2 ASR : 3.5%\n",
      "Source FRS : t1\n",
      "Target FRS : t3\n",
      "Target Dataset : LFW\n"
     ]
    },
    {
     "data": {
      "application/vnd.jupyter.widget-view+json": {
       "model_id": "73fbe1abe36f4ca4a09bd8c926c6b153",
       "version_major": 2,
       "version_minor": 0
      },
      "text/plain": [
       "  0%|          | 0/3000 [00:00<?, ?it/s]"
      ]
     },
     "metadata": {},
     "output_type": "display_data"
    },
    {
     "name": "stdout",
     "output_type": "stream",
     "text": [
      "Type-1 ASR : 83.1%\n",
      "Type-2 ASR : 37.7%\n",
      "Source FRS : t2\n",
      "Target FRS : t3\n",
      "Target Dataset : LFW\n"
     ]
    },
    {
     "data": {
      "application/vnd.jupyter.widget-view+json": {
       "model_id": "6ac943190aa546d3af951f7caacf70ff",
       "version_major": 2,
       "version_minor": 0
      },
      "text/plain": [
       "  0%|          | 0/3000 [00:00<?, ?it/s]"
      ]
     },
     "metadata": {},
     "output_type": "display_data"
    },
    {
     "name": "stdout",
     "output_type": "stream",
     "text": [
      "Type-1 ASR : 58.67%\n",
      "Type-2 ASR : 17.1%\n",
      "Source FRS : t4\n",
      "Target FRS : t3\n",
      "Target Dataset : LFW\n"
     ]
    },
    {
     "data": {
      "application/vnd.jupyter.widget-view+json": {
       "model_id": "e3f99c6842974725bb78c15622828bca",
       "version_major": 2,
       "version_minor": 0
      },
      "text/plain": [
       "  0%|          | 0/3000 [00:00<?, ?it/s]"
      ]
     },
     "metadata": {},
     "output_type": "display_data"
    },
    {
     "name": "stdout",
     "output_type": "stream",
     "text": [
      "Type-1 ASR : 5.37%\n",
      "Type-2 ASR : 1.9%\n",
      "Source FRS : t5\n",
      "Target FRS : t3\n",
      "Target Dataset : LFW\n"
     ]
    },
    {
     "data": {
      "application/vnd.jupyter.widget-view+json": {
       "model_id": "95fbafc16efe4275ad368cd6afa8dab4",
       "version_major": 2,
       "version_minor": 0
      },
      "text/plain": [
       "  0%|          | 0/3000 [00:00<?, ?it/s]"
      ]
     },
     "metadata": {},
     "output_type": "display_data"
    },
    {
     "name": "stdout",
     "output_type": "stream",
     "text": [
      "Type-1 ASR : 0.83%\n",
      "Type-2 ASR : 0.77%\n",
      "Source FRS : AWS\n",
      "Target FRS : t3\n",
      "Target Dataset : LFW\n"
     ]
    },
    {
     "data": {
      "application/vnd.jupyter.widget-view+json": {
       "model_id": "3c4b45c60335454dbd9e5f1674aaabf3",
       "version_major": 2,
       "version_minor": 0
      },
      "text/plain": [
       "  0%|          | 0/3000 [00:00<?, ?it/s]"
      ]
     },
     "metadata": {},
     "output_type": "display_data"
    },
    {
     "name": "stdout",
     "output_type": "stream",
     "text": [
      "Type-1 ASR : 27.87%\n",
      "Type-2 ASR : 11.27%\n",
      "Source FRS : FACEPP\n",
      "Target FRS : t3\n",
      "Target Dataset : LFW\n"
     ]
    },
    {
     "data": {
      "application/vnd.jupyter.widget-view+json": {
       "model_id": "696d1b94e1c44dfea21b8fd741935fb0",
       "version_major": 2,
       "version_minor": 0
      },
      "text/plain": [
       "  0%|          | 0/3000 [00:00<?, ?it/s]"
      ]
     },
     "metadata": {},
     "output_type": "display_data"
    },
    {
     "name": "stdout",
     "output_type": "stream",
     "text": [
      "Type-1 ASR : 3.07%\n",
      "Type-2 ASR : 1.47%\n",
      "Source FRS : KAIROS\n",
      "Target FRS : t3\n",
      "Target Dataset : LFW\n"
     ]
    },
    {
     "data": {
      "application/vnd.jupyter.widget-view+json": {
       "model_id": "7f84c8582cd846c29f7232e5579d35ba",
       "version_major": 2,
       "version_minor": 0
      },
      "text/plain": [
       "  0%|          | 0/3000 [00:00<?, ?it/s]"
      ]
     },
     "metadata": {},
     "output_type": "display_data"
    },
    {
     "name": "stdout",
     "output_type": "stream",
     "text": [
      "Type-1 ASR : 1.77%\n",
      "Type-2 ASR : 1.17%\n",
      "Source FRS : t1\n",
      "Target FRS : t4\n",
      "Target Dataset : LFW\n"
     ]
    },
    {
     "data": {
      "application/vnd.jupyter.widget-view+json": {
       "model_id": "844a82c706fd4fe9b1eca6888cea23ee",
       "version_major": 2,
       "version_minor": 0
      },
      "text/plain": [
       "  0%|          | 0/3000 [00:00<?, ?it/s]"
      ]
     },
     "metadata": {},
     "output_type": "display_data"
    },
    {
     "name": "stdout",
     "output_type": "stream",
     "text": [
      "Type-1 ASR : 69.7%\n",
      "Type-2 ASR : 52.27%\n",
      "Source FRS : t2\n",
      "Target FRS : t4\n",
      "Target Dataset : LFW\n"
     ]
    },
    {
     "data": {
      "application/vnd.jupyter.widget-view+json": {
       "model_id": "fa42e9ea9180483a850604e79e4353ca",
       "version_major": 2,
       "version_minor": 0
      },
      "text/plain": [
       "  0%|          | 0/3000 [00:00<?, ?it/s]"
      ]
     },
     "metadata": {},
     "output_type": "display_data"
    },
    {
     "name": "stdout",
     "output_type": "stream",
     "text": [
      "Type-1 ASR : 51.33%\n",
      "Type-2 ASR : 29.6%\n",
      "Source FRS : t3\n",
      "Target FRS : t4\n",
      "Target Dataset : LFW\n"
     ]
    },
    {
     "data": {
      "application/vnd.jupyter.widget-view+json": {
       "model_id": "8c6e3bd5c6a24b9e9003de9a5f260fde",
       "version_major": 2,
       "version_minor": 0
      },
      "text/plain": [
       "  0%|          | 0/3000 [00:00<?, ?it/s]"
      ]
     },
     "metadata": {},
     "output_type": "display_data"
    },
    {
     "name": "stdout",
     "output_type": "stream",
     "text": [
      "Type-1 ASR : 67.03%\n",
      "Type-2 ASR : 42.5%\n",
      "Source FRS : t5\n",
      "Target FRS : t4\n",
      "Target Dataset : LFW\n"
     ]
    },
    {
     "data": {
      "application/vnd.jupyter.widget-view+json": {
       "model_id": "d0695e593b324a99a0f0194a2be3cd8f",
       "version_major": 2,
       "version_minor": 0
      },
      "text/plain": [
       "  0%|          | 0/3000 [00:00<?, ?it/s]"
      ]
     },
     "metadata": {},
     "output_type": "display_data"
    },
    {
     "name": "stdout",
     "output_type": "stream",
     "text": [
      "Type-1 ASR : 35.9%\n",
      "Type-2 ASR : 25.4%\n",
      "Source FRS : AWS\n",
      "Target FRS : t4\n",
      "Target Dataset : LFW\n"
     ]
    },
    {
     "data": {
      "application/vnd.jupyter.widget-view+json": {
       "model_id": "17e48b19800a4097a6e6dc733d2de0ff",
       "version_major": 2,
       "version_minor": 0
      },
      "text/plain": [
       "  0%|          | 0/3000 [00:00<?, ?it/s]"
      ]
     },
     "metadata": {},
     "output_type": "display_data"
    },
    {
     "name": "stdout",
     "output_type": "stream",
     "text": [
      "Type-1 ASR : 55.1%\n",
      "Type-2 ASR : 42.93%\n",
      "Source FRS : FACEPP\n",
      "Target FRS : t4\n",
      "Target Dataset : LFW\n"
     ]
    },
    {
     "data": {
      "application/vnd.jupyter.widget-view+json": {
       "model_id": "41aa9525e3ce42cc9bad7d7b30657c7e",
       "version_major": 2,
       "version_minor": 0
      },
      "text/plain": [
       "  0%|          | 0/3000 [00:00<?, ?it/s]"
      ]
     },
     "metadata": {},
     "output_type": "display_data"
    },
    {
     "name": "stdout",
     "output_type": "stream",
     "text": [
      "Type-1 ASR : 43.0%\n",
      "Type-2 ASR : 30.73%\n",
      "Source FRS : KAIROS\n",
      "Target FRS : t4\n",
      "Target Dataset : LFW\n"
     ]
    },
    {
     "data": {
      "application/vnd.jupyter.widget-view+json": {
       "model_id": "ff85f189c79b4ddd9bae236c37230bd3",
       "version_major": 2,
       "version_minor": 0
      },
      "text/plain": [
       "  0%|          | 0/3000 [00:00<?, ?it/s]"
      ]
     },
     "metadata": {},
     "output_type": "display_data"
    },
    {
     "name": "stdout",
     "output_type": "stream",
     "text": [
      "Type-1 ASR : 50.73%\n",
      "Type-2 ASR : 37.3%\n",
      "Source FRS : t1\n",
      "Target FRS : t5\n",
      "Target Dataset : LFW\n"
     ]
    },
    {
     "data": {
      "application/vnd.jupyter.widget-view+json": {
       "model_id": "a07a1cecea03407fa6e97757d5c093c7",
       "version_major": 2,
       "version_minor": 0
      },
      "text/plain": [
       "  0%|          | 0/3000 [00:00<?, ?it/s]"
      ]
     },
     "metadata": {},
     "output_type": "display_data"
    },
    {
     "name": "stdout",
     "output_type": "stream",
     "text": [
      "Type-1 ASR : 55.6%\n",
      "Type-2 ASR : 46.43%\n",
      "Source FRS : t2\n",
      "Target FRS : t5\n",
      "Target Dataset : LFW\n"
     ]
    },
    {
     "data": {
      "application/vnd.jupyter.widget-view+json": {
       "model_id": "9d2541c412d1431ea14fc3cf319dd0d8",
       "version_major": 2,
       "version_minor": 0
      },
      "text/plain": [
       "  0%|          | 0/3000 [00:00<?, ?it/s]"
      ]
     },
     "metadata": {},
     "output_type": "display_data"
    },
    {
     "name": "stdout",
     "output_type": "stream",
     "text": [
      "Type-1 ASR : 41.67%\n",
      "Type-2 ASR : 32.0%\n",
      "Source FRS : t3\n",
      "Target FRS : t5\n",
      "Target Dataset : LFW\n"
     ]
    },
    {
     "data": {
      "application/vnd.jupyter.widget-view+json": {
       "model_id": "08fc4de54c794f138b69a2024c445258",
       "version_major": 2,
       "version_minor": 0
      },
      "text/plain": [
       "  0%|          | 0/3000 [00:00<?, ?it/s]"
      ]
     },
     "metadata": {},
     "output_type": "display_data"
    },
    {
     "name": "stdout",
     "output_type": "stream",
     "text": [
      "Type-1 ASR : 54.6%\n",
      "Type-2 ASR : 40.73%\n",
      "Source FRS : t4\n",
      "Target FRS : t5\n",
      "Target Dataset : LFW\n"
     ]
    },
    {
     "data": {
      "application/vnd.jupyter.widget-view+json": {
       "model_id": "ae19bec3b021493a875c978f5815c7f7",
       "version_major": 2,
       "version_minor": 0
      },
      "text/plain": [
       "  0%|          | 0/3000 [00:00<?, ?it/s]"
      ]
     },
     "metadata": {},
     "output_type": "display_data"
    },
    {
     "name": "stdout",
     "output_type": "stream",
     "text": [
      "Type-1 ASR : 60.73%\n",
      "Type-2 ASR : 44.27%\n",
      "Source FRS : AWS\n",
      "Target FRS : t5\n",
      "Target Dataset : LFW\n"
     ]
    },
    {
     "data": {
      "application/vnd.jupyter.widget-view+json": {
       "model_id": "3086aa5a5fe54810b9b0743af20f3289",
       "version_major": 2,
       "version_minor": 0
      },
      "text/plain": [
       "  0%|          | 0/3000 [00:00<?, ?it/s]"
      ]
     },
     "metadata": {},
     "output_type": "display_data"
    },
    {
     "name": "stdout",
     "output_type": "stream",
     "text": [
      "Type-1 ASR : 50.57%\n",
      "Type-2 ASR : 41.9%\n",
      "Source FRS : FACEPP\n",
      "Target FRS : t5\n",
      "Target Dataset : LFW\n"
     ]
    },
    {
     "data": {
      "application/vnd.jupyter.widget-view+json": {
       "model_id": "c32631321aca431aaf421c3384740cf3",
       "version_major": 2,
       "version_minor": 0
      },
      "text/plain": [
       "  0%|          | 0/3000 [00:00<?, ?it/s]"
      ]
     },
     "metadata": {},
     "output_type": "display_data"
    },
    {
     "name": "stdout",
     "output_type": "stream",
     "text": [
      "Type-1 ASR : 58.37%\n",
      "Type-2 ASR : 47.9%\n",
      "Source FRS : KAIROS\n",
      "Target FRS : t5\n",
      "Target Dataset : LFW\n"
     ]
    },
    {
     "data": {
      "application/vnd.jupyter.widget-view+json": {
       "model_id": "a190298033e648a3bc2ed299893d1ec4",
       "version_major": 2,
       "version_minor": 0
      },
      "text/plain": [
       "  0%|          | 0/3000 [00:00<?, ?it/s]"
      ]
     },
     "metadata": {},
     "output_type": "display_data"
    },
    {
     "name": "stdout",
     "output_type": "stream",
     "text": [
      "Type-1 ASR : 70.53%\n",
      "Type-2 ASR : 58.3%\n"
     ]
    }
   ],
   "source": [
    "# Table 10 (png)\n",
    "trans_t1_nb = check_transfer('t1',target_bin=False)\n",
    "trans_t2_nb = check_transfer('t2',target_bin=False)\n",
    "trans_t3_nb = check_transfer('t3',target_bin=False)\n",
    "trans_t4_nb = check_transfer('t4',target_bin=False)\n",
    "trans_t5_nb = check_transfer('t5',target_bin=False)"
   ]
  },
  {
   "cell_type": "code",
   "execution_count": 7,
   "id": "5952f77d-0975-4109-aad9-d2821f01b70d",
   "metadata": {},
   "outputs": [],
   "source": [
    "# Table 12 previous attacks (against non-commercial targets)\n",
    "sources = ['gauss_t1','eigen_t1','style_t1','t1']\n",
    "def check_transferprev(target='t1',dataset='LFW',target_bin=False):\n",
    "    return [check(target,source,dataset,'cuda:0',target_bin) for source in sources]"
   ]
  },
  {
   "cell_type": "code",
   "execution_count": 8,
   "id": "27c74939-175f-494d-9b59-3ddb1b56d088",
   "metadata": {},
   "outputs": [
    {
     "name": "stdout",
     "output_type": "stream",
     "text": [
      "Source FRS : gauss_t1\n",
      "Target FRS : t2\n",
      "Target Dataset : LFW\n",
      "self.device_id 0\n"
     ]
    },
    {
     "data": {
      "application/vnd.jupyter.widget-view+json": {
       "model_id": "f9114eb35e004ad684e9113d9f2c6966",
       "version_major": 2,
       "version_minor": 0
      },
      "text/plain": [
       "  0%|          | 0/3000 [00:00<?, ?it/s]"
      ]
     },
     "metadata": {},
     "output_type": "display_data"
    },
    {
     "name": "stdout",
     "output_type": "stream",
     "text": [
      "Type-1 ASR : 1.4%\n",
      "Type-2 ASR : 0.43%\n",
      "Source FRS : eigen_t1\n",
      "Target FRS : t2\n",
      "Target Dataset : LFW\n",
      "self.device_id 0\n"
     ]
    },
    {
     "data": {
      "application/vnd.jupyter.widget-view+json": {
       "model_id": "59cf519ca4b94c67b7f961058c74210c",
       "version_major": 2,
       "version_minor": 0
      },
      "text/plain": [
       "  0%|          | 0/3000 [00:00<?, ?it/s]"
      ]
     },
     "metadata": {},
     "output_type": "display_data"
    },
    {
     "name": "stdout",
     "output_type": "stream",
     "text": [
      "Type-1 ASR : 4.67%\n",
      "Type-2 ASR : 1.37%\n",
      "Source FRS : style_t1\n",
      "Target FRS : t2\n",
      "Target Dataset : LFW\n",
      "self.device_id 0\n"
     ]
    },
    {
     "data": {
      "application/vnd.jupyter.widget-view+json": {
       "model_id": "2727e2fd0e9345ccb1b842f39aef1736",
       "version_major": 2,
       "version_minor": 0
      },
      "text/plain": [
       "  0%|          | 0/3000 [00:00<?, ?it/s]"
      ]
     },
     "metadata": {},
     "output_type": "display_data"
    },
    {
     "name": "stdout",
     "output_type": "stream",
     "text": [
      "Type-1 ASR : 5.53%\n",
      "Type-2 ASR : 2.67%\n",
      "Source FRS : t1\n",
      "Target FRS : t2\n",
      "Target Dataset : LFW\n",
      "self.device_id 0\n"
     ]
    },
    {
     "data": {
      "application/vnd.jupyter.widget-view+json": {
       "model_id": "776e0398bc4d4f9d8db3cc381e421b7b",
       "version_major": 2,
       "version_minor": 0
      },
      "text/plain": [
       "  0%|          | 0/3000 [00:00<?, ?it/s]"
      ]
     },
     "metadata": {},
     "output_type": "display_data"
    },
    {
     "name": "stdout",
     "output_type": "stream",
     "text": [
      "Type-1 ASR : 84.47%\n",
      "Type-2 ASR : 48.93%\n",
      "Source FRS : gauss_t1\n",
      "Target FRS : t3\n",
      "Target Dataset : LFW\n"
     ]
    },
    {
     "data": {
      "application/vnd.jupyter.widget-view+json": {
       "model_id": "fb08d85749664f06b662ff3e57ea9b9f",
       "version_major": 2,
       "version_minor": 0
      },
      "text/plain": [
       "  0%|          | 0/3000 [00:00<?, ?it/s]"
      ]
     },
     "metadata": {},
     "output_type": "display_data"
    },
    {
     "name": "stdout",
     "output_type": "stream",
     "text": [
      "Type-1 ASR : 1.1%\n",
      "Type-2 ASR : 0.3%\n",
      "Source FRS : eigen_t1\n",
      "Target FRS : t3\n",
      "Target Dataset : LFW\n"
     ]
    },
    {
     "data": {
      "application/vnd.jupyter.widget-view+json": {
       "model_id": "d7a10bc358e94ae0b90b9aeba3cd5b84",
       "version_major": 2,
       "version_minor": 0
      },
      "text/plain": [
       "  0%|          | 0/3000 [00:00<?, ?it/s]"
      ]
     },
     "metadata": {},
     "output_type": "display_data"
    },
    {
     "name": "stdout",
     "output_type": "stream",
     "text": [
      "Type-1 ASR : 5.23%\n",
      "Type-2 ASR : 0.97%\n",
      "Source FRS : style_t1\n",
      "Target FRS : t3\n",
      "Target Dataset : LFW\n"
     ]
    },
    {
     "data": {
      "application/vnd.jupyter.widget-view+json": {
       "model_id": "e460ab4a71b74fc781e064cfefec34b7",
       "version_major": 2,
       "version_minor": 0
      },
      "text/plain": [
       "  0%|          | 0/3000 [00:00<?, ?it/s]"
      ]
     },
     "metadata": {},
     "output_type": "display_data"
    },
    {
     "name": "stdout",
     "output_type": "stream",
     "text": [
      "Type-1 ASR : 2.9%\n",
      "Type-2 ASR : 0.93%\n",
      "Source FRS : t1\n",
      "Target FRS : t3\n",
      "Target Dataset : LFW\n"
     ]
    },
    {
     "data": {
      "application/vnd.jupyter.widget-view+json": {
       "model_id": "fcbbda07894f46d98e26634deb630ac6",
       "version_major": 2,
       "version_minor": 0
      },
      "text/plain": [
       "  0%|          | 0/3000 [00:00<?, ?it/s]"
      ]
     },
     "metadata": {},
     "output_type": "display_data"
    },
    {
     "name": "stdout",
     "output_type": "stream",
     "text": [
      "Type-1 ASR : 83.1%\n",
      "Type-2 ASR : 37.7%\n",
      "Source FRS : gauss_t1\n",
      "Target FRS : t4\n",
      "Target Dataset : LFW\n"
     ]
    },
    {
     "data": {
      "application/vnd.jupyter.widget-view+json": {
       "model_id": "4a70f443f46447968dd2eed81b4305eb",
       "version_major": 2,
       "version_minor": 0
      },
      "text/plain": [
       "  0%|          | 0/3000 [00:00<?, ?it/s]"
      ]
     },
     "metadata": {},
     "output_type": "display_data"
    },
    {
     "name": "stdout",
     "output_type": "stream",
     "text": [
      "Type-1 ASR : 9.6%\n",
      "Type-2 ASR : 5.33%\n",
      "Source FRS : eigen_t1\n",
      "Target FRS : t4\n",
      "Target Dataset : LFW\n"
     ]
    },
    {
     "data": {
      "application/vnd.jupyter.widget-view+json": {
       "model_id": "102bf3eac2ca4d1cbe84605b0997cd36",
       "version_major": 2,
       "version_minor": 0
      },
      "text/plain": [
       "  0%|          | 0/3000 [00:00<?, ?it/s]"
      ]
     },
     "metadata": {},
     "output_type": "display_data"
    },
    {
     "name": "stdout",
     "output_type": "stream",
     "text": [
      "Type-1 ASR : 12.47%\n",
      "Type-2 ASR : 6.77%\n",
      "Source FRS : style_t1\n",
      "Target FRS : t4\n",
      "Target Dataset : LFW\n"
     ]
    },
    {
     "data": {
      "application/vnd.jupyter.widget-view+json": {
       "model_id": "a2e76a1121994bb5a91b9606badad080",
       "version_major": 2,
       "version_minor": 0
      },
      "text/plain": [
       "  0%|          | 0/3000 [00:00<?, ?it/s]"
      ]
     },
     "metadata": {},
     "output_type": "display_data"
    },
    {
     "name": "stdout",
     "output_type": "stream",
     "text": [
      "Type-1 ASR : 14.1%\n",
      "Type-2 ASR : 10.5%\n",
      "Source FRS : t1\n",
      "Target FRS : t4\n",
      "Target Dataset : LFW\n"
     ]
    },
    {
     "data": {
      "application/vnd.jupyter.widget-view+json": {
       "model_id": "118a2fce11694e63933c40ae7f4f4005",
       "version_major": 2,
       "version_minor": 0
      },
      "text/plain": [
       "  0%|          | 0/3000 [00:00<?, ?it/s]"
      ]
     },
     "metadata": {},
     "output_type": "display_data"
    },
    {
     "name": "stdout",
     "output_type": "stream",
     "text": [
      "Type-1 ASR : 69.7%\n",
      "Type-2 ASR : 52.27%\n",
      "Source FRS : gauss_t1\n",
      "Target FRS : t5\n",
      "Target Dataset : LFW\n"
     ]
    },
    {
     "data": {
      "application/vnd.jupyter.widget-view+json": {
       "model_id": "216d7b191a544430bd073e65865c4f68",
       "version_major": 2,
       "version_minor": 0
      },
      "text/plain": [
       "  0%|          | 0/3000 [00:00<?, ?it/s]"
      ]
     },
     "metadata": {},
     "output_type": "display_data"
    },
    {
     "name": "stdout",
     "output_type": "stream",
     "text": [
      "Type-1 ASR : 0.7%\n",
      "Type-2 ASR : 0.47%\n",
      "Source FRS : eigen_t1\n",
      "Target FRS : t5\n",
      "Target Dataset : LFW\n"
     ]
    },
    {
     "data": {
      "application/vnd.jupyter.widget-view+json": {
       "model_id": "a57d6712fcd045a3a39bc1cf5ae8d49e",
       "version_major": 2,
       "version_minor": 0
      },
      "text/plain": [
       "  0%|          | 0/3000 [00:00<?, ?it/s]"
      ]
     },
     "metadata": {},
     "output_type": "display_data"
    },
    {
     "name": "stdout",
     "output_type": "stream",
     "text": [
      "Type-1 ASR : 5.93%\n",
      "Type-2 ASR : 4.23%\n",
      "Source FRS : style_t1\n",
      "Target FRS : t5\n",
      "Target Dataset : LFW\n"
     ]
    },
    {
     "data": {
      "application/vnd.jupyter.widget-view+json": {
       "model_id": "1a057b8b9e3a4d70a120c3cdae753215",
       "version_major": 2,
       "version_minor": 0
      },
      "text/plain": [
       "  0%|          | 0/3000 [00:00<?, ?it/s]"
      ]
     },
     "metadata": {},
     "output_type": "display_data"
    },
    {
     "name": "stdout",
     "output_type": "stream",
     "text": [
      "Type-1 ASR : 16.9%\n",
      "Type-2 ASR : 13.6%\n",
      "Source FRS : t1\n",
      "Target FRS : t5\n",
      "Target Dataset : LFW\n"
     ]
    },
    {
     "data": {
      "application/vnd.jupyter.widget-view+json": {
       "model_id": "50a5aecff4ae4e819affa178d7407330",
       "version_major": 2,
       "version_minor": 0
      },
      "text/plain": [
       "  0%|          | 0/3000 [00:00<?, ?it/s]"
      ]
     },
     "metadata": {},
     "output_type": "display_data"
    },
    {
     "name": "stdout",
     "output_type": "stream",
     "text": [
      "Type-1 ASR : 55.6%\n",
      "Type-2 ASR : 46.43%\n"
     ]
    }
   ],
   "source": [
    "# Table 12 (png)\n",
    "transp_t2_nb = check_transferprev('t2',target_bin=False)\n",
    "transp_t3_nb = check_transferprev('t3',target_bin=False)\n",
    "transp_t4_nb = check_transferprev('t4',target_bin=False)\n",
    "transp_t5_nb = check_transferprev('t5',target_bin=False)"
   ]
  },
  {
   "cell_type": "code",
   "execution_count": null,
   "id": "79b964bd",
   "metadata": {},
   "outputs": [],
   "source": []
  },
  {
   "cell_type": "code",
   "execution_count": 9,
   "id": "3636185c",
   "metadata": {},
   "outputs": [
    {
     "name": "stdout",
     "output_type": "stream",
     "text": [
      "Loading pretrained model DISTS from /home/cryptology96/.cache/torch/hub/checkpoints/DISTS_weights-f5e65c96.pth\n",
      "Setting up [LPIPS] perceptual loss: trunk [alex], v[0.1], spatial [off]\n"
     ]
    },
    {
     "name": "stderr",
     "output_type": "stream",
     "text": [
      "/home/cryptology96/anaconda3/lib/python3.9/site-packages/torchvision/models/_utils.py:208: UserWarning: The parameter 'pretrained' is deprecated since 0.13 and may be removed in the future, please use 'weights' instead.\n",
      "  warnings.warn(\n",
      "/home/cryptology96/anaconda3/lib/python3.9/site-packages/torchvision/models/_utils.py:223: UserWarning: Arguments other than a weight enum or `None` for 'weights' are deprecated since 0.13 and may be removed in the future. The current behavior is equivalent to passing `weights=AlexNet_Weights.IMAGENET1K_V1`. You can also use `weights=AlexNet_Weights.DEFAULT` to get the most up-to-date weights.\n",
      "  warnings.warn(msg)\n"
     ]
    },
    {
     "name": "stdout",
     "output_type": "stream",
     "text": [
      "Loading model from: /home/cryptology96/anaconda3/lib/python3.9/site-packages/lpips/weights/v0.1/alex.pth\n",
      "Setting up [LPIPS] perceptual loss: trunk [vgg], v[0.1], spatial [off]\n"
     ]
    },
    {
     "name": "stderr",
     "output_type": "stream",
     "text": [
      "/home/cryptology96/anaconda3/lib/python3.9/site-packages/torchvision/models/_utils.py:223: UserWarning: Arguments other than a weight enum or `None` for 'weights' are deprecated since 0.13 and may be removed in the future. The current behavior is equivalent to passing `weights=VGG16_Weights.IMAGENET1K_V1`. You can also use `weights=VGG16_Weights.DEFAULT` to get the most up-to-date weights.\n",
      "  warnings.warn(msg)\n"
     ]
    },
    {
     "name": "stdout",
     "output_type": "stream",
     "text": [
      "Loading model from: /home/cryptology96/anaconda3/lib/python3.9/site-packages/lpips/weights/v0.1/vgg.pth\n"
     ]
    }
   ],
   "source": [
    "# Table 13 comparison of image similarities on LFW dataset\n",
    "device = torch.device(\"cpu\")\n",
    "iqa_metric = pyiqa.create_metric(\"dists\",device=device)\n",
    "loss_fn_alex = lpips.LPIPS(net='alex')\n",
    "loss_fn_vgg = lpips.LPIPS(net='vgg')\n",
    "\n",
    "@torch.no_grad()\n",
    "def check_metric(source='t1'):\n",
    "    \n",
    "    result=torch.zeros(5,3000)\n",
    "\n",
    "    for i in tqdm(range(3000)):\n",
    "        img_recon = Image.open(\"./recon/LFW/\"+source+\"_LFW/\"+str(i)+\".png\")\n",
    "        img_recon = img_recon.resize((112,112))\n",
    "        img_recon = img_recon.convert('RGB')\n",
    "        data_recon = asarray(img_recon)\n",
    "        recon = ((torch.tensor(data_recon)-127.5)/255).permute(2,0,1).unsqueeze(0)#.to(device)\n",
    "\n",
    "        img_target = Image.open(\"./recon/LFW/Type1_LFW/\"+str(i)+\".png\")\n",
    "        img_target = img_target.resize((112,112))\n",
    "        img_target = img_target.convert('RGB')\n",
    "        data_target = asarray(img_target)\n",
    "        target = ((torch.tensor(data_target)-127.5)/255).permute(2,0,1).unsqueeze(0)#.to(device)\n",
    "\n",
    "        d_alex = loss_fn_alex(recon, target)\n",
    "        d_vgg = loss_fn_vgg(recon, target)\n",
    "        d_ssim = ssim((recon+1)/2,(target+1)/2 , data_range=1 , size_average=False)\n",
    "        d_L2 = (recon-target).norm()\n",
    "\n",
    "        recon = torch.FloatTensor(data_recon/255).permute(2,0,1).unsqueeze(0)\n",
    "        target = torch.FloatTensor(data_target/255).permute(2,0,1).unsqueeze(0)\n",
    "        d_dists = iqa_metric(recon,target)\n",
    "\n",
    "        result[0,i]=d_alex\n",
    "        result[1,i]=d_vgg\n",
    "        result[2,i]=d_dists\n",
    "        result[3,i]=d_ssim\n",
    "        result[4,i]=d_L2\n",
    "    \n",
    "    if source == \"gauss_t1\" or source == \"eigen_t1\" or source == \"style_t1\":\n",
    "        print(\"Source : \"+source+\" (previous work)\")\n",
    "    else:\n",
    "        print(\"Source : \"+source+\" (Ours)\")\n",
    "    print(\"LPIPS (Alex) :\"+str(round(float(result[0].mean()),3)))\n",
    "    print(\"LPIPS (VGG) :\"+str(round(float(result[1].mean()),3)))\n",
    "    print(\"DISTS :\"+str(round(float(result[2].mean()),3)))\n",
    "    print(\"SSIM :\"+str(round(float(result[3].mean()),3)))\n",
    "    print(\"L2-norm :\"+str(round(float(result[4].mean()),3)))\n",
    "    print(\"=============================================\")\n",
    "    \n",
    "    return result"
   ]
  },
  {
   "cell_type": "code",
   "execution_count": 10,
   "id": "ca2b65cd",
   "metadata": {
    "scrolled": false
   },
   "outputs": [
    {
     "data": {
      "application/vnd.jupyter.widget-view+json": {
       "model_id": "04282c51d3a74d91b2748d55aaa34c98",
       "version_major": 2,
       "version_minor": 0
      },
      "text/plain": [
       "  0%|          | 0/3000 [00:00<?, ?it/s]"
      ]
     },
     "metadata": {},
     "output_type": "display_data"
    },
    {
     "name": "stdout",
     "output_type": "stream",
     "text": [
      "Source : gauss_t1 (previous work)\n",
      "LPIPS (Alex) :0.531\n",
      "LPIPS (VGG) :0.475\n",
      "DISTS :0.394\n",
      "SSIM :0.589\n",
      "L2-norm :72.38\n",
      "=============================================\n"
     ]
    },
    {
     "data": {
      "application/vnd.jupyter.widget-view+json": {
       "model_id": "c699475a0bed47539631a860508953d9",
       "version_major": 2,
       "version_minor": 0
      },
      "text/plain": [
       "  0%|          | 0/3000 [00:00<?, ?it/s]"
      ]
     },
     "metadata": {},
     "output_type": "display_data"
    },
    {
     "name": "stdout",
     "output_type": "stream",
     "text": [
      "Source : eigen_t1 (previous work)\n",
      "LPIPS (Alex) :0.338\n",
      "LPIPS (VGG) :0.391\n",
      "DISTS :0.285\n",
      "SSIM :0.721\n",
      "L2-norm :39.57\n",
      "=============================================\n"
     ]
    },
    {
     "data": {
      "application/vnd.jupyter.widget-view+json": {
       "model_id": "b3b5f2bca1e04fae898b0f9bfe1b801c",
       "version_major": 2,
       "version_minor": 0
      },
      "text/plain": [
       "  0%|          | 0/3000 [00:00<?, ?it/s]"
      ]
     },
     "metadata": {},
     "output_type": "display_data"
    },
    {
     "name": "stdout",
     "output_type": "stream",
     "text": [
      "Source : style_t1 (previous work)\n",
      "LPIPS (Alex) :0.407\n",
      "LPIPS (VGG) :0.482\n",
      "DISTS :0.316\n",
      "SSIM :0.522\n",
      "L2-norm :49.788\n",
      "=============================================\n"
     ]
    },
    {
     "data": {
      "application/vnd.jupyter.widget-view+json": {
       "model_id": "3c83c4326e3d4c288747f7c1b4b8e52b",
       "version_major": 2,
       "version_minor": 0
      },
      "text/plain": [
       "  0%|          | 0/3000 [00:00<?, ?it/s]"
      ]
     },
     "metadata": {},
     "output_type": "display_data"
    },
    {
     "name": "stdout",
     "output_type": "stream",
     "text": [
      "Source : t1 (Ours)\n",
      "LPIPS (Alex) :0.228\n",
      "LPIPS (VGG) :0.322\n",
      "DISTS :0.243\n",
      "SSIM :0.781\n",
      "L2-norm :30.793\n",
      "=============================================\n"
     ]
    },
    {
     "data": {
      "application/vnd.jupyter.widget-view+json": {
       "model_id": "54144e293fc2460e9c4574f201449308",
       "version_major": 2,
       "version_minor": 0
      },
      "text/plain": [
       "  0%|          | 0/3000 [00:00<?, ?it/s]"
      ]
     },
     "metadata": {},
     "output_type": "display_data"
    },
    {
     "name": "stdout",
     "output_type": "stream",
     "text": [
      "Source : AWS (Ours)\n",
      "LPIPS (Alex) :0.228\n",
      "LPIPS (VGG) :0.323\n",
      "DISTS :0.24\n",
      "SSIM :0.787\n",
      "L2-norm :29.322\n",
      "=============================================\n"
     ]
    }
   ],
   "source": [
    "similarity_gauss = check_metric('gauss_t1')\n",
    "similarity_eigen = check_metric('eigen_t1')\n",
    "similarity_style = check_metric('style_t1')\n",
    "similarity_t1 = check_metric('t1')\n",
    "similarity_aws = check_metric('AWS')"
   ]
  },
  {
   "cell_type": "code",
   "execution_count": null,
   "id": "675a1a9b",
   "metadata": {},
   "outputs": [],
   "source": [
    "            "
   ]
  },
  {
   "cell_type": "code",
   "execution_count": null,
   "id": "01370daa",
   "metadata": {},
   "outputs": [],
   "source": []
  }
 ],
 "metadata": {
  "kernelspec": {
   "display_name": "Python 3 (ipykernel)",
   "language": "python",
   "name": "python3"
  },
  "language_info": {
   "codemirror_mode": {
    "name": "ipython",
    "version": 3
   },
   "file_extension": ".py",
   "mimetype": "text/x-python",
   "name": "python",
   "nbconvert_exporter": "python",
   "pygments_lexer": "ipython3",
   "version": "3.9.15"
  }
 },
 "nbformat": 4,
 "nbformat_minor": 5
}
