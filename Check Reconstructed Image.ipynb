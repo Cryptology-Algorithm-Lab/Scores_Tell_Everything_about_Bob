{
 "cells": [
  {
   "cell_type": "code",
   "execution_count": 7,
   "id": "395db5ac",
   "metadata": {},
   "outputs": [],
   "source": [
    "from PIL import Image\n",
    "from tqdm.auto import tqdm\n",
    "from numpy import asarray\n",
    "import math\n",
    "import torch\n",
    "from utils import utils, verification\n",
    "import os"
   ]
  },
  {
   "cell_type": "code",
   "execution_count": 8,
   "id": "d73f1624",
   "metadata": {
    "scrolled": true
   },
   "outputs": [],
   "source": [
    "def check(target_FRS='t1', source_FRS='AWS', dataset='LFW', device='cuda:0', target_bin=False):\n",
    "\n",
    "    # Valid source_FRS (string): t1, t2, t3, t4, t5, AWS, KAIROS, FACEPP\n",
    "    # Valid target_FRS (string): t1, t2, t3, t4, t5\n",
    "    # Valid dataset    (string): LFW, AGE, CFP\n",
    "    \n",
    "    print(\"Source FRS : \"+source_FRS)\n",
    "    print(\"Target FRS : \"+target_FRS)\n",
    "    print(\"Target Dataset : \"+dataset)\n",
    "    \n",
    "    # You can download png files including target images and corresponding reconstructed image using Zenodo link in README file.\n",
    "    # There are small ASR gap in terms of input image files (bin file or png file).\n",
    "    \n",
    "    device = torch.device(device)\n",
    "    blackbox = utils.target_FRS(target_FRS=target_FRS, device=device)\n",
    "    img_size = (112,112)\n",
    "    \n",
    "    if dataset=='LFW':\n",
    "        target_number = 3000\n",
    "        if target_FRS=='t1':\n",
    "            thx=72.54239687627792\n",
    "        elif target_FRS=='t2':\n",
    "            thx=77.29096700560457\n",
    "        elif target_FRS=='t3':\n",
    "            thx=74.33573314862649\n",
    "        elif target_FRS=='t4':\n",
    "            thx=75.81816627143655\n",
    "        elif target_FRS=='t5':\n",
    "            thx=63.57666123410324\n",
    "            img_size = (160,160)\n",
    "            \n",
    "        if target_bin:\n",
    "            print(\"Using bin file instead of png image\")\n",
    "            dataset_dir = \"./utils/dataset/lfw.bin\"\n",
    "            target_dataset = verification.load_bin(dataset_dir, img_size)\n",
    "            target_ind = torch.where(torch.tensor(target_dataset[1]))[0]\n",
    "            \n",
    "    elif dataset==\"AGE\":\n",
    "        target_number = 3000\n",
    "        if target_FRS=='t1':\n",
    "            thx=76.40837722605214\n",
    "        elif target_FRS=='t2':\n",
    "            thx=80.50276553148295\n",
    "        elif target_FRS=='t3':\n",
    "            thx=79.04721580110888\n",
    "        elif target_FRS=='t4':\n",
    "            thx=78.75527640762357\n",
    "        elif target_FRS=='t5':\n",
    "            thx=70.42746205557108\n",
    "            img_size = (160,160)\n",
    "            \n",
    "        if target_bin:\n",
    "            print(\"Using bin file instead of png image\")\n",
    "            dataset_dir = \"./utils/dataset/agedb_30.bin\"\n",
    "            target_dataset = verification.load_bin(dataset_dir, img_size)\n",
    "            target_ind = torch.where(torch.tensor(target_dataset[1]))[0]\n",
    "    \n",
    "    elif dataset==\"CFP\":\n",
    "        target_number = 3500\n",
    "        if target_FRS=='t1':\n",
    "            thx=77.29096700560457\n",
    "        elif target_FRS=='t2':\n",
    "            thx=81.08320374700904\n",
    "        elif target_FRS=='t3':\n",
    "            thx=79.63024019452259\n",
    "        elif target_FRS=='t4':\n",
    "            thx=81.08320374700904\n",
    "        elif target_FRS=='t5':\n",
    "            thx=73.73979529168804\n",
    "            img_size = (160,160)\n",
    "            \n",
    "        if target_bin:\n",
    "            print(\"Using bin file instead of png image\")\n",
    "            dataset_dir = \"./utils/dataset/cfp_fp.bin\"\n",
    "            target_dataset = verification.load_bin(dataset_dir, img_size)\n",
    "            target_ind = torch.where(torch.tensor(target_dataset[1]))[0]\n",
    "    \n",
    "    result = torch.zeros(2,target_number)\n",
    "\n",
    "    for i in tqdm(range(target_number)):\n",
    "        if target_bin:\n",
    "            if target_FRS == 't2':\n",
    "                data_Type1 = (target_dataset[0][0][0::2][int(target_ind[i])]).unsqueeze(0).to(device)\n",
    "                data_Type2 = (target_dataset[0][0][1::2][int(target_ind[i])]).unsqueeze(0).to(device)\n",
    "            else:\n",
    "                data_Type1 = ((target_dataset[0][0][0::2][int(target_ind[i])]-127.5)/255).unsqueeze(0).to(device)\n",
    "                data_Type2 = ((target_dataset[0][0][1::2][int(target_ind[i])]-127.5)/255).unsqueeze(0).to(device)\n",
    "        else:\n",
    "            img_Type1 = Image.open(\"./recon/\"+dataset+\"/Type1_\"+dataset+\"/\"+str(i)+\".png\")\n",
    "            img_Type1 = img_Type1.resize(img_size)\n",
    "            img_Type1 = img_Type1.convert('RGB')\n",
    "            data_Type1 = asarray(img_Type1)\n",
    "            if target_FRS == 't2':\n",
    "                data_Type1 = ((torch.Tensor(data_Type1))).permute(2,0,1).unsqueeze(0).to(device)\n",
    "            else:\n",
    "                data_Type1 = ((torch.tensor(data_Type1)-127.5)/255).permute(2,0,1).unsqueeze(0).to(device)\n",
    "\n",
    "            img_Type2 = Image.open(\"./recon/\"+dataset+\"/Type2_\"+dataset+\"/\"+str(i)+\".png\")\n",
    "            img_Type2 = img_Type2.resize(img_size)\n",
    "            img_Type2 = img_Type2.convert('RGB')\n",
    "            data_Type2 = asarray(img_Type2)\n",
    "            if target_FRS == 't2':\n",
    "                data_Type2 = ((torch.Tensor(data_Type2))).permute(2,0,1).unsqueeze(0).to(device)\n",
    "            else:\n",
    "                data_Type2 = ((torch.tensor(data_Type2)-127.5)/255).permute(2,0,1).unsqueeze(0).to(device)\n",
    "\n",
    "\n",
    "        img_recon = Image.open(\"./recon/\"+dataset+\"/\"+source_FRS+\"_\"+dataset+\"/\"+str(i)+\".png\")\n",
    "        img_recon = img_recon.resize(img_size)\n",
    "        img_recon = img_recon.convert('RGB')\n",
    "        data_recon = asarray(img_recon)\n",
    "        if target_FRS == 't2':\n",
    "            data_recon = ((torch.Tensor(data_recon))).permute(2,0,1).unsqueeze(0).to(device)\n",
    "        else:\n",
    "            data_recon = ((torch.tensor(data_recon)-127.5)/255).permute(2,0,1).unsqueeze(0).to(device)\n",
    "\n",
    "\n",
    "        with torch.no_grad():\n",
    "            feat_Type1 = blackbox(data_Type1)\n",
    "            feat_Type2 = blackbox(data_Type2)\n",
    "            feat_recon = blackbox(data_recon)\n",
    "\n",
    "            feat_Type1 = feat_Type1/feat_Type1.norm()\n",
    "            feat_Type2 = feat_Type2/feat_Type2.norm()\n",
    "            feat_recon = feat_recon/feat_recon.norm()\n",
    "\n",
    "            result[0,i]=(torch.acos((feat_Type1*feat_recon).sum())*180/math.pi).to(\"cpu\")\n",
    "            result[1,i]=(torch.acos((feat_Type2*feat_recon).sum())*180/math.pi).to(\"cpu\")\n",
    "\n",
    "    print(\"Type-1 ASR : \"+str(round(float(100*(result[0,:] <= thx).sum(0)/target_number),2))+\"%\")\n",
    "    print(\"Type-2 ASR : \"+str(round(float(100*(result[1,:] <= thx).sum(0)/target_number),2))+\"%\")\n",
    "\n",
    "    return result"
   ]
  },
  {
   "cell_type": "code",
   "execution_count": 9,
   "id": "6c4bc1d6-e6a1-4a31-a086-0e3d7f559304",
   "metadata": {},
   "outputs": [],
   "source": [
    "# Table 8 Direct attacks\n",
    "def check_direct(target='t1',target_bin=False):\n",
    "    tab_lfw = check(target,target,'LFW','cuda:0',target_bin)\n",
    "    tab_age = check(target,target,'AGE','cuda:0',target_bin)\n",
    "    tab_cfp = check(target,target,'CFP','cuda:0',target_bin)\n",
    "    return [tab_lfw,tab_age,tab_cfp]"
   ]
  },
  {
   "cell_type": "code",
   "execution_count": 4,
   "id": "29d62774-5fdd-422c-b73c-21ab01838894",
   "metadata": {},
   "outputs": [
    {
     "name": "stdout",
     "output_type": "stream",
     "text": [
      "Source FRS : t1\n",
      "Target FRS : t1\n",
      "Target Dataset : LFW\n"
     ]
    },
    {
     "data": {
      "application/vnd.jupyter.widget-view+json": {
       "model_id": "fa2557f7caa14a7cafdbae903f9c079d",
       "version_major": 2,
       "version_minor": 0
      },
      "text/plain": [
       "  0%|          | 0/3000 [00:00<?, ?it/s]"
      ]
     },
     "metadata": {},
     "output_type": "display_data"
    },
    {
     "name": "stdout",
     "output_type": "stream",
     "text": [
      "Type-1 ASR : 96.17%\n",
      "Type-2 ASR : 47.87%\n",
      "Source FRS : t1\n",
      "Target FRS : t1\n",
      "Target Dataset : AGE\n"
     ]
    },
    {
     "data": {
      "application/vnd.jupyter.widget-view+json": {
       "model_id": "51a43bbfcfec488dbc26ee76a1ae2223",
       "version_major": 2,
       "version_minor": 0
      },
      "text/plain": [
       "  0%|          | 0/3000 [00:00<?, ?it/s]"
      ]
     },
     "metadata": {},
     "output_type": "display_data"
    },
    {
     "name": "stdout",
     "output_type": "stream",
     "text": [
      "Type-1 ASR : 99.6%\n",
      "Type-2 ASR : 46.37%\n",
      "Source FRS : t1\n",
      "Target FRS : t1\n",
      "Target Dataset : CFP\n"
     ]
    },
    {
     "data": {
      "application/vnd.jupyter.widget-view+json": {
       "model_id": "465d3e66cc8b4ce18fb87cba04cc0187",
       "version_major": 2,
       "version_minor": 0
      },
      "text/plain": [
       "  0%|          | 0/3500 [00:00<?, ?it/s]"
      ]
     },
     "metadata": {},
     "output_type": "display_data"
    },
    {
     "name": "stdout",
     "output_type": "stream",
     "text": [
      "Type-1 ASR : 99.89%\n",
      "Type-2 ASR : 41.06%\n",
      "Source FRS : t2\n",
      "Target FRS : t2\n",
      "Target Dataset : LFW\n",
      "self.device_id 0\n"
     ]
    },
    {
     "data": {
      "application/vnd.jupyter.widget-view+json": {
       "model_id": "3d7f495a1e1a429dbc765c8f10429093",
       "version_major": 2,
       "version_minor": 0
      },
      "text/plain": [
       "  0%|          | 0/3000 [00:00<?, ?it/s]"
      ]
     },
     "metadata": {},
     "output_type": "display_data"
    },
    {
     "name": "stderr",
     "output_type": "stream",
     "text": [
      "/tmp/ipykernel_502285/2156684586.py:94: UserWarning: The given NumPy array is not writable, and PyTorch does not support non-writable tensors. This means writing to this tensor will result in undefined behavior. You may want to copy the array to protect its data or make it writable before converting it to a tensor. This type of warning will be suppressed for the rest of this program. (Triggered internally at ../torch/csrc/utils/tensor_numpy.cpp:206.)\n",
      "  data_Type1 = ((torch.Tensor(data_Type1))).permute(2,0,1).unsqueeze(0).to(device)\n"
     ]
    },
    {
     "name": "stdout",
     "output_type": "stream",
     "text": [
      "Type-1 ASR : 95.37%\n",
      "Type-2 ASR : 40.47%\n",
      "Source FRS : t2\n",
      "Target FRS : t2\n",
      "Target Dataset : AGE\n",
      "self.device_id 0\n"
     ]
    },
    {
     "data": {
      "application/vnd.jupyter.widget-view+json": {
       "model_id": "5e89158d9e9c4cc091dea5d83fa70fd3",
       "version_major": 2,
       "version_minor": 0
      },
      "text/plain": [
       "  0%|          | 0/3000 [00:00<?, ?it/s]"
      ]
     },
     "metadata": {},
     "output_type": "display_data"
    },
    {
     "name": "stdout",
     "output_type": "stream",
     "text": [
      "Type-1 ASR : 99.73%\n",
      "Type-2 ASR : 43.9%\n",
      "Source FRS : t2\n",
      "Target FRS : t2\n",
      "Target Dataset : CFP\n",
      "self.device_id 0\n"
     ]
    },
    {
     "data": {
      "application/vnd.jupyter.widget-view+json": {
       "model_id": "f5e5d85d6cf643269a796bea929c6f5e",
       "version_major": 2,
       "version_minor": 0
      },
      "text/plain": [
       "  0%|          | 0/3500 [00:00<?, ?it/s]"
      ]
     },
     "metadata": {},
     "output_type": "display_data"
    },
    {
     "name": "stdout",
     "output_type": "stream",
     "text": [
      "Type-1 ASR : 99.63%\n",
      "Type-2 ASR : 29.71%\n",
      "Source FRS : t3\n",
      "Target FRS : t3\n",
      "Target Dataset : LFW\n"
     ]
    },
    {
     "data": {
      "application/vnd.jupyter.widget-view+json": {
       "model_id": "9a88db9b7e9b4d94be429f231bfbdfdd",
       "version_major": 2,
       "version_minor": 0
      },
      "text/plain": [
       "  0%|          | 0/3000 [00:00<?, ?it/s]"
      ]
     },
     "metadata": {},
     "output_type": "display_data"
    },
    {
     "name": "stdout",
     "output_type": "stream",
     "text": [
      "Type-1 ASR : 95.83%\n",
      "Type-2 ASR : 38.7%\n",
      "Source FRS : t3\n",
      "Target FRS : t3\n",
      "Target Dataset : AGE\n"
     ]
    },
    {
     "data": {
      "application/vnd.jupyter.widget-view+json": {
       "model_id": "3c502ee6ea2c4d63b9251dcb8ca55d21",
       "version_major": 2,
       "version_minor": 0
      },
      "text/plain": [
       "  0%|          | 0/3000 [00:00<?, ?it/s]"
      ]
     },
     "metadata": {},
     "output_type": "display_data"
    },
    {
     "name": "stdout",
     "output_type": "stream",
     "text": [
      "Type-1 ASR : 96.03%\n",
      "Type-2 ASR : 33.8%\n",
      "Source FRS : t3\n",
      "Target FRS : t3\n",
      "Target Dataset : CFP\n"
     ]
    },
    {
     "data": {
      "application/vnd.jupyter.widget-view+json": {
       "model_id": "3381b54eacc747cca91047b1646c908c",
       "version_major": 2,
       "version_minor": 0
      },
      "text/plain": [
       "  0%|          | 0/3500 [00:00<?, ?it/s]"
      ]
     },
     "metadata": {},
     "output_type": "display_data"
    },
    {
     "name": "stdout",
     "output_type": "stream",
     "text": [
      "Type-1 ASR : 95.49%\n",
      "Type-2 ASR : 29.03%\n",
      "Source FRS : t4\n",
      "Target FRS : t4\n",
      "Target Dataset : LFW\n"
     ]
    },
    {
     "data": {
      "application/vnd.jupyter.widget-view+json": {
       "model_id": "b15e3f16a9d045aba649a56d0fc75d66",
       "version_major": 2,
       "version_minor": 0
      },
      "text/plain": [
       "  0%|          | 0/3000 [00:00<?, ?it/s]"
      ]
     },
     "metadata": {},
     "output_type": "display_data"
    },
    {
     "name": "stdout",
     "output_type": "stream",
     "text": [
      "Type-1 ASR : 88.07%\n",
      "Type-2 ASR : 43.03%\n",
      "Source FRS : t4\n",
      "Target FRS : t4\n",
      "Target Dataset : AGE\n"
     ]
    },
    {
     "data": {
      "application/vnd.jupyter.widget-view+json": {
       "model_id": "11b4d9bebe1b45f48da0d1cf8a96caf9",
       "version_major": 2,
       "version_minor": 0
      },
      "text/plain": [
       "  0%|          | 0/3000 [00:00<?, ?it/s]"
      ]
     },
     "metadata": {},
     "output_type": "display_data"
    },
    {
     "name": "stdout",
     "output_type": "stream",
     "text": [
      "Type-1 ASR : 88.63%\n",
      "Type-2 ASR : 26.2%\n",
      "Source FRS : t4\n",
      "Target FRS : t4\n",
      "Target Dataset : CFP\n"
     ]
    },
    {
     "data": {
      "application/vnd.jupyter.widget-view+json": {
       "model_id": "bb1a0f5f08be47efbb7ef03cc49cbf33",
       "version_major": 2,
       "version_minor": 0
      },
      "text/plain": [
       "  0%|          | 0/3500 [00:00<?, ?it/s]"
      ]
     },
     "metadata": {},
     "output_type": "display_data"
    },
    {
     "name": "stdout",
     "output_type": "stream",
     "text": [
      "Type-1 ASR : 89.14%\n",
      "Type-2 ASR : 23.37%\n",
      "Source FRS : t5\n",
      "Target FRS : t5\n",
      "Target Dataset : LFW\n"
     ]
    },
    {
     "data": {
      "application/vnd.jupyter.widget-view+json": {
       "model_id": "5f82b59b7704497aa72fefd26de83a01",
       "version_major": 2,
       "version_minor": 0
      },
      "text/plain": [
       "  0%|          | 0/3000 [00:00<?, ?it/s]"
      ]
     },
     "metadata": {},
     "output_type": "display_data"
    },
    {
     "name": "stdout",
     "output_type": "stream",
     "text": [
      "Type-1 ASR : 80.53%\n",
      "Type-2 ASR : 55.8%\n",
      "Source FRS : t5\n",
      "Target FRS : t5\n",
      "Target Dataset : AGE\n"
     ]
    },
    {
     "data": {
      "application/vnd.jupyter.widget-view+json": {
       "model_id": "2765d251535c476e9e43b2d19a2977df",
       "version_major": 2,
       "version_minor": 0
      },
      "text/plain": [
       "  0%|          | 0/3000 [00:00<?, ?it/s]"
      ]
     },
     "metadata": {},
     "output_type": "display_data"
    },
    {
     "name": "stdout",
     "output_type": "stream",
     "text": [
      "Type-1 ASR : 94.47%\n",
      "Type-2 ASR : 61.83%\n",
      "Source FRS : t5\n",
      "Target FRS : t5\n",
      "Target Dataset : CFP\n"
     ]
    },
    {
     "data": {
      "application/vnd.jupyter.widget-view+json": {
       "model_id": "a19af670b71f4be6b0661803cbc4e3c2",
       "version_major": 2,
       "version_minor": 0
      },
      "text/plain": [
       "  0%|          | 0/3500 [00:00<?, ?it/s]"
      ]
     },
     "metadata": {},
     "output_type": "display_data"
    },
    {
     "name": "stdout",
     "output_type": "stream",
     "text": [
      "Type-1 ASR : 97.57%\n",
      "Type-2 ASR : 77.71%\n"
     ]
    }
   ],
   "source": [
    "# Table 8\n",
    "dir_t1 = check_direct('t1')\n",
    "dir_t2 = check_direct('t2')\n",
    "dir_t3 = check_direct('t3')\n",
    "dir_t4 = check_direct('t4')\n",
    "dir_t5 = check_direct('t5')"
   ]
  },
  {
   "cell_type": "code",
   "execution_count": 10,
   "id": "e2dab817-63b3-4d85-9603-d7359ba7d560",
   "metadata": {},
   "outputs": [],
   "source": [
    "# Table 10 and 11 transfer attacks (against non-commercial targets)\n",
    "# Note that paper only reports for LFW, but we can run for all 3 datasets\n",
    "sources = ['t1','t2','t3','t4','t5','AWS','FACEPP','KAIROS']\n",
    "def check_transfer(target='t1',dataset='LFW',target_bin=False):\n",
    "    return [check(target,source,dataset,'cuda:0',target_bin) for source in sources if source !=target]"
   ]
  },
  {
   "cell_type": "code",
   "execution_count": 6,
   "id": "2f81c234-3459-498b-a52e-2531a0df9621",
   "metadata": {
    "scrolled": true
   },
   "outputs": [
    {
     "name": "stdout",
     "output_type": "stream",
     "text": [
      "Source FRS : t2\n",
      "Target FRS : t1\n",
      "Target Dataset : LFW\n",
      "Using bin file instead of png image\n",
      "loading bin 0\n",
      "loading bin 1000\n",
      "loading bin 2000\n",
      "loading bin 3000\n",
      "loading bin 4000\n",
      "loading bin 5000\n",
      "loading bin 6000\n",
      "loading bin 7000\n",
      "loading bin 8000\n",
      "loading bin 9000\n",
      "loading bin 10000\n",
      "loading bin 11000\n",
      "torch.Size([12000, 3, 112, 112])\n"
     ]
    },
    {
     "data": {
      "application/vnd.jupyter.widget-view+json": {
       "model_id": "0a8cd05182954a6d86ffb3d5dfe3bda2",
       "version_major": 2,
       "version_minor": 0
      },
      "text/plain": [
       "  0%|          | 0/3000 [00:00<?, ?it/s]"
      ]
     },
     "metadata": {},
     "output_type": "display_data"
    },
    {
     "name": "stdout",
     "output_type": "stream",
     "text": [
      "Type-1 ASR : 53.4%\n",
      "Type-2 ASR : 15.6%\n",
      "Source FRS : t3\n",
      "Target FRS : t1\n",
      "Target Dataset : LFW\n",
      "Using bin file instead of png image\n",
      "loading bin 0\n",
      "loading bin 1000\n",
      "loading bin 2000\n",
      "loading bin 3000\n",
      "loading bin 4000\n",
      "loading bin 5000\n",
      "loading bin 6000\n",
      "loading bin 7000\n",
      "loading bin 8000\n",
      "loading bin 9000\n",
      "loading bin 10000\n",
      "loading bin 11000\n",
      "torch.Size([12000, 3, 112, 112])\n"
     ]
    },
    {
     "data": {
      "application/vnd.jupyter.widget-view+json": {
       "model_id": "35f2a0694ab841aa89842edcfebdcb56",
       "version_major": 2,
       "version_minor": 0
      },
      "text/plain": [
       "  0%|          | 0/3000 [00:00<?, ?it/s]"
      ]
     },
     "metadata": {},
     "output_type": "display_data"
    },
    {
     "name": "stdout",
     "output_type": "stream",
     "text": [
      "Type-1 ASR : 82.23%\n",
      "Type-2 ASR : 31.6%\n",
      "Source FRS : t4\n",
      "Target FRS : t1\n",
      "Target Dataset : LFW\n",
      "Using bin file instead of png image\n",
      "loading bin 0\n",
      "loading bin 1000\n",
      "loading bin 2000\n",
      "loading bin 3000\n",
      "loading bin 4000\n",
      "loading bin 5000\n",
      "loading bin 6000\n",
      "loading bin 7000\n",
      "loading bin 8000\n",
      "loading bin 9000\n",
      "loading bin 10000\n",
      "loading bin 11000\n",
      "torch.Size([12000, 3, 112, 112])\n"
     ]
    },
    {
     "data": {
      "application/vnd.jupyter.widget-view+json": {
       "model_id": "88f89825ca4348d09a764dd31992ee00",
       "version_major": 2,
       "version_minor": 0
      },
      "text/plain": [
       "  0%|          | 0/3000 [00:00<?, ?it/s]"
      ]
     },
     "metadata": {},
     "output_type": "display_data"
    },
    {
     "name": "stdout",
     "output_type": "stream",
     "text": [
      "Type-1 ASR : 2.43%\n",
      "Type-2 ASR : 1.07%\n",
      "Source FRS : t5\n",
      "Target FRS : t1\n",
      "Target Dataset : LFW\n",
      "Using bin file instead of png image\n",
      "loading bin 0\n",
      "loading bin 1000\n",
      "loading bin 2000\n",
      "loading bin 3000\n",
      "loading bin 4000\n",
      "loading bin 5000\n",
      "loading bin 6000\n",
      "loading bin 7000\n",
      "loading bin 8000\n",
      "loading bin 9000\n",
      "loading bin 10000\n",
      "loading bin 11000\n",
      "torch.Size([12000, 3, 112, 112])\n"
     ]
    },
    {
     "data": {
      "application/vnd.jupyter.widget-view+json": {
       "model_id": "7e8624f1bf9b4311b53cd6eb586b4b75",
       "version_major": 2,
       "version_minor": 0
      },
      "text/plain": [
       "  0%|          | 0/3000 [00:00<?, ?it/s]"
      ]
     },
     "metadata": {},
     "output_type": "display_data"
    },
    {
     "name": "stdout",
     "output_type": "stream",
     "text": [
      "Type-1 ASR : 0.6%\n",
      "Type-2 ASR : 0.6%\n",
      "Source FRS : AWS\n",
      "Target FRS : t1\n",
      "Target Dataset : LFW\n",
      "Using bin file instead of png image\n",
      "loading bin 0\n",
      "loading bin 1000\n",
      "loading bin 2000\n",
      "loading bin 3000\n",
      "loading bin 4000\n",
      "loading bin 5000\n",
      "loading bin 6000\n",
      "loading bin 7000\n",
      "loading bin 8000\n",
      "loading bin 9000\n",
      "loading bin 10000\n",
      "loading bin 11000\n",
      "torch.Size([12000, 3, 112, 112])\n"
     ]
    },
    {
     "data": {
      "application/vnd.jupyter.widget-view+json": {
       "model_id": "f56d0352dec84913b04e2fb1359e7397",
       "version_major": 2,
       "version_minor": 0
      },
      "text/plain": [
       "  0%|          | 0/3000 [00:00<?, ?it/s]"
      ]
     },
     "metadata": {},
     "output_type": "display_data"
    },
    {
     "name": "stdout",
     "output_type": "stream",
     "text": [
      "Type-1 ASR : 25.8%\n",
      "Type-2 ASR : 8.63%\n",
      "Source FRS : FACEPP\n",
      "Target FRS : t1\n",
      "Target Dataset : LFW\n",
      "Using bin file instead of png image\n",
      "loading bin 0\n",
      "loading bin 1000\n",
      "loading bin 2000\n",
      "loading bin 3000\n",
      "loading bin 4000\n",
      "loading bin 5000\n",
      "loading bin 6000\n",
      "loading bin 7000\n",
      "loading bin 8000\n",
      "loading bin 9000\n",
      "loading bin 10000\n",
      "loading bin 11000\n",
      "torch.Size([12000, 3, 112, 112])\n"
     ]
    },
    {
     "data": {
      "application/vnd.jupyter.widget-view+json": {
       "model_id": "5a241d48146c4dbd9a5b53716e014c79",
       "version_major": 2,
       "version_minor": 0
      },
      "text/plain": [
       "  0%|          | 0/3000 [00:00<?, ?it/s]"
      ]
     },
     "metadata": {},
     "output_type": "display_data"
    },
    {
     "name": "stdout",
     "output_type": "stream",
     "text": [
      "Type-1 ASR : 1.37%\n",
      "Type-2 ASR : 0.83%\n",
      "Source FRS : KAIROS\n",
      "Target FRS : t1\n",
      "Target Dataset : LFW\n",
      "Using bin file instead of png image\n",
      "loading bin 0\n",
      "loading bin 1000\n",
      "loading bin 2000\n",
      "loading bin 3000\n",
      "loading bin 4000\n",
      "loading bin 5000\n",
      "loading bin 6000\n",
      "loading bin 7000\n",
      "loading bin 8000\n",
      "loading bin 9000\n",
      "loading bin 10000\n",
      "loading bin 11000\n",
      "torch.Size([12000, 3, 112, 112])\n"
     ]
    },
    {
     "data": {
      "application/vnd.jupyter.widget-view+json": {
       "model_id": "f26a905b50074376a68feae019b4612f",
       "version_major": 2,
       "version_minor": 0
      },
      "text/plain": [
       "  0%|          | 0/3000 [00:00<?, ?it/s]"
      ]
     },
     "metadata": {},
     "output_type": "display_data"
    },
    {
     "name": "stdout",
     "output_type": "stream",
     "text": [
      "Type-1 ASR : 0.7%\n",
      "Type-2 ASR : 0.63%\n",
      "Source FRS : t1\n",
      "Target FRS : t2\n",
      "Target Dataset : LFW\n",
      "self.device_id 0\n",
      "Using bin file instead of png image\n",
      "loading bin 0\n",
      "loading bin 1000\n",
      "loading bin 2000\n",
      "loading bin 3000\n",
      "loading bin 4000\n",
      "loading bin 5000\n",
      "loading bin 6000\n",
      "loading bin 7000\n",
      "loading bin 8000\n",
      "loading bin 9000\n",
      "loading bin 10000\n",
      "loading bin 11000\n",
      "torch.Size([12000, 3, 112, 112])\n"
     ]
    },
    {
     "data": {
      "application/vnd.jupyter.widget-view+json": {
       "model_id": "a9f4f9c83e82443a9f0b7dcb2333aa02",
       "version_major": 2,
       "version_minor": 0
      },
      "text/plain": [
       "  0%|          | 0/3000 [00:00<?, ?it/s]"
      ]
     },
     "metadata": {},
     "output_type": "display_data"
    },
    {
     "name": "stdout",
     "output_type": "stream",
     "text": [
      "Type-1 ASR : 85.0%\n",
      "Type-2 ASR : 48.07%\n",
      "Source FRS : t3\n",
      "Target FRS : t2\n",
      "Target Dataset : LFW\n",
      "self.device_id 0\n",
      "Using bin file instead of png image\n",
      "loading bin 0\n",
      "loading bin 1000\n",
      "loading bin 2000\n",
      "loading bin 3000\n",
      "loading bin 4000\n",
      "loading bin 5000\n",
      "loading bin 6000\n",
      "loading bin 7000\n",
      "loading bin 8000\n",
      "loading bin 9000\n",
      "loading bin 10000\n",
      "loading bin 11000\n",
      "torch.Size([12000, 3, 112, 112])\n"
     ]
    },
    {
     "data": {
      "application/vnd.jupyter.widget-view+json": {
       "model_id": "735ddaebac1d41d79d38c2fe4cb63611",
       "version_major": 2,
       "version_minor": 0
      },
      "text/plain": [
       "  0%|          | 0/3000 [00:00<?, ?it/s]"
      ]
     },
     "metadata": {},
     "output_type": "display_data"
    },
    {
     "name": "stdout",
     "output_type": "stream",
     "text": [
      "Type-1 ASR : 81.2%\n",
      "Type-2 ASR : 40.2%\n",
      "Source FRS : t4\n",
      "Target FRS : t2\n",
      "Target Dataset : LFW\n",
      "self.device_id 0\n",
      "Using bin file instead of png image\n",
      "loading bin 0\n",
      "loading bin 1000\n",
      "loading bin 2000\n",
      "loading bin 3000\n",
      "loading bin 4000\n",
      "loading bin 5000\n",
      "loading bin 6000\n",
      "loading bin 7000\n",
      "loading bin 8000\n",
      "loading bin 9000\n",
      "loading bin 10000\n",
      "loading bin 11000\n",
      "torch.Size([12000, 3, 112, 112])\n"
     ]
    },
    {
     "data": {
      "application/vnd.jupyter.widget-view+json": {
       "model_id": "225f0c11342b4554b2674b037f85d5ab",
       "version_major": 2,
       "version_minor": 0
      },
      "text/plain": [
       "  0%|          | 0/3000 [00:00<?, ?it/s]"
      ]
     },
     "metadata": {},
     "output_type": "display_data"
    },
    {
     "name": "stdout",
     "output_type": "stream",
     "text": [
      "Type-1 ASR : 6.77%\n",
      "Type-2 ASR : 2.87%\n",
      "Source FRS : t5\n",
      "Target FRS : t2\n",
      "Target Dataset : LFW\n",
      "self.device_id 0\n",
      "Using bin file instead of png image\n",
      "loading bin 0\n",
      "loading bin 1000\n",
      "loading bin 2000\n",
      "loading bin 3000\n",
      "loading bin 4000\n",
      "loading bin 5000\n",
      "loading bin 6000\n",
      "loading bin 7000\n",
      "loading bin 8000\n",
      "loading bin 9000\n",
      "loading bin 10000\n",
      "loading bin 11000\n",
      "torch.Size([12000, 3, 112, 112])\n"
     ]
    },
    {
     "data": {
      "application/vnd.jupyter.widget-view+json": {
       "model_id": "37ad0a9fbf484717842e36327b664c0e",
       "version_major": 2,
       "version_minor": 0
      },
      "text/plain": [
       "  0%|          | 0/3000 [00:00<?, ?it/s]"
      ]
     },
     "metadata": {},
     "output_type": "display_data"
    },
    {
     "name": "stdout",
     "output_type": "stream",
     "text": [
      "Type-1 ASR : 1.1%\n",
      "Type-2 ASR : 1.03%\n",
      "Source FRS : AWS\n",
      "Target FRS : t2\n",
      "Target Dataset : LFW\n",
      "self.device_id 0\n",
      "Using bin file instead of png image\n",
      "loading bin 0\n",
      "loading bin 1000\n",
      "loading bin 2000\n",
      "loading bin 3000\n",
      "loading bin 4000\n",
      "loading bin 5000\n",
      "loading bin 6000\n",
      "loading bin 7000\n",
      "loading bin 8000\n",
      "loading bin 9000\n",
      "loading bin 10000\n",
      "loading bin 11000\n",
      "torch.Size([12000, 3, 112, 112])\n"
     ]
    },
    {
     "data": {
      "application/vnd.jupyter.widget-view+json": {
       "model_id": "cbd8bcf0a2304c238d9f94bd6aa4bb43",
       "version_major": 2,
       "version_minor": 0
      },
      "text/plain": [
       "  0%|          | 0/3000 [00:00<?, ?it/s]"
      ]
     },
     "metadata": {},
     "output_type": "display_data"
    },
    {
     "name": "stdout",
     "output_type": "stream",
     "text": [
      "Type-1 ASR : 35.5%\n",
      "Type-2 ASR : 19.47%\n",
      "Source FRS : FACEPP\n",
      "Target FRS : t2\n",
      "Target Dataset : LFW\n",
      "self.device_id 0\n",
      "Using bin file instead of png image\n",
      "loading bin 0\n",
      "loading bin 1000\n",
      "loading bin 2000\n",
      "loading bin 3000\n",
      "loading bin 4000\n",
      "loading bin 5000\n",
      "loading bin 6000\n",
      "loading bin 7000\n",
      "loading bin 8000\n",
      "loading bin 9000\n",
      "loading bin 10000\n",
      "loading bin 11000\n",
      "torch.Size([12000, 3, 112, 112])\n"
     ]
    },
    {
     "data": {
      "application/vnd.jupyter.widget-view+json": {
       "model_id": "f03fcb47d1eb4261899481f4d2ffe769",
       "version_major": 2,
       "version_minor": 0
      },
      "text/plain": [
       "  0%|          | 0/3000 [00:00<?, ?it/s]"
      ]
     },
     "metadata": {},
     "output_type": "display_data"
    },
    {
     "name": "stdout",
     "output_type": "stream",
     "text": [
      "Type-1 ASR : 6.0%\n",
      "Type-2 ASR : 3.13%\n",
      "Source FRS : KAIROS\n",
      "Target FRS : t2\n",
      "Target Dataset : LFW\n",
      "self.device_id 0\n",
      "Using bin file instead of png image\n",
      "loading bin 0\n",
      "loading bin 1000\n",
      "loading bin 2000\n",
      "loading bin 3000\n",
      "loading bin 4000\n",
      "loading bin 5000\n",
      "loading bin 6000\n",
      "loading bin 7000\n",
      "loading bin 8000\n",
      "loading bin 9000\n",
      "loading bin 10000\n",
      "loading bin 11000\n",
      "torch.Size([12000, 3, 112, 112])\n"
     ]
    },
    {
     "data": {
      "application/vnd.jupyter.widget-view+json": {
       "model_id": "dea1418d6c71488488ab9c5433816068",
       "version_major": 2,
       "version_minor": 0
      },
      "text/plain": [
       "  0%|          | 0/3000 [00:00<?, ?it/s]"
      ]
     },
     "metadata": {},
     "output_type": "display_data"
    },
    {
     "name": "stdout",
     "output_type": "stream",
     "text": [
      "Type-1 ASR : 3.77%\n",
      "Type-2 ASR : 2.57%\n",
      "Source FRS : t1\n",
      "Target FRS : t3\n",
      "Target Dataset : LFW\n",
      "Using bin file instead of png image\n",
      "loading bin 0\n",
      "loading bin 1000\n",
      "loading bin 2000\n",
      "loading bin 3000\n",
      "loading bin 4000\n",
      "loading bin 5000\n",
      "loading bin 6000\n",
      "loading bin 7000\n",
      "loading bin 8000\n",
      "loading bin 9000\n",
      "loading bin 10000\n",
      "loading bin 11000\n",
      "torch.Size([12000, 3, 112, 112])\n"
     ]
    },
    {
     "data": {
      "application/vnd.jupyter.widget-view+json": {
       "model_id": "20ffe90762a44a0c82758967ab2c6544",
       "version_major": 2,
       "version_minor": 0
      },
      "text/plain": [
       "  0%|          | 0/3000 [00:00<?, ?it/s]"
      ]
     },
     "metadata": {},
     "output_type": "display_data"
    },
    {
     "name": "stdout",
     "output_type": "stream",
     "text": [
      "Type-1 ASR : 87.23%\n",
      "Type-2 ASR : 40.13%\n",
      "Source FRS : t2\n",
      "Target FRS : t3\n",
      "Target Dataset : LFW\n",
      "Using bin file instead of png image\n",
      "loading bin 0\n",
      "loading bin 1000\n",
      "loading bin 2000\n",
      "loading bin 3000\n",
      "loading bin 4000\n",
      "loading bin 5000\n",
      "loading bin 6000\n",
      "loading bin 7000\n",
      "loading bin 8000\n",
      "loading bin 9000\n",
      "loading bin 10000\n",
      "loading bin 11000\n",
      "torch.Size([12000, 3, 112, 112])\n"
     ]
    },
    {
     "data": {
      "application/vnd.jupyter.widget-view+json": {
       "model_id": "a29a60bc5f9f4b4abc059f62cc724b3d",
       "version_major": 2,
       "version_minor": 0
      },
      "text/plain": [
       "  0%|          | 0/3000 [00:00<?, ?it/s]"
      ]
     },
     "metadata": {},
     "output_type": "display_data"
    },
    {
     "name": "stdout",
     "output_type": "stream",
     "text": [
      "Type-1 ASR : 57.4%\n",
      "Type-2 ASR : 17.5%\n",
      "Source FRS : t4\n",
      "Target FRS : t3\n",
      "Target Dataset : LFW\n",
      "Using bin file instead of png image\n",
      "loading bin 0\n",
      "loading bin 1000\n",
      "loading bin 2000\n",
      "loading bin 3000\n",
      "loading bin 4000\n",
      "loading bin 5000\n",
      "loading bin 6000\n",
      "loading bin 7000\n",
      "loading bin 8000\n",
      "loading bin 9000\n",
      "loading bin 10000\n",
      "loading bin 11000\n",
      "torch.Size([12000, 3, 112, 112])\n"
     ]
    },
    {
     "data": {
      "application/vnd.jupyter.widget-view+json": {
       "model_id": "74d449a2fd8645b5b6bd7e228a76e1d0",
       "version_major": 2,
       "version_minor": 0
      },
      "text/plain": [
       "  0%|          | 0/3000 [00:00<?, ?it/s]"
      ]
     },
     "metadata": {},
     "output_type": "display_data"
    },
    {
     "name": "stdout",
     "output_type": "stream",
     "text": [
      "Type-1 ASR : 3.5%\n",
      "Type-2 ASR : 1.43%\n",
      "Source FRS : t5\n",
      "Target FRS : t3\n",
      "Target Dataset : LFW\n",
      "Using bin file instead of png image\n",
      "loading bin 0\n",
      "loading bin 1000\n",
      "loading bin 2000\n",
      "loading bin 3000\n",
      "loading bin 4000\n",
      "loading bin 5000\n",
      "loading bin 6000\n",
      "loading bin 7000\n",
      "loading bin 8000\n",
      "loading bin 9000\n",
      "loading bin 10000\n",
      "loading bin 11000\n",
      "torch.Size([12000, 3, 112, 112])\n"
     ]
    },
    {
     "data": {
      "application/vnd.jupyter.widget-view+json": {
       "model_id": "b1d964814e0c4df1980c5660c4fd87e3",
       "version_major": 2,
       "version_minor": 0
      },
      "text/plain": [
       "  0%|          | 0/3000 [00:00<?, ?it/s]"
      ]
     },
     "metadata": {},
     "output_type": "display_data"
    },
    {
     "name": "stdout",
     "output_type": "stream",
     "text": [
      "Type-1 ASR : 0.73%\n",
      "Type-2 ASR : 0.63%\n",
      "Source FRS : AWS\n",
      "Target FRS : t3\n",
      "Target Dataset : LFW\n",
      "Using bin file instead of png image\n",
      "loading bin 0\n",
      "loading bin 1000\n",
      "loading bin 2000\n",
      "loading bin 3000\n",
      "loading bin 4000\n",
      "loading bin 5000\n",
      "loading bin 6000\n",
      "loading bin 7000\n",
      "loading bin 8000\n",
      "loading bin 9000\n",
      "loading bin 10000\n",
      "loading bin 11000\n",
      "torch.Size([12000, 3, 112, 112])\n"
     ]
    },
    {
     "data": {
      "application/vnd.jupyter.widget-view+json": {
       "model_id": "61f0b9c9e6c9481aa4570bc9a46441cc",
       "version_major": 2,
       "version_minor": 0
      },
      "text/plain": [
       "  0%|          | 0/3000 [00:00<?, ?it/s]"
      ]
     },
     "metadata": {},
     "output_type": "display_data"
    },
    {
     "name": "stdout",
     "output_type": "stream",
     "text": [
      "Type-1 ASR : 27.07%\n",
      "Type-2 ASR : 10.23%\n",
      "Source FRS : FACEPP\n",
      "Target FRS : t3\n",
      "Target Dataset : LFW\n",
      "Using bin file instead of png image\n",
      "loading bin 0\n",
      "loading bin 1000\n",
      "loading bin 2000\n",
      "loading bin 3000\n",
      "loading bin 4000\n",
      "loading bin 5000\n",
      "loading bin 6000\n",
      "loading bin 7000\n",
      "loading bin 8000\n",
      "loading bin 9000\n",
      "loading bin 10000\n",
      "loading bin 11000\n",
      "torch.Size([12000, 3, 112, 112])\n"
     ]
    },
    {
     "data": {
      "application/vnd.jupyter.widget-view+json": {
       "model_id": "0ec6a9dd7510425383f982d2403a1903",
       "version_major": 2,
       "version_minor": 0
      },
      "text/plain": [
       "  0%|          | 0/3000 [00:00<?, ?it/s]"
      ]
     },
     "metadata": {},
     "output_type": "display_data"
    },
    {
     "name": "stdout",
     "output_type": "stream",
     "text": [
      "Type-1 ASR : 2.4%\n",
      "Type-2 ASR : 1.4%\n",
      "Source FRS : KAIROS\n",
      "Target FRS : t3\n",
      "Target Dataset : LFW\n",
      "Using bin file instead of png image\n",
      "loading bin 0\n",
      "loading bin 1000\n",
      "loading bin 2000\n",
      "loading bin 3000\n",
      "loading bin 4000\n",
      "loading bin 5000\n",
      "loading bin 6000\n",
      "loading bin 7000\n",
      "loading bin 8000\n",
      "loading bin 9000\n",
      "loading bin 10000\n",
      "loading bin 11000\n",
      "torch.Size([12000, 3, 112, 112])\n"
     ]
    },
    {
     "data": {
      "application/vnd.jupyter.widget-view+json": {
       "model_id": "4b70a0ebde724f73ba61868e8f483996",
       "version_major": 2,
       "version_minor": 0
      },
      "text/plain": [
       "  0%|          | 0/3000 [00:00<?, ?it/s]"
      ]
     },
     "metadata": {},
     "output_type": "display_data"
    },
    {
     "name": "stdout",
     "output_type": "stream",
     "text": [
      "Type-1 ASR : 1.27%\n",
      "Type-2 ASR : 1.0%\n",
      "Source FRS : t1\n",
      "Target FRS : t4\n",
      "Target Dataset : LFW\n",
      "Using bin file instead of png image\n",
      "loading bin 0\n",
      "loading bin 1000\n",
      "loading bin 2000\n",
      "loading bin 3000\n",
      "loading bin 4000\n",
      "loading bin 5000\n",
      "loading bin 6000\n",
      "loading bin 7000\n",
      "loading bin 8000\n",
      "loading bin 9000\n",
      "loading bin 10000\n",
      "loading bin 11000\n",
      "torch.Size([12000, 3, 112, 112])\n"
     ]
    },
    {
     "data": {
      "application/vnd.jupyter.widget-view+json": {
       "model_id": "21d4735ea7964f258af7af8f201a9883",
       "version_major": 2,
       "version_minor": 0
      },
      "text/plain": [
       "  0%|          | 0/3000 [00:00<?, ?it/s]"
      ]
     },
     "metadata": {},
     "output_type": "display_data"
    },
    {
     "name": "stdout",
     "output_type": "stream",
     "text": [
      "Type-1 ASR : 69.63%\n",
      "Type-2 ASR : 46.0%\n",
      "Source FRS : t2\n",
      "Target FRS : t4\n",
      "Target Dataset : LFW\n",
      "Using bin file instead of png image\n",
      "loading bin 0\n",
      "loading bin 1000\n",
      "loading bin 2000\n",
      "loading bin 3000\n",
      "loading bin 4000\n",
      "loading bin 5000\n",
      "loading bin 6000\n",
      "loading bin 7000\n",
      "loading bin 8000\n",
      "loading bin 9000\n",
      "loading bin 10000\n",
      "loading bin 11000\n",
      "torch.Size([12000, 3, 112, 112])\n"
     ]
    },
    {
     "data": {
      "application/vnd.jupyter.widget-view+json": {
       "model_id": "c22e08bc471c4d84bb59482d2616ab22",
       "version_major": 2,
       "version_minor": 0
      },
      "text/plain": [
       "  0%|          | 0/3000 [00:00<?, ?it/s]"
      ]
     },
     "metadata": {},
     "output_type": "display_data"
    },
    {
     "name": "stdout",
     "output_type": "stream",
     "text": [
      "Type-1 ASR : 58.5%\n",
      "Type-2 ASR : 30.67%\n",
      "Source FRS : t3\n",
      "Target FRS : t4\n",
      "Target Dataset : LFW\n",
      "Using bin file instead of png image\n",
      "loading bin 0\n",
      "loading bin 1000\n",
      "loading bin 2000\n",
      "loading bin 3000\n",
      "loading bin 4000\n",
      "loading bin 5000\n",
      "loading bin 6000\n",
      "loading bin 7000\n",
      "loading bin 8000\n",
      "loading bin 9000\n",
      "loading bin 10000\n",
      "loading bin 11000\n",
      "torch.Size([12000, 3, 112, 112])\n"
     ]
    },
    {
     "data": {
      "application/vnd.jupyter.widget-view+json": {
       "model_id": "c3492d650dcf4b4499593c3b8c0a4408",
       "version_major": 2,
       "version_minor": 0
      },
      "text/plain": [
       "  0%|          | 0/3000 [00:00<?, ?it/s]"
      ]
     },
     "metadata": {},
     "output_type": "display_data"
    },
    {
     "name": "stdout",
     "output_type": "stream",
     "text": [
      "Type-1 ASR : 74.87%\n",
      "Type-2 ASR : 44.07%\n",
      "Source FRS : t5\n",
      "Target FRS : t4\n",
      "Target Dataset : LFW\n",
      "Using bin file instead of png image\n",
      "loading bin 0\n",
      "loading bin 1000\n",
      "loading bin 2000\n",
      "loading bin 3000\n",
      "loading bin 4000\n",
      "loading bin 5000\n",
      "loading bin 6000\n",
      "loading bin 7000\n",
      "loading bin 8000\n",
      "loading bin 9000\n",
      "loading bin 10000\n",
      "loading bin 11000\n",
      "torch.Size([12000, 3, 112, 112])\n"
     ]
    },
    {
     "data": {
      "application/vnd.jupyter.widget-view+json": {
       "model_id": "06bcc1a33a3b4d2eaacf0512ee7e02ed",
       "version_major": 2,
       "version_minor": 0
      },
      "text/plain": [
       "  0%|          | 0/3000 [00:00<?, ?it/s]"
      ]
     },
     "metadata": {},
     "output_type": "display_data"
    },
    {
     "name": "stdout",
     "output_type": "stream",
     "text": [
      "Type-1 ASR : 14.5%\n",
      "Type-2 ASR : 10.87%\n",
      "Source FRS : AWS\n",
      "Target FRS : t4\n",
      "Target Dataset : LFW\n",
      "Using bin file instead of png image\n",
      "loading bin 0\n",
      "loading bin 1000\n",
      "loading bin 2000\n",
      "loading bin 3000\n",
      "loading bin 4000\n",
      "loading bin 5000\n",
      "loading bin 6000\n",
      "loading bin 7000\n",
      "loading bin 8000\n",
      "loading bin 9000\n",
      "loading bin 10000\n",
      "loading bin 11000\n",
      "torch.Size([12000, 3, 112, 112])\n"
     ]
    },
    {
     "data": {
      "application/vnd.jupyter.widget-view+json": {
       "model_id": "bf2c42db980049f98243c7973f309744",
       "version_major": 2,
       "version_minor": 0
      },
      "text/plain": [
       "  0%|          | 0/3000 [00:00<?, ?it/s]"
      ]
     },
     "metadata": {},
     "output_type": "display_data"
    },
    {
     "name": "stdout",
     "output_type": "stream",
     "text": [
      "Type-1 ASR : 47.2%\n",
      "Type-2 ASR : 32.03%\n",
      "Source FRS : FACEPP\n",
      "Target FRS : t4\n",
      "Target Dataset : LFW\n",
      "Using bin file instead of png image\n",
      "loading bin 0\n",
      "loading bin 1000\n",
      "loading bin 2000\n",
      "loading bin 3000\n",
      "loading bin 4000\n",
      "loading bin 5000\n",
      "loading bin 6000\n",
      "loading bin 7000\n",
      "loading bin 8000\n",
      "loading bin 9000\n",
      "loading bin 10000\n",
      "loading bin 11000\n",
      "torch.Size([12000, 3, 112, 112])\n"
     ]
    },
    {
     "data": {
      "application/vnd.jupyter.widget-view+json": {
       "model_id": "451b7184d1ad4a74b5394668f269b6eb",
       "version_major": 2,
       "version_minor": 0
      },
      "text/plain": [
       "  0%|          | 0/3000 [00:00<?, ?it/s]"
      ]
     },
     "metadata": {},
     "output_type": "display_data"
    },
    {
     "name": "stdout",
     "output_type": "stream",
     "text": [
      "Type-1 ASR : 26.83%\n",
      "Type-2 ASR : 16.47%\n",
      "Source FRS : KAIROS\n",
      "Target FRS : t4\n",
      "Target Dataset : LFW\n",
      "Using bin file instead of png image\n",
      "loading bin 0\n",
      "loading bin 1000\n",
      "loading bin 2000\n",
      "loading bin 3000\n",
      "loading bin 4000\n",
      "loading bin 5000\n",
      "loading bin 6000\n",
      "loading bin 7000\n",
      "loading bin 8000\n",
      "loading bin 9000\n",
      "loading bin 10000\n",
      "loading bin 11000\n",
      "torch.Size([12000, 3, 112, 112])\n"
     ]
    },
    {
     "data": {
      "application/vnd.jupyter.widget-view+json": {
       "model_id": "664b2826c13b41c2b5b93f9cb32bc51e",
       "version_major": 2,
       "version_minor": 0
      },
      "text/plain": [
       "  0%|          | 0/3000 [00:00<?, ?it/s]"
      ]
     },
     "metadata": {},
     "output_type": "display_data"
    },
    {
     "name": "stdout",
     "output_type": "stream",
     "text": [
      "Type-1 ASR : 30.37%\n",
      "Type-2 ASR : 21.3%\n",
      "Source FRS : t1\n",
      "Target FRS : t5\n",
      "Target Dataset : LFW\n",
      "Using bin file instead of png image\n",
      "loading bin 0\n",
      "loading bin 1000\n",
      "loading bin 2000\n",
      "loading bin 3000\n",
      "loading bin 4000\n",
      "loading bin 5000\n",
      "loading bin 6000\n",
      "loading bin 7000\n",
      "loading bin 8000\n",
      "loading bin 9000\n",
      "loading bin 10000\n",
      "loading bin 11000\n",
      "torch.Size([12000, 3, 160, 160])\n"
     ]
    },
    {
     "data": {
      "application/vnd.jupyter.widget-view+json": {
       "model_id": "d0329f8bb6a042da8ebeb81ad239cb99",
       "version_major": 2,
       "version_minor": 0
      },
      "text/plain": [
       "  0%|          | 0/3000 [00:00<?, ?it/s]"
      ]
     },
     "metadata": {},
     "output_type": "display_data"
    },
    {
     "name": "stdout",
     "output_type": "stream",
     "text": [
      "Type-1 ASR : 45.5%\n",
      "Type-2 ASR : 35.7%\n",
      "Source FRS : t2\n",
      "Target FRS : t5\n",
      "Target Dataset : LFW\n",
      "Using bin file instead of png image\n",
      "loading bin 0\n",
      "loading bin 1000\n",
      "loading bin 2000\n",
      "loading bin 3000\n",
      "loading bin 4000\n",
      "loading bin 5000\n",
      "loading bin 6000\n",
      "loading bin 7000\n",
      "loading bin 8000\n",
      "loading bin 9000\n",
      "loading bin 10000\n",
      "loading bin 11000\n",
      "torch.Size([12000, 3, 160, 160])\n"
     ]
    },
    {
     "data": {
      "application/vnd.jupyter.widget-view+json": {
       "model_id": "c7d13c18a995448391cf501fe48fc402",
       "version_major": 2,
       "version_minor": 0
      },
      "text/plain": [
       "  0%|          | 0/3000 [00:00<?, ?it/s]"
      ]
     },
     "metadata": {},
     "output_type": "display_data"
    },
    {
     "name": "stdout",
     "output_type": "stream",
     "text": [
      "Type-1 ASR : 34.17%\n",
      "Type-2 ASR : 24.2%\n",
      "Source FRS : t3\n",
      "Target FRS : t5\n",
      "Target Dataset : LFW\n",
      "Using bin file instead of png image\n",
      "loading bin 0\n",
      "loading bin 1000\n",
      "loading bin 2000\n",
      "loading bin 3000\n",
      "loading bin 4000\n",
      "loading bin 5000\n",
      "loading bin 6000\n",
      "loading bin 7000\n",
      "loading bin 8000\n",
      "loading bin 9000\n",
      "loading bin 10000\n",
      "loading bin 11000\n",
      "torch.Size([12000, 3, 160, 160])\n"
     ]
    },
    {
     "data": {
      "application/vnd.jupyter.widget-view+json": {
       "model_id": "f2b92c036d4d411baca0906a6567c70b",
       "version_major": 2,
       "version_minor": 0
      },
      "text/plain": [
       "  0%|          | 0/3000 [00:00<?, ?it/s]"
      ]
     },
     "metadata": {},
     "output_type": "display_data"
    },
    {
     "name": "stdout",
     "output_type": "stream",
     "text": [
      "Type-1 ASR : 47.83%\n",
      "Type-2 ASR : 33.63%\n",
      "Source FRS : t4\n",
      "Target FRS : t5\n",
      "Target Dataset : LFW\n",
      "Using bin file instead of png image\n",
      "loading bin 0\n",
      "loading bin 1000\n",
      "loading bin 2000\n",
      "loading bin 3000\n",
      "loading bin 4000\n",
      "loading bin 5000\n",
      "loading bin 6000\n",
      "loading bin 7000\n",
      "loading bin 8000\n",
      "loading bin 9000\n",
      "loading bin 10000\n",
      "loading bin 11000\n",
      "torch.Size([12000, 3, 160, 160])\n"
     ]
    },
    {
     "data": {
      "application/vnd.jupyter.widget-view+json": {
       "model_id": "7473a98089094c18af2c1f46f87deb06",
       "version_major": 2,
       "version_minor": 0
      },
      "text/plain": [
       "  0%|          | 0/3000 [00:00<?, ?it/s]"
      ]
     },
     "metadata": {},
     "output_type": "display_data"
    },
    {
     "name": "stdout",
     "output_type": "stream",
     "text": [
      "Type-1 ASR : 40.5%\n",
      "Type-2 ASR : 27.33%\n",
      "Source FRS : AWS\n",
      "Target FRS : t5\n",
      "Target Dataset : LFW\n",
      "Using bin file instead of png image\n",
      "loading bin 0\n",
      "loading bin 1000\n",
      "loading bin 2000\n",
      "loading bin 3000\n",
      "loading bin 4000\n",
      "loading bin 5000\n",
      "loading bin 6000\n",
      "loading bin 7000\n",
      "loading bin 8000\n",
      "loading bin 9000\n",
      "loading bin 10000\n",
      "loading bin 11000\n",
      "torch.Size([12000, 3, 160, 160])\n"
     ]
    },
    {
     "data": {
      "application/vnd.jupyter.widget-view+json": {
       "model_id": "238e69b677ce4dacb61450d9afb2704f",
       "version_major": 2,
       "version_minor": 0
      },
      "text/plain": [
       "  0%|          | 0/3000 [00:00<?, ?it/s]"
      ]
     },
     "metadata": {},
     "output_type": "display_data"
    },
    {
     "name": "stdout",
     "output_type": "stream",
     "text": [
      "Type-1 ASR : 39.27%\n",
      "Type-2 ASR : 29.93%\n",
      "Source FRS : FACEPP\n",
      "Target FRS : t5\n",
      "Target Dataset : LFW\n",
      "Using bin file instead of png image\n",
      "loading bin 0\n",
      "loading bin 1000\n",
      "loading bin 2000\n",
      "loading bin 3000\n",
      "loading bin 4000\n",
      "loading bin 5000\n",
      "loading bin 6000\n",
      "loading bin 7000\n",
      "loading bin 8000\n",
      "loading bin 9000\n",
      "loading bin 10000\n",
      "loading bin 11000\n",
      "torch.Size([12000, 3, 160, 160])\n"
     ]
    },
    {
     "data": {
      "application/vnd.jupyter.widget-view+json": {
       "model_id": "f4f176b0cdf84e08b8bc95815707f204",
       "version_major": 2,
       "version_minor": 0
      },
      "text/plain": [
       "  0%|          | 0/3000 [00:00<?, ?it/s]"
      ]
     },
     "metadata": {},
     "output_type": "display_data"
    },
    {
     "name": "stdout",
     "output_type": "stream",
     "text": [
      "Type-1 ASR : 43.03%\n",
      "Type-2 ASR : 32.8%\n",
      "Source FRS : KAIROS\n",
      "Target FRS : t5\n",
      "Target Dataset : LFW\n",
      "Using bin file instead of png image\n",
      "loading bin 0\n",
      "loading bin 1000\n",
      "loading bin 2000\n",
      "loading bin 3000\n",
      "loading bin 4000\n",
      "loading bin 5000\n",
      "loading bin 6000\n",
      "loading bin 7000\n",
      "loading bin 8000\n",
      "loading bin 9000\n",
      "loading bin 10000\n",
      "loading bin 11000\n",
      "torch.Size([12000, 3, 160, 160])\n"
     ]
    },
    {
     "data": {
      "application/vnd.jupyter.widget-view+json": {
       "model_id": "2687ed0f575c42b7b49c87bcee7e6597",
       "version_major": 2,
       "version_minor": 0
      },
      "text/plain": [
       "  0%|          | 0/3000 [00:00<?, ?it/s]"
      ]
     },
     "metadata": {},
     "output_type": "display_data"
    },
    {
     "name": "stdout",
     "output_type": "stream",
     "text": [
      "Type-1 ASR : 61.0%\n",
      "Type-2 ASR : 44.97%\n"
     ]
    }
   ],
   "source": [
    "# Table 10 (bin)\n",
    "trans_t1 = check_transfer('t1',target_bin=True)\n",
    "trans_t2 = check_transfer('t2',target_bin=True)\n",
    "trans_t3 = check_transfer('t3',target_bin=True)\n",
    "trans_t4 = check_transfer('t4',target_bin=True)\n",
    "trans_t5 = check_transfer('t5',target_bin=True)"
   ]
  },
  {
   "cell_type": "code",
   "execution_count": 7,
   "id": "f4574fb5-e77c-44e9-94b4-f7af9656388e",
   "metadata": {},
   "outputs": [
    {
     "name": "stdout",
     "output_type": "stream",
     "text": [
      "Source FRS : t2\n",
      "Target FRS : t1\n",
      "Target Dataset : LFW\n"
     ]
    },
    {
     "data": {
      "application/vnd.jupyter.widget-view+json": {
       "model_id": "96d6012fa1d44fd6b43de949990c9eb0",
       "version_major": 2,
       "version_minor": 0
      },
      "text/plain": [
       "  0%|          | 0/3000 [00:00<?, ?it/s]"
      ]
     },
     "metadata": {},
     "output_type": "display_data"
    },
    {
     "name": "stdout",
     "output_type": "stream",
     "text": [
      "Type-1 ASR : 61.7%\n",
      "Type-2 ASR : 18.6%\n",
      "Source FRS : t3\n",
      "Target FRS : t1\n",
      "Target Dataset : LFW\n"
     ]
    },
    {
     "data": {
      "application/vnd.jupyter.widget-view+json": {
       "model_id": "490d50a3d2754ba9b0f2c3621d4409a4",
       "version_major": 2,
       "version_minor": 0
      },
      "text/plain": [
       "  0%|          | 0/3000 [00:00<?, ?it/s]"
      ]
     },
     "metadata": {},
     "output_type": "display_data"
    },
    {
     "name": "stdout",
     "output_type": "stream",
     "text": [
      "Type-1 ASR : 89.13%\n",
      "Type-2 ASR : 36.7%\n",
      "Source FRS : t4\n",
      "Target FRS : t1\n",
      "Target Dataset : LFW\n"
     ]
    },
    {
     "data": {
      "application/vnd.jupyter.widget-view+json": {
       "model_id": "108933884c124a4dae08335d31fae3d0",
       "version_major": 2,
       "version_minor": 0
      },
      "text/plain": [
       "  0%|          | 0/3000 [00:00<?, ?it/s]"
      ]
     },
     "metadata": {},
     "output_type": "display_data"
    },
    {
     "name": "stdout",
     "output_type": "stream",
     "text": [
      "Type-1 ASR : 3.9%\n",
      "Type-2 ASR : 2.07%\n",
      "Source FRS : t5\n",
      "Target FRS : t1\n",
      "Target Dataset : LFW\n"
     ]
    },
    {
     "data": {
      "application/vnd.jupyter.widget-view+json": {
       "model_id": "3061dc03e27c45b2a935198f3a819137",
       "version_major": 2,
       "version_minor": 0
      },
      "text/plain": [
       "  0%|          | 0/3000 [00:00<?, ?it/s]"
      ]
     },
     "metadata": {},
     "output_type": "display_data"
    },
    {
     "name": "stdout",
     "output_type": "stream",
     "text": [
      "Type-1 ASR : 0.83%\n",
      "Type-2 ASR : 0.6%\n",
      "Source FRS : AWS\n",
      "Target FRS : t1\n",
      "Target Dataset : LFW\n"
     ]
    },
    {
     "data": {
      "application/vnd.jupyter.widget-view+json": {
       "model_id": "74fc5853cbd74c7391e745331abcf947",
       "version_major": 2,
       "version_minor": 0
      },
      "text/plain": [
       "  0%|          | 0/3000 [00:00<?, ?it/s]"
      ]
     },
     "metadata": {},
     "output_type": "display_data"
    },
    {
     "name": "stdout",
     "output_type": "stream",
     "text": [
      "Type-1 ASR : 32.0%\n",
      "Type-2 ASR : 11.53%\n",
      "Source FRS : FACEPP\n",
      "Target FRS : t1\n",
      "Target Dataset : LFW\n"
     ]
    },
    {
     "data": {
      "application/vnd.jupyter.widget-view+json": {
       "model_id": "57b3c6af7cf14abf83500d7bf225c176",
       "version_major": 2,
       "version_minor": 0
      },
      "text/plain": [
       "  0%|          | 0/3000 [00:00<?, ?it/s]"
      ]
     },
     "metadata": {},
     "output_type": "display_data"
    },
    {
     "name": "stdout",
     "output_type": "stream",
     "text": [
      "Type-1 ASR : 2.57%\n",
      "Type-2 ASR : 1.43%\n",
      "Source FRS : KAIROS\n",
      "Target FRS : t1\n",
      "Target Dataset : LFW\n"
     ]
    },
    {
     "data": {
      "application/vnd.jupyter.widget-view+json": {
       "model_id": "9d32889f9cb44355a7560defc73a70ab",
       "version_major": 2,
       "version_minor": 0
      },
      "text/plain": [
       "  0%|          | 0/3000 [00:00<?, ?it/s]"
      ]
     },
     "metadata": {},
     "output_type": "display_data"
    },
    {
     "name": "stdout",
     "output_type": "stream",
     "text": [
      "Type-1 ASR : 1.23%\n",
      "Type-2 ASR : 0.93%\n",
      "Source FRS : t1\n",
      "Target FRS : t2\n",
      "Target Dataset : LFW\n",
      "self.device_id 0\n"
     ]
    },
    {
     "data": {
      "application/vnd.jupyter.widget-view+json": {
       "model_id": "155cb5d4f52246858798ce863d47656a",
       "version_major": 2,
       "version_minor": 0
      },
      "text/plain": [
       "  0%|          | 0/3000 [00:00<?, ?it/s]"
      ]
     },
     "metadata": {},
     "output_type": "display_data"
    },
    {
     "name": "stdout",
     "output_type": "stream",
     "text": [
      "Type-1 ASR : 84.47%\n",
      "Type-2 ASR : 48.93%\n",
      "Source FRS : t3\n",
      "Target FRS : t2\n",
      "Target Dataset : LFW\n",
      "self.device_id 0\n"
     ]
    },
    {
     "data": {
      "application/vnd.jupyter.widget-view+json": {
       "model_id": "d5d6268f6589470b97ec33e6f9929e14",
       "version_major": 2,
       "version_minor": 0
      },
      "text/plain": [
       "  0%|          | 0/3000 [00:00<?, ?it/s]"
      ]
     },
     "metadata": {},
     "output_type": "display_data"
    },
    {
     "name": "stdout",
     "output_type": "stream",
     "text": [
      "Type-1 ASR : 82.47%\n",
      "Type-2 ASR : 40.23%\n",
      "Source FRS : t4\n",
      "Target FRS : t2\n",
      "Target Dataset : LFW\n",
      "self.device_id 0\n"
     ]
    },
    {
     "data": {
      "application/vnd.jupyter.widget-view+json": {
       "model_id": "6da8cbd18512427a949a3b5c87b739da",
       "version_major": 2,
       "version_minor": 0
      },
      "text/plain": [
       "  0%|          | 0/3000 [00:00<?, ?it/s]"
      ]
     },
     "metadata": {},
     "output_type": "display_data"
    },
    {
     "name": "stdout",
     "output_type": "stream",
     "text": [
      "Type-1 ASR : 8.63%\n",
      "Type-2 ASR : 3.27%\n",
      "Source FRS : t5\n",
      "Target FRS : t2\n",
      "Target Dataset : LFW\n",
      "self.device_id 0\n"
     ]
    },
    {
     "data": {
      "application/vnd.jupyter.widget-view+json": {
       "model_id": "2cf70bdcf4344daf904ddb6cb1c0d823",
       "version_major": 2,
       "version_minor": 0
      },
      "text/plain": [
       "  0%|          | 0/3000 [00:00<?, ?it/s]"
      ]
     },
     "metadata": {},
     "output_type": "display_data"
    },
    {
     "name": "stdout",
     "output_type": "stream",
     "text": [
      "Type-1 ASR : 1.23%\n",
      "Type-2 ASR : 1.17%\n",
      "Source FRS : AWS\n",
      "Target FRS : t2\n",
      "Target Dataset : LFW\n",
      "self.device_id 0\n"
     ]
    },
    {
     "data": {
      "application/vnd.jupyter.widget-view+json": {
       "model_id": "a7bc5dee8c1447a9ab46e6531c5b0aae",
       "version_major": 2,
       "version_minor": 0
      },
      "text/plain": [
       "  0%|          | 0/3000 [00:00<?, ?it/s]"
      ]
     },
     "metadata": {},
     "output_type": "display_data"
    },
    {
     "name": "stdout",
     "output_type": "stream",
     "text": [
      "Type-1 ASR : 39.37%\n",
      "Type-2 ASR : 21.23%\n",
      "Source FRS : FACEPP\n",
      "Target FRS : t2\n",
      "Target Dataset : LFW\n",
      "self.device_id 0\n"
     ]
    },
    {
     "data": {
      "application/vnd.jupyter.widget-view+json": {
       "model_id": "f33106ae47164de4921d070487ffcc41",
       "version_major": 2,
       "version_minor": 0
      },
      "text/plain": [
       "  0%|          | 0/3000 [00:00<?, ?it/s]"
      ]
     },
     "metadata": {},
     "output_type": "display_data"
    },
    {
     "name": "stdout",
     "output_type": "stream",
     "text": [
      "Type-1 ASR : 8.1%\n",
      "Type-2 ASR : 4.13%\n",
      "Source FRS : KAIROS\n",
      "Target FRS : t2\n",
      "Target Dataset : LFW\n",
      "self.device_id 0\n"
     ]
    },
    {
     "data": {
      "application/vnd.jupyter.widget-view+json": {
       "model_id": "171aecc16a1e49c3b2eedbeea21c2396",
       "version_major": 2,
       "version_minor": 0
      },
      "text/plain": [
       "  0%|          | 0/3000 [00:00<?, ?it/s]"
      ]
     },
     "metadata": {},
     "output_type": "display_data"
    },
    {
     "name": "stdout",
     "output_type": "stream",
     "text": [
      "Type-1 ASR : 4.9%\n",
      "Type-2 ASR : 3.5%\n",
      "Source FRS : t1\n",
      "Target FRS : t3\n",
      "Target Dataset : LFW\n"
     ]
    },
    {
     "data": {
      "application/vnd.jupyter.widget-view+json": {
       "model_id": "a03074b2940144d788d402e4792e6d61",
       "version_major": 2,
       "version_minor": 0
      },
      "text/plain": [
       "  0%|          | 0/3000 [00:00<?, ?it/s]"
      ]
     },
     "metadata": {},
     "output_type": "display_data"
    },
    {
     "name": "stdout",
     "output_type": "stream",
     "text": [
      "Type-1 ASR : 83.1%\n",
      "Type-2 ASR : 37.7%\n",
      "Source FRS : t2\n",
      "Target FRS : t3\n",
      "Target Dataset : LFW\n"
     ]
    },
    {
     "data": {
      "application/vnd.jupyter.widget-view+json": {
       "model_id": "0d36ab0b833442769af01b1bfc97281a",
       "version_major": 2,
       "version_minor": 0
      },
      "text/plain": [
       "  0%|          | 0/3000 [00:00<?, ?it/s]"
      ]
     },
     "metadata": {},
     "output_type": "display_data"
    },
    {
     "name": "stdout",
     "output_type": "stream",
     "text": [
      "Type-1 ASR : 58.67%\n",
      "Type-2 ASR : 17.13%\n",
      "Source FRS : t4\n",
      "Target FRS : t3\n",
      "Target Dataset : LFW\n"
     ]
    },
    {
     "data": {
      "application/vnd.jupyter.widget-view+json": {
       "model_id": "ea531409da984d429dffa619dccf02fc",
       "version_major": 2,
       "version_minor": 0
      },
      "text/plain": [
       "  0%|          | 0/3000 [00:00<?, ?it/s]"
      ]
     },
     "metadata": {},
     "output_type": "display_data"
    },
    {
     "name": "stdout",
     "output_type": "stream",
     "text": [
      "Type-1 ASR : 5.37%\n",
      "Type-2 ASR : 1.9%\n",
      "Source FRS : t5\n",
      "Target FRS : t3\n",
      "Target Dataset : LFW\n"
     ]
    },
    {
     "data": {
      "application/vnd.jupyter.widget-view+json": {
       "model_id": "c7e6d55b3cbc4c6f9fd0ee4c307a3623",
       "version_major": 2,
       "version_minor": 0
      },
      "text/plain": [
       "  0%|          | 0/3000 [00:00<?, ?it/s]"
      ]
     },
     "metadata": {},
     "output_type": "display_data"
    },
    {
     "name": "stdout",
     "output_type": "stream",
     "text": [
      "Type-1 ASR : 0.83%\n",
      "Type-2 ASR : 0.77%\n",
      "Source FRS : AWS\n",
      "Target FRS : t3\n",
      "Target Dataset : LFW\n"
     ]
    },
    {
     "data": {
      "application/vnd.jupyter.widget-view+json": {
       "model_id": "16197a34e07c4d66acc051e07c525a2b",
       "version_major": 2,
       "version_minor": 0
      },
      "text/plain": [
       "  0%|          | 0/3000 [00:00<?, ?it/s]"
      ]
     },
     "metadata": {},
     "output_type": "display_data"
    },
    {
     "name": "stdout",
     "output_type": "stream",
     "text": [
      "Type-1 ASR : 27.93%\n",
      "Type-2 ASR : 11.23%\n",
      "Source FRS : FACEPP\n",
      "Target FRS : t3\n",
      "Target Dataset : LFW\n"
     ]
    },
    {
     "data": {
      "application/vnd.jupyter.widget-view+json": {
       "model_id": "77cb31f4d88d4b898f2b1bfc93cc3493",
       "version_major": 2,
       "version_minor": 0
      },
      "text/plain": [
       "  0%|          | 0/3000 [00:00<?, ?it/s]"
      ]
     },
     "metadata": {},
     "output_type": "display_data"
    },
    {
     "name": "stdout",
     "output_type": "stream",
     "text": [
      "Type-1 ASR : 3.07%\n",
      "Type-2 ASR : 1.47%\n",
      "Source FRS : KAIROS\n",
      "Target FRS : t3\n",
      "Target Dataset : LFW\n"
     ]
    },
    {
     "data": {
      "application/vnd.jupyter.widget-view+json": {
       "model_id": "8fb74d2f23224a44aa5e046286316645",
       "version_major": 2,
       "version_minor": 0
      },
      "text/plain": [
       "  0%|          | 0/3000 [00:00<?, ?it/s]"
      ]
     },
     "metadata": {},
     "output_type": "display_data"
    },
    {
     "name": "stdout",
     "output_type": "stream",
     "text": [
      "Type-1 ASR : 1.77%\n",
      "Type-2 ASR : 1.17%\n",
      "Source FRS : t1\n",
      "Target FRS : t4\n",
      "Target Dataset : LFW\n"
     ]
    },
    {
     "data": {
      "application/vnd.jupyter.widget-view+json": {
       "model_id": "2ba3ebe0e0c341e5856ef633927da4ae",
       "version_major": 2,
       "version_minor": 0
      },
      "text/plain": [
       "  0%|          | 0/3000 [00:00<?, ?it/s]"
      ]
     },
     "metadata": {},
     "output_type": "display_data"
    },
    {
     "name": "stdout",
     "output_type": "stream",
     "text": [
      "Type-1 ASR : 69.7%\n",
      "Type-2 ASR : 52.27%\n",
      "Source FRS : t2\n",
      "Target FRS : t4\n",
      "Target Dataset : LFW\n"
     ]
    },
    {
     "data": {
      "application/vnd.jupyter.widget-view+json": {
       "model_id": "04ade43429444b45903a2b50404476f0",
       "version_major": 2,
       "version_minor": 0
      },
      "text/plain": [
       "  0%|          | 0/3000 [00:00<?, ?it/s]"
      ]
     },
     "metadata": {},
     "output_type": "display_data"
    },
    {
     "name": "stdout",
     "output_type": "stream",
     "text": [
      "Type-1 ASR : 51.33%\n",
      "Type-2 ASR : 29.57%\n",
      "Source FRS : t3\n",
      "Target FRS : t4\n",
      "Target Dataset : LFW\n"
     ]
    },
    {
     "data": {
      "application/vnd.jupyter.widget-view+json": {
       "model_id": "7152a45a9d174ed89752066ba970712b",
       "version_major": 2,
       "version_minor": 0
      },
      "text/plain": [
       "  0%|          | 0/3000 [00:00<?, ?it/s]"
      ]
     },
     "metadata": {},
     "output_type": "display_data"
    },
    {
     "name": "stdout",
     "output_type": "stream",
     "text": [
      "Type-1 ASR : 67.03%\n",
      "Type-2 ASR : 42.5%\n",
      "Source FRS : t5\n",
      "Target FRS : t4\n",
      "Target Dataset : LFW\n"
     ]
    },
    {
     "data": {
      "application/vnd.jupyter.widget-view+json": {
       "model_id": "bc6e8d7f2e8e4c6dad5cd2b706931a2d",
       "version_major": 2,
       "version_minor": 0
      },
      "text/plain": [
       "  0%|          | 0/3000 [00:00<?, ?it/s]"
      ]
     },
     "metadata": {},
     "output_type": "display_data"
    },
    {
     "name": "stdout",
     "output_type": "stream",
     "text": [
      "Type-1 ASR : 35.9%\n",
      "Type-2 ASR : 25.4%\n",
      "Source FRS : AWS\n",
      "Target FRS : t4\n",
      "Target Dataset : LFW\n"
     ]
    },
    {
     "data": {
      "application/vnd.jupyter.widget-view+json": {
       "model_id": "8e0080a1714043ebac7f3f0fb8f749b8",
       "version_major": 2,
       "version_minor": 0
      },
      "text/plain": [
       "  0%|          | 0/3000 [00:00<?, ?it/s]"
      ]
     },
     "metadata": {},
     "output_type": "display_data"
    },
    {
     "name": "stdout",
     "output_type": "stream",
     "text": [
      "Type-1 ASR : 55.1%\n",
      "Type-2 ASR : 42.97%\n",
      "Source FRS : FACEPP\n",
      "Target FRS : t4\n",
      "Target Dataset : LFW\n"
     ]
    },
    {
     "data": {
      "application/vnd.jupyter.widget-view+json": {
       "model_id": "402f86d26a1b4190b6c120376a0575a7",
       "version_major": 2,
       "version_minor": 0
      },
      "text/plain": [
       "  0%|          | 0/3000 [00:00<?, ?it/s]"
      ]
     },
     "metadata": {},
     "output_type": "display_data"
    },
    {
     "name": "stdout",
     "output_type": "stream",
     "text": [
      "Type-1 ASR : 43.0%\n",
      "Type-2 ASR : 30.7%\n",
      "Source FRS : KAIROS\n",
      "Target FRS : t4\n",
      "Target Dataset : LFW\n"
     ]
    },
    {
     "data": {
      "application/vnd.jupyter.widget-view+json": {
       "model_id": "b87c87848fcb4ea1b433006785020133",
       "version_major": 2,
       "version_minor": 0
      },
      "text/plain": [
       "  0%|          | 0/3000 [00:00<?, ?it/s]"
      ]
     },
     "metadata": {},
     "output_type": "display_data"
    },
    {
     "name": "stdout",
     "output_type": "stream",
     "text": [
      "Type-1 ASR : 50.73%\n",
      "Type-2 ASR : 37.3%\n",
      "Source FRS : t1\n",
      "Target FRS : t5\n",
      "Target Dataset : LFW\n"
     ]
    },
    {
     "data": {
      "application/vnd.jupyter.widget-view+json": {
       "model_id": "faa22a20eb5a46b5bace2b0b65150339",
       "version_major": 2,
       "version_minor": 0
      },
      "text/plain": [
       "  0%|          | 0/3000 [00:00<?, ?it/s]"
      ]
     },
     "metadata": {},
     "output_type": "display_data"
    },
    {
     "name": "stdout",
     "output_type": "stream",
     "text": [
      "Type-1 ASR : 55.57%\n",
      "Type-2 ASR : 46.43%\n",
      "Source FRS : t2\n",
      "Target FRS : t5\n",
      "Target Dataset : LFW\n"
     ]
    },
    {
     "data": {
      "application/vnd.jupyter.widget-view+json": {
       "model_id": "66bb1e549c394110b99bf8af078264a7",
       "version_major": 2,
       "version_minor": 0
      },
      "text/plain": [
       "  0%|          | 0/3000 [00:00<?, ?it/s]"
      ]
     },
     "metadata": {},
     "output_type": "display_data"
    },
    {
     "name": "stdout",
     "output_type": "stream",
     "text": [
      "Type-1 ASR : 41.67%\n",
      "Type-2 ASR : 31.97%\n",
      "Source FRS : t3\n",
      "Target FRS : t5\n",
      "Target Dataset : LFW\n"
     ]
    },
    {
     "data": {
      "application/vnd.jupyter.widget-view+json": {
       "model_id": "0423c991e62e4bd0814b9c62c0e08713",
       "version_major": 2,
       "version_minor": 0
      },
      "text/plain": [
       "  0%|          | 0/3000 [00:00<?, ?it/s]"
      ]
     },
     "metadata": {},
     "output_type": "display_data"
    },
    {
     "name": "stdout",
     "output_type": "stream",
     "text": [
      "Type-1 ASR : 54.67%\n",
      "Type-2 ASR : 40.73%\n",
      "Source FRS : t4\n",
      "Target FRS : t5\n",
      "Target Dataset : LFW\n"
     ]
    },
    {
     "data": {
      "application/vnd.jupyter.widget-view+json": {
       "model_id": "0c796c31d6314f03b7badf1fbe925821",
       "version_major": 2,
       "version_minor": 0
      },
      "text/plain": [
       "  0%|          | 0/3000 [00:00<?, ?it/s]"
      ]
     },
     "metadata": {},
     "output_type": "display_data"
    },
    {
     "name": "stdout",
     "output_type": "stream",
     "text": [
      "Type-1 ASR : 60.73%\n",
      "Type-2 ASR : 44.27%\n",
      "Source FRS : AWS\n",
      "Target FRS : t5\n",
      "Target Dataset : LFW\n"
     ]
    },
    {
     "data": {
      "application/vnd.jupyter.widget-view+json": {
       "model_id": "265f4813fe5045a7b403495ae2bc6692",
       "version_major": 2,
       "version_minor": 0
      },
      "text/plain": [
       "  0%|          | 0/3000 [00:00<?, ?it/s]"
      ]
     },
     "metadata": {},
     "output_type": "display_data"
    },
    {
     "name": "stdout",
     "output_type": "stream",
     "text": [
      "Type-1 ASR : 50.57%\n",
      "Type-2 ASR : 41.9%\n",
      "Source FRS : FACEPP\n",
      "Target FRS : t5\n",
      "Target Dataset : LFW\n"
     ]
    },
    {
     "data": {
      "application/vnd.jupyter.widget-view+json": {
       "model_id": "265adf1b4d744c6dbb0431d1eb8b9227",
       "version_major": 2,
       "version_minor": 0
      },
      "text/plain": [
       "  0%|          | 0/3000 [00:00<?, ?it/s]"
      ]
     },
     "metadata": {},
     "output_type": "display_data"
    },
    {
     "name": "stdout",
     "output_type": "stream",
     "text": [
      "Type-1 ASR : 58.37%\n",
      "Type-2 ASR : 47.9%\n",
      "Source FRS : KAIROS\n",
      "Target FRS : t5\n",
      "Target Dataset : LFW\n"
     ]
    },
    {
     "data": {
      "application/vnd.jupyter.widget-view+json": {
       "model_id": "c26dc2db5a774ee6bc6aee7e7f098176",
       "version_major": 2,
       "version_minor": 0
      },
      "text/plain": [
       "  0%|          | 0/3000 [00:00<?, ?it/s]"
      ]
     },
     "metadata": {},
     "output_type": "display_data"
    },
    {
     "name": "stdout",
     "output_type": "stream",
     "text": [
      "Type-1 ASR : 70.53%\n",
      "Type-2 ASR : 58.3%\n"
     ]
    }
   ],
   "source": [
    "# Table 10 (png)\n",
    "trans_t1_nb = check_transfer('t1',target_bin=False)\n",
    "trans_t2_nb = check_transfer('t2',target_bin=False)\n",
    "trans_t3_nb = check_transfer('t3',target_bin=False)\n",
    "trans_t4_nb = check_transfer('t4',target_bin=False)\n",
    "trans_t5_nb = check_transfer('t5',target_bin=False)"
   ]
  },
  {
   "cell_type": "code",
   "execution_count": 12,
   "id": "5952f77d-0975-4109-aad9-d2821f01b70d",
   "metadata": {},
   "outputs": [],
   "source": [
    "# Table 12 previous attacks (against non-commercial targets)\n",
    "sources = ['gauss_nfull_t1','eigen_nfull_t1','style_nfull_t1','t1']\n",
    "def check_transferprev(target='t1',dataset='LFW',target_bin=False):\n",
    "    return [check(target,source,dataset,'cuda:0',target_bin) for source in sources]"
   ]
  },
  {
   "cell_type": "code",
   "execution_count": 13,
   "id": "27c74939-175f-494d-9b59-3ddb1b56d088",
   "metadata": {},
   "outputs": [
    {
     "name": "stdout",
     "output_type": "stream",
     "text": [
      "Source FRS : gauss_nfull_t1\n",
      "Target FRS : t1\n",
      "Target Dataset : LFW\n",
      "Using bin file instead of png image\n",
      "loading bin 0\n",
      "loading bin 1000\n",
      "loading bin 2000\n",
      "loading bin 3000\n",
      "loading bin 4000\n",
      "loading bin 5000\n",
      "loading bin 6000\n",
      "loading bin 7000\n",
      "loading bin 8000\n",
      "loading bin 9000\n",
      "loading bin 10000\n",
      "loading bin 11000\n",
      "torch.Size([12000, 3, 112, 112])\n"
     ]
    },
    {
     "data": {
      "application/vnd.jupyter.widget-view+json": {
       "model_id": "99e8181fa39b4f75b2bf667ec62bd949",
       "version_major": 2,
       "version_minor": 0
      },
      "text/plain": [
       "  0%|          | 0/3000 [00:00<?, ?it/s]"
      ]
     },
     "metadata": {},
     "output_type": "display_data"
    },
    {
     "name": "stdout",
     "output_type": "stream",
     "text": [
      "Type-1 ASR : 18.57%\n",
      "Type-2 ASR : 1.73%\n",
      "Source FRS : eigen_nfull_t1\n",
      "Target FRS : t1\n",
      "Target Dataset : LFW\n",
      "Using bin file instead of png image\n",
      "loading bin 0\n",
      "loading bin 1000\n",
      "loading bin 2000\n",
      "loading bin 3000\n",
      "loading bin 4000\n",
      "loading bin 5000\n",
      "loading bin 6000\n",
      "loading bin 7000\n",
      "loading bin 8000\n",
      "loading bin 9000\n",
      "loading bin 10000\n",
      "loading bin 11000\n",
      "torch.Size([12000, 3, 112, 112])\n"
     ]
    },
    {
     "data": {
      "application/vnd.jupyter.widget-view+json": {
       "model_id": "b0382a4c841d4723a76dcf82a3e8b6b5",
       "version_major": 2,
       "version_minor": 0
      },
      "text/plain": [
       "  0%|          | 0/3000 [00:00<?, ?it/s]"
      ]
     },
     "metadata": {},
     "output_type": "display_data"
    },
    {
     "name": "stdout",
     "output_type": "stream",
     "text": [
      "Type-1 ASR : 27.77%\n",
      "Type-2 ASR : 2.0%\n",
      "Source FRS : style_nfull_t1\n",
      "Target FRS : t1\n",
      "Target Dataset : LFW\n",
      "Using bin file instead of png image\n",
      "loading bin 0\n",
      "loading bin 1000\n",
      "loading bin 2000\n",
      "loading bin 3000\n",
      "loading bin 4000\n",
      "loading bin 5000\n",
      "loading bin 6000\n",
      "loading bin 7000\n",
      "loading bin 8000\n",
      "loading bin 9000\n",
      "loading bin 10000\n",
      "loading bin 11000\n",
      "torch.Size([12000, 3, 112, 112])\n"
     ]
    },
    {
     "data": {
      "application/vnd.jupyter.widget-view+json": {
       "model_id": "f75fcfab22ae48eb90d52ba03ff4c1dd",
       "version_major": 2,
       "version_minor": 0
      },
      "text/plain": [
       "  0%|          | 0/3000 [00:00<?, ?it/s]"
      ]
     },
     "metadata": {},
     "output_type": "display_data"
    },
    {
     "name": "stdout",
     "output_type": "stream",
     "text": [
      "Type-1 ASR : 4.3%\n",
      "Type-2 ASR : 1.43%\n",
      "Source FRS : t1\n",
      "Target FRS : t1\n",
      "Target Dataset : LFW\n",
      "Using bin file instead of png image\n",
      "loading bin 0\n",
      "loading bin 1000\n",
      "loading bin 2000\n",
      "loading bin 3000\n",
      "loading bin 4000\n",
      "loading bin 5000\n",
      "loading bin 6000\n",
      "loading bin 7000\n",
      "loading bin 8000\n",
      "loading bin 9000\n",
      "loading bin 10000\n",
      "loading bin 11000\n",
      "torch.Size([12000, 3, 112, 112])\n"
     ]
    },
    {
     "data": {
      "application/vnd.jupyter.widget-view+json": {
       "model_id": "68ea4e053670414eaecf80d1eb6ac506",
       "version_major": 2,
       "version_minor": 0
      },
      "text/plain": [
       "  0%|          | 0/3000 [00:00<?, ?it/s]"
      ]
     },
     "metadata": {},
     "output_type": "display_data"
    },
    {
     "name": "stdout",
     "output_type": "stream",
     "text": [
      "Type-1 ASR : 97.1%\n",
      "Type-2 ASR : 45.2%\n",
      "Source FRS : gauss_nfull_t1\n",
      "Target FRS : t2\n",
      "Target Dataset : LFW\n",
      "self.device_id 0\n",
      "Using bin file instead of png image\n",
      "loading bin 0\n",
      "loading bin 1000\n",
      "loading bin 2000\n",
      "loading bin 3000\n",
      "loading bin 4000\n",
      "loading bin 5000\n",
      "loading bin 6000\n",
      "loading bin 7000\n",
      "loading bin 8000\n",
      "loading bin 9000\n",
      "loading bin 10000\n",
      "loading bin 11000\n",
      "torch.Size([12000, 3, 112, 112])\n"
     ]
    },
    {
     "data": {
      "application/vnd.jupyter.widget-view+json": {
       "model_id": "94c52d8e00c9495bbf1f5c7a561ee9f6",
       "version_major": 2,
       "version_minor": 0
      },
      "text/plain": [
       "  0%|          | 0/3000 [00:00<?, ?it/s]"
      ]
     },
     "metadata": {},
     "output_type": "display_data"
    },
    {
     "name": "stdout",
     "output_type": "stream",
     "text": [
      "Type-1 ASR : 2.17%\n",
      "Type-2 ASR : 0.63%\n",
      "Source FRS : eigen_nfull_t1\n",
      "Target FRS : t2\n",
      "Target Dataset : LFW\n",
      "self.device_id 0\n",
      "Using bin file instead of png image\n",
      "loading bin 0\n",
      "loading bin 1000\n",
      "loading bin 2000\n",
      "loading bin 3000\n",
      "loading bin 4000\n",
      "loading bin 5000\n",
      "loading bin 6000\n",
      "loading bin 7000\n",
      "loading bin 8000\n",
      "loading bin 9000\n",
      "loading bin 10000\n",
      "loading bin 11000\n",
      "torch.Size([12000, 3, 112, 112])\n"
     ]
    },
    {
     "data": {
      "application/vnd.jupyter.widget-view+json": {
       "model_id": "ab48157a6291426ebcaff8324aa61b5d",
       "version_major": 2,
       "version_minor": 0
      },
      "text/plain": [
       "  0%|          | 0/3000 [00:00<?, ?it/s]"
      ]
     },
     "metadata": {},
     "output_type": "display_data"
    },
    {
     "name": "stdout",
     "output_type": "stream",
     "text": [
      "Type-1 ASR : 10.0%\n",
      "Type-2 ASR : 2.1%\n",
      "Source FRS : style_nfull_t1\n",
      "Target FRS : t2\n",
      "Target Dataset : LFW\n",
      "self.device_id 0\n",
      "Using bin file instead of png image\n",
      "loading bin 0\n",
      "loading bin 1000\n",
      "loading bin 2000\n",
      "loading bin 3000\n",
      "loading bin 4000\n",
      "loading bin 5000\n",
      "loading bin 6000\n",
      "loading bin 7000\n",
      "loading bin 8000\n",
      "loading bin 9000\n",
      "loading bin 10000\n",
      "loading bin 11000\n",
      "torch.Size([12000, 3, 112, 112])\n"
     ]
    },
    {
     "data": {
      "application/vnd.jupyter.widget-view+json": {
       "model_id": "b93a27573388404ba75f1e52fe8e2c03",
       "version_major": 2,
       "version_minor": 0
      },
      "text/plain": [
       "  0%|          | 0/3000 [00:00<?, ?it/s]"
      ]
     },
     "metadata": {},
     "output_type": "display_data"
    },
    {
     "name": "stdout",
     "output_type": "stream",
     "text": [
      "Type-1 ASR : 4.87%\n",
      "Type-2 ASR : 2.63%\n",
      "Source FRS : t1\n",
      "Target FRS : t2\n",
      "Target Dataset : LFW\n",
      "self.device_id 0\n",
      "Using bin file instead of png image\n",
      "loading bin 0\n",
      "loading bin 1000\n",
      "loading bin 2000\n",
      "loading bin 3000\n",
      "loading bin 4000\n",
      "loading bin 5000\n",
      "loading bin 6000\n",
      "loading bin 7000\n",
      "loading bin 8000\n",
      "loading bin 9000\n",
      "loading bin 10000\n",
      "loading bin 11000\n",
      "torch.Size([12000, 3, 112, 112])\n"
     ]
    },
    {
     "data": {
      "application/vnd.jupyter.widget-view+json": {
       "model_id": "2695822c43464572b4a40426d37968c9",
       "version_major": 2,
       "version_minor": 0
      },
      "text/plain": [
       "  0%|          | 0/3000 [00:00<?, ?it/s]"
      ]
     },
     "metadata": {},
     "output_type": "display_data"
    },
    {
     "name": "stdout",
     "output_type": "stream",
     "text": [
      "Type-1 ASR : 85.0%\n",
      "Type-2 ASR : 48.07%\n",
      "Source FRS : gauss_nfull_t1\n",
      "Target FRS : t3\n",
      "Target Dataset : LFW\n",
      "Using bin file instead of png image\n",
      "loading bin 0\n",
      "loading bin 1000\n",
      "loading bin 2000\n",
      "loading bin 3000\n",
      "loading bin 4000\n",
      "loading bin 5000\n",
      "loading bin 6000\n",
      "loading bin 7000\n",
      "loading bin 8000\n",
      "loading bin 9000\n",
      "loading bin 10000\n",
      "loading bin 11000\n",
      "torch.Size([12000, 3, 112, 112])\n"
     ]
    },
    {
     "data": {
      "application/vnd.jupyter.widget-view+json": {
       "model_id": "f9a84fcd9fc94858a17b9bf5da50052e",
       "version_major": 2,
       "version_minor": 0
      },
      "text/plain": [
       "  0%|          | 0/3000 [00:00<?, ?it/s]"
      ]
     },
     "metadata": {},
     "output_type": "display_data"
    },
    {
     "name": "stdout",
     "output_type": "stream",
     "text": [
      "Type-1 ASR : 3.0%\n",
      "Type-2 ASR : 0.5%\n",
      "Source FRS : eigen_nfull_t1\n",
      "Target FRS : t3\n",
      "Target Dataset : LFW\n",
      "Using bin file instead of png image\n",
      "loading bin 0\n",
      "loading bin 1000\n",
      "loading bin 2000\n",
      "loading bin 3000\n",
      "loading bin 4000\n",
      "loading bin 5000\n",
      "loading bin 6000\n",
      "loading bin 7000\n",
      "loading bin 8000\n",
      "loading bin 9000\n",
      "loading bin 10000\n",
      "loading bin 11000\n",
      "torch.Size([12000, 3, 112, 112])\n"
     ]
    },
    {
     "data": {
      "application/vnd.jupyter.widget-view+json": {
       "model_id": "f9751e2c058549c3a0904187cecff617",
       "version_major": 2,
       "version_minor": 0
      },
      "text/plain": [
       "  0%|          | 0/3000 [00:00<?, ?it/s]"
      ]
     },
     "metadata": {},
     "output_type": "display_data"
    },
    {
     "name": "stdout",
     "output_type": "stream",
     "text": [
      "Type-1 ASR : 14.3%\n",
      "Type-2 ASR : 1.5%\n",
      "Source FRS : style_nfull_t1\n",
      "Target FRS : t3\n",
      "Target Dataset : LFW\n",
      "Using bin file instead of png image\n",
      "loading bin 0\n",
      "loading bin 1000\n",
      "loading bin 2000\n",
      "loading bin 3000\n",
      "loading bin 4000\n",
      "loading bin 5000\n",
      "loading bin 6000\n",
      "loading bin 7000\n",
      "loading bin 8000\n",
      "loading bin 9000\n",
      "loading bin 10000\n",
      "loading bin 11000\n",
      "torch.Size([12000, 3, 112, 112])\n"
     ]
    },
    {
     "data": {
      "application/vnd.jupyter.widget-view+json": {
       "model_id": "194e53c4e718494fba58c8dca86a3d41",
       "version_major": 2,
       "version_minor": 0
      },
      "text/plain": [
       "  0%|          | 0/3000 [00:00<?, ?it/s]"
      ]
     },
     "metadata": {},
     "output_type": "display_data"
    },
    {
     "name": "stdout",
     "output_type": "stream",
     "text": [
      "Type-1 ASR : 2.6%\n",
      "Type-2 ASR : 0.8%\n",
      "Source FRS : t1\n",
      "Target FRS : t3\n",
      "Target Dataset : LFW\n",
      "Using bin file instead of png image\n",
      "loading bin 0\n",
      "loading bin 1000\n",
      "loading bin 2000\n",
      "loading bin 3000\n",
      "loading bin 4000\n",
      "loading bin 5000\n",
      "loading bin 6000\n",
      "loading bin 7000\n",
      "loading bin 8000\n",
      "loading bin 9000\n",
      "loading bin 10000\n",
      "loading bin 11000\n",
      "torch.Size([12000, 3, 112, 112])\n"
     ]
    },
    {
     "data": {
      "application/vnd.jupyter.widget-view+json": {
       "model_id": "57e99e37534149ff9611a655885269e7",
       "version_major": 2,
       "version_minor": 0
      },
      "text/plain": [
       "  0%|          | 0/3000 [00:00<?, ?it/s]"
      ]
     },
     "metadata": {},
     "output_type": "display_data"
    },
    {
     "name": "stdout",
     "output_type": "stream",
     "text": [
      "Type-1 ASR : 87.23%\n",
      "Type-2 ASR : 40.13%\n",
      "Source FRS : gauss_nfull_t1\n",
      "Target FRS : t4\n",
      "Target Dataset : LFW\n",
      "Using bin file instead of png image\n",
      "loading bin 0\n",
      "loading bin 1000\n",
      "loading bin 2000\n",
      "loading bin 3000\n",
      "loading bin 4000\n",
      "loading bin 5000\n",
      "loading bin 6000\n",
      "loading bin 7000\n",
      "loading bin 8000\n",
      "loading bin 9000\n",
      "loading bin 10000\n",
      "loading bin 11000\n",
      "torch.Size([12000, 3, 112, 112])\n"
     ]
    },
    {
     "data": {
      "application/vnd.jupyter.widget-view+json": {
       "model_id": "aad9de55aebf48f79d23c15442edcd03",
       "version_major": 2,
       "version_minor": 0
      },
      "text/plain": [
       "  0%|          | 0/3000 [00:00<?, ?it/s]"
      ]
     },
     "metadata": {},
     "output_type": "display_data"
    },
    {
     "name": "stdout",
     "output_type": "stream",
     "text": [
      "Type-1 ASR : 12.37%\n",
      "Type-2 ASR : 5.03%\n",
      "Source FRS : eigen_nfull_t1\n",
      "Target FRS : t4\n",
      "Target Dataset : LFW\n",
      "Using bin file instead of png image\n",
      "loading bin 0\n",
      "loading bin 1000\n",
      "loading bin 2000\n",
      "loading bin 3000\n",
      "loading bin 4000\n",
      "loading bin 5000\n",
      "loading bin 6000\n",
      "loading bin 7000\n",
      "loading bin 8000\n",
      "loading bin 9000\n",
      "loading bin 10000\n",
      "loading bin 11000\n",
      "torch.Size([12000, 3, 112, 112])\n"
     ]
    },
    {
     "data": {
      "application/vnd.jupyter.widget-view+json": {
       "model_id": "bfb56f8c05374425be14d3d09a4bc451",
       "version_major": 2,
       "version_minor": 0
      },
      "text/plain": [
       "  0%|          | 0/3000 [00:00<?, ?it/s]"
      ]
     },
     "metadata": {},
     "output_type": "display_data"
    },
    {
     "name": "stdout",
     "output_type": "stream",
     "text": [
      "Type-1 ASR : 26.7%\n",
      "Type-2 ASR : 9.93%\n",
      "Source FRS : style_nfull_t1\n",
      "Target FRS : t4\n",
      "Target Dataset : LFW\n",
      "Using bin file instead of png image\n",
      "loading bin 0\n",
      "loading bin 1000\n",
      "loading bin 2000\n",
      "loading bin 3000\n",
      "loading bin 4000\n",
      "loading bin 5000\n",
      "loading bin 6000\n",
      "loading bin 7000\n",
      "loading bin 8000\n",
      "loading bin 9000\n",
      "loading bin 10000\n",
      "loading bin 11000\n",
      "torch.Size([12000, 3, 112, 112])\n"
     ]
    },
    {
     "data": {
      "application/vnd.jupyter.widget-view+json": {
       "model_id": "783a890b25b04e04a5757ad30945ca66",
       "version_major": 2,
       "version_minor": 0
      },
      "text/plain": [
       "  0%|          | 0/3000 [00:00<?, ?it/s]"
      ]
     },
     "metadata": {},
     "output_type": "display_data"
    },
    {
     "name": "stdout",
     "output_type": "stream",
     "text": [
      "Type-1 ASR : 11.73%\n",
      "Type-2 ASR : 7.63%\n",
      "Source FRS : t1\n",
      "Target FRS : t4\n",
      "Target Dataset : LFW\n",
      "Using bin file instead of png image\n",
      "loading bin 0\n",
      "loading bin 1000\n",
      "loading bin 2000\n",
      "loading bin 3000\n",
      "loading bin 4000\n",
      "loading bin 5000\n",
      "loading bin 6000\n",
      "loading bin 7000\n",
      "loading bin 8000\n",
      "loading bin 9000\n",
      "loading bin 10000\n",
      "loading bin 11000\n",
      "torch.Size([12000, 3, 112, 112])\n"
     ]
    },
    {
     "data": {
      "application/vnd.jupyter.widget-view+json": {
       "model_id": "16e10785a9a54201bf59c5fe3a838b82",
       "version_major": 2,
       "version_minor": 0
      },
      "text/plain": [
       "  0%|          | 0/3000 [00:00<?, ?it/s]"
      ]
     },
     "metadata": {},
     "output_type": "display_data"
    },
    {
     "name": "stdout",
     "output_type": "stream",
     "text": [
      "Type-1 ASR : 69.63%\n",
      "Type-2 ASR : 46.0%\n",
      "Source FRS : gauss_nfull_t1\n",
      "Target FRS : t5\n",
      "Target Dataset : LFW\n",
      "Using bin file instead of png image\n",
      "loading bin 0\n",
      "loading bin 1000\n",
      "loading bin 2000\n",
      "loading bin 3000\n",
      "loading bin 4000\n",
      "loading bin 5000\n",
      "loading bin 6000\n",
      "loading bin 7000\n",
      "loading bin 8000\n",
      "loading bin 9000\n",
      "loading bin 10000\n",
      "loading bin 11000\n",
      "torch.Size([12000, 3, 160, 160])\n"
     ]
    },
    {
     "data": {
      "application/vnd.jupyter.widget-view+json": {
       "model_id": "5a7438698c0148e0bdb883c274cf4860",
       "version_major": 2,
       "version_minor": 0
      },
      "text/plain": [
       "  0%|          | 0/3000 [00:00<?, ?it/s]"
      ]
     },
     "metadata": {},
     "output_type": "display_data"
    },
    {
     "name": "stdout",
     "output_type": "stream",
     "text": [
      "Type-1 ASR : 0.33%\n",
      "Type-2 ASR : 0.17%\n",
      "Source FRS : eigen_nfull_t1\n",
      "Target FRS : t5\n",
      "Target Dataset : LFW\n",
      "Using bin file instead of png image\n",
      "loading bin 0\n",
      "loading bin 1000\n",
      "loading bin 2000\n",
      "loading bin 3000\n",
      "loading bin 4000\n",
      "loading bin 5000\n",
      "loading bin 6000\n",
      "loading bin 7000\n",
      "loading bin 8000\n",
      "loading bin 9000\n",
      "loading bin 10000\n",
      "loading bin 11000\n",
      "torch.Size([12000, 3, 160, 160])\n"
     ]
    },
    {
     "data": {
      "application/vnd.jupyter.widget-view+json": {
       "model_id": "d435a88257404eaab84f9af26c017de7",
       "version_major": 2,
       "version_minor": 0
      },
      "text/plain": [
       "  0%|          | 0/3000 [00:00<?, ?it/s]"
      ]
     },
     "metadata": {},
     "output_type": "display_data"
    },
    {
     "name": "stdout",
     "output_type": "stream",
     "text": [
      "Type-1 ASR : 2.73%\n",
      "Type-2 ASR : 1.57%\n",
      "Source FRS : style_nfull_t1\n",
      "Target FRS : t5\n",
      "Target Dataset : LFW\n",
      "Using bin file instead of png image\n",
      "loading bin 0\n",
      "loading bin 1000\n",
      "loading bin 2000\n",
      "loading bin 3000\n",
      "loading bin 4000\n",
      "loading bin 5000\n",
      "loading bin 6000\n",
      "loading bin 7000\n",
      "loading bin 8000\n",
      "loading bin 9000\n",
      "loading bin 10000\n",
      "loading bin 11000\n",
      "torch.Size([12000, 3, 160, 160])\n"
     ]
    },
    {
     "data": {
      "application/vnd.jupyter.widget-view+json": {
       "model_id": "eecf7b29c5af4826993fd8860b0e57ba",
       "version_major": 2,
       "version_minor": 0
      },
      "text/plain": [
       "  0%|          | 0/3000 [00:00<?, ?it/s]"
      ]
     },
     "metadata": {},
     "output_type": "display_data"
    },
    {
     "name": "stdout",
     "output_type": "stream",
     "text": [
      "Type-1 ASR : 14.03%\n",
      "Type-2 ASR : 10.67%\n",
      "Source FRS : t1\n",
      "Target FRS : t5\n",
      "Target Dataset : LFW\n",
      "Using bin file instead of png image\n",
      "loading bin 0\n",
      "loading bin 1000\n",
      "loading bin 2000\n",
      "loading bin 3000\n",
      "loading bin 4000\n",
      "loading bin 5000\n",
      "loading bin 6000\n",
      "loading bin 7000\n",
      "loading bin 8000\n",
      "loading bin 9000\n",
      "loading bin 10000\n",
      "loading bin 11000\n",
      "torch.Size([12000, 3, 160, 160])\n"
     ]
    },
    {
     "data": {
      "application/vnd.jupyter.widget-view+json": {
       "model_id": "d62d39985f35441db5a38df1fc46c6da",
       "version_major": 2,
       "version_minor": 0
      },
      "text/plain": [
       "  0%|          | 0/3000 [00:00<?, ?it/s]"
      ]
     },
     "metadata": {},
     "output_type": "display_data"
    },
    {
     "name": "stdout",
     "output_type": "stream",
     "text": [
      "Type-1 ASR : 45.5%\n",
      "Type-2 ASR : 35.7%\n",
      "Source FRS : gauss_nfull_t1\n",
      "Target FRS : t1\n",
      "Target Dataset : LFW\n"
     ]
    },
    {
     "data": {
      "application/vnd.jupyter.widget-view+json": {
       "model_id": "6e30b1e49dc3446fb3603393cd114454",
       "version_major": 2,
       "version_minor": 0
      },
      "text/plain": [
       "  0%|          | 0/3000 [00:00<?, ?it/s]"
      ]
     },
     "metadata": {},
     "output_type": "display_data"
    },
    {
     "name": "stdout",
     "output_type": "stream",
     "text": [
      "Type-1 ASR : 73.97%\n",
      "Type-2 ASR : 2.97%\n",
      "Source FRS : eigen_nfull_t1\n",
      "Target FRS : t1\n",
      "Target Dataset : LFW\n"
     ]
    },
    {
     "data": {
      "application/vnd.jupyter.widget-view+json": {
       "model_id": "9ff4b696bed445e09aca37266d05828e",
       "version_major": 2,
       "version_minor": 0
      },
      "text/plain": [
       "  0%|          | 0/3000 [00:00<?, ?it/s]"
      ]
     },
     "metadata": {},
     "output_type": "display_data"
    },
    {
     "name": "stdout",
     "output_type": "stream",
     "text": [
      "Type-1 ASR : 81.2%\n",
      "Type-2 ASR : 2.47%\n",
      "Source FRS : style_nfull_t1\n",
      "Target FRS : t1\n",
      "Target Dataset : LFW\n"
     ]
    },
    {
     "data": {
      "application/vnd.jupyter.widget-view+json": {
       "model_id": "54cd1ab2af9344b887765c598699c3d2",
       "version_major": 2,
       "version_minor": 0
      },
      "text/plain": [
       "  0%|          | 0/3000 [00:00<?, ?it/s]"
      ]
     },
     "metadata": {},
     "output_type": "display_data"
    },
    {
     "name": "stdout",
     "output_type": "stream",
     "text": [
      "Type-1 ASR : 7.17%\n",
      "Type-2 ASR : 2.37%\n",
      "Source FRS : t1\n",
      "Target FRS : t1\n",
      "Target Dataset : LFW\n"
     ]
    },
    {
     "data": {
      "application/vnd.jupyter.widget-view+json": {
       "model_id": "b09230e1e4c9428d8a7e2d9c0c366809",
       "version_major": 2,
       "version_minor": 0
      },
      "text/plain": [
       "  0%|          | 0/3000 [00:00<?, ?it/s]"
      ]
     },
     "metadata": {},
     "output_type": "display_data"
    },
    {
     "name": "stdout",
     "output_type": "stream",
     "text": [
      "Type-1 ASR : 96.17%\n",
      "Type-2 ASR : 47.87%\n",
      "Source FRS : gauss_nfull_t1\n",
      "Target FRS : t2\n",
      "Target Dataset : LFW\n",
      "self.device_id 0\n"
     ]
    },
    {
     "data": {
      "application/vnd.jupyter.widget-view+json": {
       "model_id": "e18a8f8ce0aa4141b378a7d98ba69266",
       "version_major": 2,
       "version_minor": 0
      },
      "text/plain": [
       "  0%|          | 0/3000 [00:00<?, ?it/s]"
      ]
     },
     "metadata": {},
     "output_type": "display_data"
    },
    {
     "name": "stdout",
     "output_type": "stream",
     "text": [
      "Type-1 ASR : 2.03%\n",
      "Type-2 ASR : 0.6%\n",
      "Source FRS : eigen_nfull_t1\n",
      "Target FRS : t2\n",
      "Target Dataset : LFW\n",
      "self.device_id 0\n"
     ]
    },
    {
     "data": {
      "application/vnd.jupyter.widget-view+json": {
       "model_id": "591153b837714ba5b087a60b03e71512",
       "version_major": 2,
       "version_minor": 0
      },
      "text/plain": [
       "  0%|          | 0/3000 [00:00<?, ?it/s]"
      ]
     },
     "metadata": {},
     "output_type": "display_data"
    },
    {
     "name": "stdout",
     "output_type": "stream",
     "text": [
      "Type-1 ASR : 8.43%\n",
      "Type-2 ASR : 1.63%\n",
      "Source FRS : style_nfull_t1\n",
      "Target FRS : t2\n",
      "Target Dataset : LFW\n",
      "self.device_id 0\n"
     ]
    },
    {
     "data": {
      "application/vnd.jupyter.widget-view+json": {
       "model_id": "5e8dff4635e84c0bbf2d15afc35103d6",
       "version_major": 2,
       "version_minor": 0
      },
      "text/plain": [
       "  0%|          | 0/3000 [00:00<?, ?it/s]"
      ]
     },
     "metadata": {},
     "output_type": "display_data"
    },
    {
     "name": "stdout",
     "output_type": "stream",
     "text": [
      "Type-1 ASR : 5.53%\n",
      "Type-2 ASR : 2.67%\n",
      "Source FRS : t1\n",
      "Target FRS : t2\n",
      "Target Dataset : LFW\n",
      "self.device_id 0\n"
     ]
    },
    {
     "data": {
      "application/vnd.jupyter.widget-view+json": {
       "model_id": "1a6d01d597c745fb8b8216092d4c45c1",
       "version_major": 2,
       "version_minor": 0
      },
      "text/plain": [
       "  0%|          | 0/3000 [00:00<?, ?it/s]"
      ]
     },
     "metadata": {},
     "output_type": "display_data"
    },
    {
     "name": "stdout",
     "output_type": "stream",
     "text": [
      "Type-1 ASR : 84.47%\n",
      "Type-2 ASR : 48.93%\n",
      "Source FRS : gauss_nfull_t1\n",
      "Target FRS : t3\n",
      "Target Dataset : LFW\n"
     ]
    },
    {
     "data": {
      "application/vnd.jupyter.widget-view+json": {
       "model_id": "4861e87856a6412b82474a2bf1bc07c9",
       "version_major": 2,
       "version_minor": 0
      },
      "text/plain": [
       "  0%|          | 0/3000 [00:00<?, ?it/s]"
      ]
     },
     "metadata": {},
     "output_type": "display_data"
    },
    {
     "name": "stdout",
     "output_type": "stream",
     "text": [
      "Type-1 ASR : 3.53%\n",
      "Type-2 ASR : 0.73%\n",
      "Source FRS : eigen_nfull_t1\n",
      "Target FRS : t3\n",
      "Target Dataset : LFW\n"
     ]
    },
    {
     "data": {
      "application/vnd.jupyter.widget-view+json": {
       "model_id": "1343ee5a6eb04a7b90d4e2bebc710292",
       "version_major": 2,
       "version_minor": 0
      },
      "text/plain": [
       "  0%|          | 0/3000 [00:00<?, ?it/s]"
      ]
     },
     "metadata": {},
     "output_type": "display_data"
    },
    {
     "name": "stdout",
     "output_type": "stream",
     "text": [
      "Type-1 ASR : 16.03%\n",
      "Type-2 ASR : 1.47%\n",
      "Source FRS : style_nfull_t1\n",
      "Target FRS : t3\n",
      "Target Dataset : LFW\n"
     ]
    },
    {
     "data": {
      "application/vnd.jupyter.widget-view+json": {
       "model_id": "21686fde6958430dbbcb6de36d77de3e",
       "version_major": 2,
       "version_minor": 0
      },
      "text/plain": [
       "  0%|          | 0/3000 [00:00<?, ?it/s]"
      ]
     },
     "metadata": {},
     "output_type": "display_data"
    },
    {
     "name": "stdout",
     "output_type": "stream",
     "text": [
      "Type-1 ASR : 2.9%\n",
      "Type-2 ASR : 0.93%\n",
      "Source FRS : t1\n",
      "Target FRS : t3\n",
      "Target Dataset : LFW\n"
     ]
    },
    {
     "data": {
      "application/vnd.jupyter.widget-view+json": {
       "model_id": "095e747a0a1244e6882e503258d26e66",
       "version_major": 2,
       "version_minor": 0
      },
      "text/plain": [
       "  0%|          | 0/3000 [00:00<?, ?it/s]"
      ]
     },
     "metadata": {},
     "output_type": "display_data"
    },
    {
     "name": "stdout",
     "output_type": "stream",
     "text": [
      "Type-1 ASR : 83.1%\n",
      "Type-2 ASR : 37.7%\n",
      "Source FRS : gauss_nfull_t1\n",
      "Target FRS : t4\n",
      "Target Dataset : LFW\n"
     ]
    },
    {
     "data": {
      "application/vnd.jupyter.widget-view+json": {
       "model_id": "b27dea10988b49a18a6148f387a879dc",
       "version_major": 2,
       "version_minor": 0
      },
      "text/plain": [
       "  0%|          | 0/3000 [00:00<?, ?it/s]"
      ]
     },
     "metadata": {},
     "output_type": "display_data"
    },
    {
     "name": "stdout",
     "output_type": "stream",
     "text": [
      "Type-1 ASR : 12.93%\n",
      "Type-2 ASR : 6.27%\n",
      "Source FRS : eigen_nfull_t1\n",
      "Target FRS : t4\n",
      "Target Dataset : LFW\n"
     ]
    },
    {
     "data": {
      "application/vnd.jupyter.widget-view+json": {
       "model_id": "79b824a306c34cd28b56f6cb308177a3",
       "version_major": 2,
       "version_minor": 0
      },
      "text/plain": [
       "  0%|          | 0/3000 [00:00<?, ?it/s]"
      ]
     },
     "metadata": {},
     "output_type": "display_data"
    },
    {
     "name": "stdout",
     "output_type": "stream",
     "text": [
      "Type-1 ASR : 25.33%\n",
      "Type-2 ASR : 10.03%\n",
      "Source FRS : style_nfull_t1\n",
      "Target FRS : t4\n",
      "Target Dataset : LFW\n"
     ]
    },
    {
     "data": {
      "application/vnd.jupyter.widget-view+json": {
       "model_id": "94d4bfb775e24168a88465fb0e28f818",
       "version_major": 2,
       "version_minor": 0
      },
      "text/plain": [
       "  0%|          | 0/3000 [00:00<?, ?it/s]"
      ]
     },
     "metadata": {},
     "output_type": "display_data"
    },
    {
     "name": "stdout",
     "output_type": "stream",
     "text": [
      "Type-1 ASR : 14.1%\n",
      "Type-2 ASR : 10.47%\n",
      "Source FRS : t1\n",
      "Target FRS : t4\n",
      "Target Dataset : LFW\n"
     ]
    },
    {
     "data": {
      "application/vnd.jupyter.widget-view+json": {
       "model_id": "e9a2e5105dcb4e088c5db370b3df6eab",
       "version_major": 2,
       "version_minor": 0
      },
      "text/plain": [
       "  0%|          | 0/3000 [00:00<?, ?it/s]"
      ]
     },
     "metadata": {},
     "output_type": "display_data"
    },
    {
     "name": "stdout",
     "output_type": "stream",
     "text": [
      "Type-1 ASR : 69.7%\n",
      "Type-2 ASR : 52.27%\n",
      "Source FRS : gauss_nfull_t1\n",
      "Target FRS : t5\n",
      "Target Dataset : LFW\n"
     ]
    },
    {
     "data": {
      "application/vnd.jupyter.widget-view+json": {
       "model_id": "3bd6b0894f00411f93ca17e7f73a725b",
       "version_major": 2,
       "version_minor": 0
      },
      "text/plain": [
       "  0%|          | 0/3000 [00:00<?, ?it/s]"
      ]
     },
     "metadata": {},
     "output_type": "display_data"
    },
    {
     "name": "stdout",
     "output_type": "stream",
     "text": [
      "Type-1 ASR : 1.1%\n",
      "Type-2 ASR : 0.8%\n",
      "Source FRS : eigen_nfull_t1\n",
      "Target FRS : t5\n",
      "Target Dataset : LFW\n"
     ]
    },
    {
     "data": {
      "application/vnd.jupyter.widget-view+json": {
       "model_id": "077ca601d5784b128ea55b9d5764206a",
       "version_major": 2,
       "version_minor": 0
      },
      "text/plain": [
       "  0%|          | 0/3000 [00:00<?, ?it/s]"
      ]
     },
     "metadata": {},
     "output_type": "display_data"
    },
    {
     "name": "stdout",
     "output_type": "stream",
     "text": [
      "Type-1 ASR : 8.5%\n",
      "Type-2 ASR : 5.33%\n",
      "Source FRS : style_nfull_t1\n",
      "Target FRS : t5\n",
      "Target Dataset : LFW\n"
     ]
    },
    {
     "data": {
      "application/vnd.jupyter.widget-view+json": {
       "model_id": "c04220416d1843f292322e34e3915a21",
       "version_major": 2,
       "version_minor": 0
      },
      "text/plain": [
       "  0%|          | 0/3000 [00:00<?, ?it/s]"
      ]
     },
     "metadata": {},
     "output_type": "display_data"
    },
    {
     "name": "stdout",
     "output_type": "stream",
     "text": [
      "Type-1 ASR : 16.9%\n",
      "Type-2 ASR : 13.6%\n",
      "Source FRS : t1\n",
      "Target FRS : t5\n",
      "Target Dataset : LFW\n"
     ]
    },
    {
     "data": {
      "application/vnd.jupyter.widget-view+json": {
       "model_id": "95efadd0f4504d0c9b811cb1cc51cfa0",
       "version_major": 2,
       "version_minor": 0
      },
      "text/plain": [
       "  0%|          | 0/3000 [00:00<?, ?it/s]"
      ]
     },
     "metadata": {},
     "output_type": "display_data"
    },
    {
     "name": "stdout",
     "output_type": "stream",
     "text": [
      "Type-1 ASR : 55.57%\n",
      "Type-2 ASR : 46.43%\n"
     ]
    }
   ],
   "source": [
    "# Table 12 (bin)\n",
    "transp_t1 = check_transfer('t1',target_bin=True)\n",
    "transp_t2 = check_transfer('t2',target_bin=True)\n",
    "transp_t3 = check_transfer('t3',target_bin=True)\n",
    "transp_t4 = check_transfer('t4',target_bin=True)\n",
    "transp_t5 = check_transfer('t5',target_bin=True)\n",
    "# Table 12 (png)\n",
    "transp_t1_nb = check_transfer('t1',target_bin=False)\n",
    "transp_t2_nb = check_transfer('t2',target_bin=False)\n",
    "transp_t3_nb = check_transfer('t3',target_bin=False)\n",
    "transp_t4_nb = check_transfer('t4',target_bin=False)\n",
    "transp_t5_nb = check_transfer('t5',target_bin=False)"
   ]
  }
 ],
 "metadata": {
  "kernelspec": {
   "display_name": "Python 3 (ipykernel)",
   "language": "python",
   "name": "python3"
  },
  "language_info": {
   "codemirror_mode": {
    "name": "ipython",
    "version": 3
   },
   "file_extension": ".py",
   "mimetype": "text/x-python",
   "name": "python",
   "nbconvert_exporter": "python",
   "pygments_lexer": "ipython3",
   "version": "3.8.10"
  }
 },
 "nbformat": 4,
 "nbformat_minor": 5
}
